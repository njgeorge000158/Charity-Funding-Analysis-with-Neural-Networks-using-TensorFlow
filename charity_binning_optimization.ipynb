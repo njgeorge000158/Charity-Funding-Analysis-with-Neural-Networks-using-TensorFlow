{
 "cells": [
  {
   "cell_type": "code",
   "execution_count": 1,
   "metadata": {
    "colab": {
     "base_uri": "https://localhost:8080/",
     "height": 1000
    },
    "executionInfo": {
     "elapsed": 116780,
     "status": "ok",
     "timestamp": 1714775733833,
     "user": {
      "displayName": "Nicholas George",
      "userId": "08678589358873967227"
     },
     "user_tz": 420
    },
    "id": "unz_5hkYOUk1",
    "outputId": "c7da467e-fff7-4c0e-968d-2808d5161e4e"
   },
   "outputs": [
    {
     "data": {
      "application/javascript": [
       "(function(root) {\n",
       "  function now() {\n",
       "    return new Date();\n",
       "  }\n",
       "\n",
       "  var force = true;\n",
       "  var py_version = '3.4.1'.replace('rc', '-rc.').replace('.dev', '-dev.');\n",
       "  var reloading = false;\n",
       "  var Bokeh = root.Bokeh;\n",
       "\n",
       "  if (typeof (root._bokeh_timeout) === \"undefined\" || force) {\n",
       "    root._bokeh_timeout = Date.now() + 5000;\n",
       "    root._bokeh_failed_load = false;\n",
       "  }\n",
       "\n",
       "  function run_callbacks() {\n",
       "    try {\n",
       "      root._bokeh_onload_callbacks.forEach(function(callback) {\n",
       "        if (callback != null)\n",
       "          callback();\n",
       "      });\n",
       "    } finally {\n",
       "      delete root._bokeh_onload_callbacks;\n",
       "    }\n",
       "    console.debug(\"Bokeh: all callbacks have finished\");\n",
       "  }\n",
       "\n",
       "  function load_libs(css_urls, js_urls, js_modules, js_exports, callback) {\n",
       "    if (css_urls == null) css_urls = [];\n",
       "    if (js_urls == null) js_urls = [];\n",
       "    if (js_modules == null) js_modules = [];\n",
       "    if (js_exports == null) js_exports = {};\n",
       "\n",
       "    root._bokeh_onload_callbacks.push(callback);\n",
       "\n",
       "    if (root._bokeh_is_loading > 0) {\n",
       "      console.debug(\"Bokeh: BokehJS is being loaded, scheduling callback at\", now());\n",
       "      return null;\n",
       "    }\n",
       "    if (js_urls.length === 0 && js_modules.length === 0 && Object.keys(js_exports).length === 0) {\n",
       "      run_callbacks();\n",
       "      return null;\n",
       "    }\n",
       "    if (!reloading) {\n",
       "      console.debug(\"Bokeh: BokehJS not loaded, scheduling load and callback at\", now());\n",
       "    }\n",
       "\n",
       "    function on_load() {\n",
       "      root._bokeh_is_loading--;\n",
       "      if (root._bokeh_is_loading === 0) {\n",
       "        console.debug(\"Bokeh: all BokehJS libraries/stylesheets loaded\");\n",
       "        run_callbacks()\n",
       "      }\n",
       "    }\n",
       "    window._bokeh_on_load = on_load\n",
       "\n",
       "    function on_error() {\n",
       "      console.error(\"failed to load \" + url);\n",
       "    }\n",
       "\n",
       "    var skip = [];\n",
       "    if (window.requirejs) {\n",
       "      window.requirejs.config({'packages': {}, 'paths': {}, 'shim': {}});\n",
       "      root._bokeh_is_loading = css_urls.length + 0;\n",
       "    } else {\n",
       "      root._bokeh_is_loading = css_urls.length + js_urls.length + js_modules.length + Object.keys(js_exports).length;\n",
       "    }\n",
       "\n",
       "    var existing_stylesheets = []\n",
       "    var links = document.getElementsByTagName('link')\n",
       "    for (var i = 0; i < links.length; i++) {\n",
       "      var link = links[i]\n",
       "      if (link.href != null) {\n",
       "\texisting_stylesheets.push(link.href)\n",
       "      }\n",
       "    }\n",
       "    for (var i = 0; i < css_urls.length; i++) {\n",
       "      var url = css_urls[i];\n",
       "      if (existing_stylesheets.indexOf(url) !== -1) {\n",
       "\ton_load()\n",
       "\tcontinue;\n",
       "      }\n",
       "      const element = document.createElement(\"link\");\n",
       "      element.onload = on_load;\n",
       "      element.onerror = on_error;\n",
       "      element.rel = \"stylesheet\";\n",
       "      element.type = \"text/css\";\n",
       "      element.href = url;\n",
       "      console.debug(\"Bokeh: injecting link tag for BokehJS stylesheet: \", url);\n",
       "      document.body.appendChild(element);\n",
       "    }    var existing_scripts = []\n",
       "    var scripts = document.getElementsByTagName('script')\n",
       "    for (var i = 0; i < scripts.length; i++) {\n",
       "      var script = scripts[i]\n",
       "      if (script.src != null) {\n",
       "\texisting_scripts.push(script.src)\n",
       "      }\n",
       "    }\n",
       "    for (var i = 0; i < js_urls.length; i++) {\n",
       "      var url = js_urls[i];\n",
       "      if (skip.indexOf(url) !== -1 || existing_scripts.indexOf(url) !== -1) {\n",
       "\tif (!window.requirejs) {\n",
       "\t  on_load();\n",
       "\t}\n",
       "\tcontinue;\n",
       "      }\n",
       "      var element = document.createElement('script');\n",
       "      element.onload = on_load;\n",
       "      element.onerror = on_error;\n",
       "      element.async = false;\n",
       "      element.src = url;\n",
       "      console.debug(\"Bokeh: injecting script tag for BokehJS library: \", url);\n",
       "      document.head.appendChild(element);\n",
       "    }\n",
       "    for (var i = 0; i < js_modules.length; i++) {\n",
       "      var url = js_modules[i];\n",
       "      if (skip.indexOf(url) !== -1 || existing_scripts.indexOf(url) !== -1) {\n",
       "\tif (!window.requirejs) {\n",
       "\t  on_load();\n",
       "\t}\n",
       "\tcontinue;\n",
       "      }\n",
       "      var element = document.createElement('script');\n",
       "      element.onload = on_load;\n",
       "      element.onerror = on_error;\n",
       "      element.async = false;\n",
       "      element.src = url;\n",
       "      element.type = \"module\";\n",
       "      console.debug(\"Bokeh: injecting script tag for BokehJS library: \", url);\n",
       "      document.head.appendChild(element);\n",
       "    }\n",
       "    for (const name in js_exports) {\n",
       "      var url = js_exports[name];\n",
       "      if (skip.indexOf(url) >= 0 || root[name] != null) {\n",
       "\tif (!window.requirejs) {\n",
       "\t  on_load();\n",
       "\t}\n",
       "\tcontinue;\n",
       "      }\n",
       "      var element = document.createElement('script');\n",
       "      element.onerror = on_error;\n",
       "      element.async = false;\n",
       "      element.type = \"module\";\n",
       "      console.debug(\"Bokeh: injecting script tag for BokehJS library: \", url);\n",
       "      element.textContent = `\n",
       "      import ${name} from \"${url}\"\n",
       "      window.${name} = ${name}\n",
       "      window._bokeh_on_load()\n",
       "      `\n",
       "      document.head.appendChild(element);\n",
       "    }\n",
       "    if (!js_urls.length && !js_modules.length) {\n",
       "      on_load()\n",
       "    }\n",
       "  };\n",
       "\n",
       "  function inject_raw_css(css) {\n",
       "    const element = document.createElement(\"style\");\n",
       "    element.appendChild(document.createTextNode(css));\n",
       "    document.body.appendChild(element);\n",
       "  }\n",
       "\n",
       "  var js_urls = [\"https://cdn.bokeh.org/bokeh/release/bokeh-3.4.1.min.js\", \"https://cdn.bokeh.org/bokeh/release/bokeh-gl-3.4.1.min.js\", \"https://cdn.bokeh.org/bokeh/release/bokeh-widgets-3.4.1.min.js\", \"https://cdn.bokeh.org/bokeh/release/bokeh-tables-3.4.1.min.js\", \"https://cdn.holoviz.org/panel/1.4.1/dist/panel.min.js\"];\n",
       "  var js_modules = [];\n",
       "  var js_exports = {};\n",
       "  var css_urls = [];\n",
       "  var inline_js = [    function(Bokeh) {\n",
       "      Bokeh.set_log_level(\"info\");\n",
       "    },\n",
       "function(Bokeh) {} // ensure no trailing comma for IE\n",
       "  ];\n",
       "\n",
       "  function run_inline_js() {\n",
       "    if ((root.Bokeh !== undefined) || (force === true)) {\n",
       "      for (var i = 0; i < inline_js.length; i++) {\n",
       "\ttry {\n",
       "          inline_js[i].call(root, root.Bokeh);\n",
       "\t} catch(e) {\n",
       "\t  if (!reloading) {\n",
       "\t    throw e;\n",
       "\t  }\n",
       "\t}\n",
       "      }\n",
       "      // Cache old bokeh versions\n",
       "      if (Bokeh != undefined && !reloading) {\n",
       "\tvar NewBokeh = root.Bokeh;\n",
       "\tif (Bokeh.versions === undefined) {\n",
       "\t  Bokeh.versions = new Map();\n",
       "\t}\n",
       "\tif (NewBokeh.version !== Bokeh.version) {\n",
       "\t  Bokeh.versions.set(NewBokeh.version, NewBokeh)\n",
       "\t}\n",
       "\troot.Bokeh = Bokeh;\n",
       "      }} else if (Date.now() < root._bokeh_timeout) {\n",
       "      setTimeout(run_inline_js, 100);\n",
       "    } else if (!root._bokeh_failed_load) {\n",
       "      console.log(\"Bokeh: BokehJS failed to load within specified timeout.\");\n",
       "      root._bokeh_failed_load = true;\n",
       "    }\n",
       "    root._bokeh_is_initializing = false\n",
       "  }\n",
       "\n",
       "  function load_or_wait() {\n",
       "    // Implement a backoff loop that tries to ensure we do not load multiple\n",
       "    // versions of Bokeh and its dependencies at the same time.\n",
       "    // In recent versions we use the root._bokeh_is_initializing flag\n",
       "    // to determine whether there is an ongoing attempt to initialize\n",
       "    // bokeh, however for backward compatibility we also try to ensure\n",
       "    // that we do not start loading a newer (Panel>=1.0 and Bokeh>3) version\n",
       "    // before older versions are fully initialized.\n",
       "    if (root._bokeh_is_initializing && Date.now() > root._bokeh_timeout) {\n",
       "      root._bokeh_is_initializing = false;\n",
       "      root._bokeh_onload_callbacks = undefined;\n",
       "      console.log(\"Bokeh: BokehJS was loaded multiple times but one version failed to initialize.\");\n",
       "      load_or_wait();\n",
       "    } else if (root._bokeh_is_initializing || (typeof root._bokeh_is_initializing === \"undefined\" && root._bokeh_onload_callbacks !== undefined)) {\n",
       "      setTimeout(load_or_wait, 100);\n",
       "    } else {\n",
       "      root._bokeh_is_initializing = true\n",
       "      root._bokeh_onload_callbacks = []\n",
       "      var bokeh_loaded = Bokeh != null && (Bokeh.version === py_version || (Bokeh.versions !== undefined && Bokeh.versions.has(py_version)));\n",
       "      if (!reloading && !bokeh_loaded) {\n",
       "\troot.Bokeh = undefined;\n",
       "      }\n",
       "      load_libs(css_urls, js_urls, js_modules, js_exports, function() {\n",
       "\tconsole.debug(\"Bokeh: BokehJS plotting callback run at\", now());\n",
       "\trun_inline_js();\n",
       "      });\n",
       "    }\n",
       "  }\n",
       "  // Give older versions of the autoload script a head-start to ensure\n",
       "  // they initialize before we start loading newer version.\n",
       "  setTimeout(load_or_wait, 100)\n",
       "}(window));"
      ],
      "application/vnd.holoviews_load.v0+json": "(function(root) {\n  function now() {\n    return new Date();\n  }\n\n  var force = true;\n  var py_version = '3.4.1'.replace('rc', '-rc.').replace('.dev', '-dev.');\n  var reloading = false;\n  var Bokeh = root.Bokeh;\n\n  if (typeof (root._bokeh_timeout) === \"undefined\" || force) {\n    root._bokeh_timeout = Date.now() + 5000;\n    root._bokeh_failed_load = false;\n  }\n\n  function run_callbacks() {\n    try {\n      root._bokeh_onload_callbacks.forEach(function(callback) {\n        if (callback != null)\n          callback();\n      });\n    } finally {\n      delete root._bokeh_onload_callbacks;\n    }\n    console.debug(\"Bokeh: all callbacks have finished\");\n  }\n\n  function load_libs(css_urls, js_urls, js_modules, js_exports, callback) {\n    if (css_urls == null) css_urls = [];\n    if (js_urls == null) js_urls = [];\n    if (js_modules == null) js_modules = [];\n    if (js_exports == null) js_exports = {};\n\n    root._bokeh_onload_callbacks.push(callback);\n\n    if (root._bokeh_is_loading > 0) {\n      console.debug(\"Bokeh: BokehJS is being loaded, scheduling callback at\", now());\n      return null;\n    }\n    if (js_urls.length === 0 && js_modules.length === 0 && Object.keys(js_exports).length === 0) {\n      run_callbacks();\n      return null;\n    }\n    if (!reloading) {\n      console.debug(\"Bokeh: BokehJS not loaded, scheduling load and callback at\", now());\n    }\n\n    function on_load() {\n      root._bokeh_is_loading--;\n      if (root._bokeh_is_loading === 0) {\n        console.debug(\"Bokeh: all BokehJS libraries/stylesheets loaded\");\n        run_callbacks()\n      }\n    }\n    window._bokeh_on_load = on_load\n\n    function on_error() {\n      console.error(\"failed to load \" + url);\n    }\n\n    var skip = [];\n    if (window.requirejs) {\n      window.requirejs.config({'packages': {}, 'paths': {}, 'shim': {}});\n      root._bokeh_is_loading = css_urls.length + 0;\n    } else {\n      root._bokeh_is_loading = css_urls.length + js_urls.length + js_modules.length + Object.keys(js_exports).length;\n    }\n\n    var existing_stylesheets = []\n    var links = document.getElementsByTagName('link')\n    for (var i = 0; i < links.length; i++) {\n      var link = links[i]\n      if (link.href != null) {\n\texisting_stylesheets.push(link.href)\n      }\n    }\n    for (var i = 0; i < css_urls.length; i++) {\n      var url = css_urls[i];\n      if (existing_stylesheets.indexOf(url) !== -1) {\n\ton_load()\n\tcontinue;\n      }\n      const element = document.createElement(\"link\");\n      element.onload = on_load;\n      element.onerror = on_error;\n      element.rel = \"stylesheet\";\n      element.type = \"text/css\";\n      element.href = url;\n      console.debug(\"Bokeh: injecting link tag for BokehJS stylesheet: \", url);\n      document.body.appendChild(element);\n    }    var existing_scripts = []\n    var scripts = document.getElementsByTagName('script')\n    for (var i = 0; i < scripts.length; i++) {\n      var script = scripts[i]\n      if (script.src != null) {\n\texisting_scripts.push(script.src)\n      }\n    }\n    for (var i = 0; i < js_urls.length; i++) {\n      var url = js_urls[i];\n      if (skip.indexOf(url) !== -1 || existing_scripts.indexOf(url) !== -1) {\n\tif (!window.requirejs) {\n\t  on_load();\n\t}\n\tcontinue;\n      }\n      var element = document.createElement('script');\n      element.onload = on_load;\n      element.onerror = on_error;\n      element.async = false;\n      element.src = url;\n      console.debug(\"Bokeh: injecting script tag for BokehJS library: \", url);\n      document.head.appendChild(element);\n    }\n    for (var i = 0; i < js_modules.length; i++) {\n      var url = js_modules[i];\n      if (skip.indexOf(url) !== -1 || existing_scripts.indexOf(url) !== -1) {\n\tif (!window.requirejs) {\n\t  on_load();\n\t}\n\tcontinue;\n      }\n      var element = document.createElement('script');\n      element.onload = on_load;\n      element.onerror = on_error;\n      element.async = false;\n      element.src = url;\n      element.type = \"module\";\n      console.debug(\"Bokeh: injecting script tag for BokehJS library: \", url);\n      document.head.appendChild(element);\n    }\n    for (const name in js_exports) {\n      var url = js_exports[name];\n      if (skip.indexOf(url) >= 0 || root[name] != null) {\n\tif (!window.requirejs) {\n\t  on_load();\n\t}\n\tcontinue;\n      }\n      var element = document.createElement('script');\n      element.onerror = on_error;\n      element.async = false;\n      element.type = \"module\";\n      console.debug(\"Bokeh: injecting script tag for BokehJS library: \", url);\n      element.textContent = `\n      import ${name} from \"${url}\"\n      window.${name} = ${name}\n      window._bokeh_on_load()\n      `\n      document.head.appendChild(element);\n    }\n    if (!js_urls.length && !js_modules.length) {\n      on_load()\n    }\n  };\n\n  function inject_raw_css(css) {\n    const element = document.createElement(\"style\");\n    element.appendChild(document.createTextNode(css));\n    document.body.appendChild(element);\n  }\n\n  var js_urls = [\"https://cdn.bokeh.org/bokeh/release/bokeh-3.4.1.min.js\", \"https://cdn.bokeh.org/bokeh/release/bokeh-gl-3.4.1.min.js\", \"https://cdn.bokeh.org/bokeh/release/bokeh-widgets-3.4.1.min.js\", \"https://cdn.bokeh.org/bokeh/release/bokeh-tables-3.4.1.min.js\", \"https://cdn.holoviz.org/panel/1.4.1/dist/panel.min.js\"];\n  var js_modules = [];\n  var js_exports = {};\n  var css_urls = [];\n  var inline_js = [    function(Bokeh) {\n      Bokeh.set_log_level(\"info\");\n    },\nfunction(Bokeh) {} // ensure no trailing comma for IE\n  ];\n\n  function run_inline_js() {\n    if ((root.Bokeh !== undefined) || (force === true)) {\n      for (var i = 0; i < inline_js.length; i++) {\n\ttry {\n          inline_js[i].call(root, root.Bokeh);\n\t} catch(e) {\n\t  if (!reloading) {\n\t    throw e;\n\t  }\n\t}\n      }\n      // Cache old bokeh versions\n      if (Bokeh != undefined && !reloading) {\n\tvar NewBokeh = root.Bokeh;\n\tif (Bokeh.versions === undefined) {\n\t  Bokeh.versions = new Map();\n\t}\n\tif (NewBokeh.version !== Bokeh.version) {\n\t  Bokeh.versions.set(NewBokeh.version, NewBokeh)\n\t}\n\troot.Bokeh = Bokeh;\n      }} else if (Date.now() < root._bokeh_timeout) {\n      setTimeout(run_inline_js, 100);\n    } else if (!root._bokeh_failed_load) {\n      console.log(\"Bokeh: BokehJS failed to load within specified timeout.\");\n      root._bokeh_failed_load = true;\n    }\n    root._bokeh_is_initializing = false\n  }\n\n  function load_or_wait() {\n    // Implement a backoff loop that tries to ensure we do not load multiple\n    // versions of Bokeh and its dependencies at the same time.\n    // In recent versions we use the root._bokeh_is_initializing flag\n    // to determine whether there is an ongoing attempt to initialize\n    // bokeh, however for backward compatibility we also try to ensure\n    // that we do not start loading a newer (Panel>=1.0 and Bokeh>3) version\n    // before older versions are fully initialized.\n    if (root._bokeh_is_initializing && Date.now() > root._bokeh_timeout) {\n      root._bokeh_is_initializing = false;\n      root._bokeh_onload_callbacks = undefined;\n      console.log(\"Bokeh: BokehJS was loaded multiple times but one version failed to initialize.\");\n      load_or_wait();\n    } else if (root._bokeh_is_initializing || (typeof root._bokeh_is_initializing === \"undefined\" && root._bokeh_onload_callbacks !== undefined)) {\n      setTimeout(load_or_wait, 100);\n    } else {\n      root._bokeh_is_initializing = true\n      root._bokeh_onload_callbacks = []\n      var bokeh_loaded = Bokeh != null && (Bokeh.version === py_version || (Bokeh.versions !== undefined && Bokeh.versions.has(py_version)));\n      if (!reloading && !bokeh_loaded) {\n\troot.Bokeh = undefined;\n      }\n      load_libs(css_urls, js_urls, js_modules, js_exports, function() {\n\tconsole.debug(\"Bokeh: BokehJS plotting callback run at\", now());\n\trun_inline_js();\n      });\n    }\n  }\n  // Give older versions of the autoload script a head-start to ensure\n  // they initialize before we start loading newer version.\n  setTimeout(load_or_wait, 100)\n}(window));"
     },
     "metadata": {},
     "output_type": "display_data"
    },
    {
     "data": {
      "application/javascript": [
       "\n",
       "if ((window.PyViz === undefined) || (window.PyViz instanceof HTMLElement)) {\n",
       "  window.PyViz = {comms: {}, comm_status:{}, kernels:{}, receivers: {}, plot_index: []}\n",
       "}\n",
       "\n",
       "\n",
       "    function JupyterCommManager() {\n",
       "    }\n",
       "\n",
       "    JupyterCommManager.prototype.register_target = function(plot_id, comm_id, msg_handler) {\n",
       "      if (window.comm_manager || ((window.Jupyter !== undefined) && (Jupyter.notebook.kernel != null))) {\n",
       "        var comm_manager = window.comm_manager || Jupyter.notebook.kernel.comm_manager;\n",
       "        comm_manager.register_target(comm_id, function(comm) {\n",
       "          comm.on_msg(msg_handler);\n",
       "        });\n",
       "      } else if ((plot_id in window.PyViz.kernels) && (window.PyViz.kernels[plot_id])) {\n",
       "        window.PyViz.kernels[plot_id].registerCommTarget(comm_id, function(comm) {\n",
       "          comm.onMsg = msg_handler;\n",
       "        });\n",
       "      } else if (typeof google != 'undefined' && google.colab.kernel != null) {\n",
       "        google.colab.kernel.comms.registerTarget(comm_id, (comm) => {\n",
       "          var messages = comm.messages[Symbol.asyncIterator]();\n",
       "          function processIteratorResult(result) {\n",
       "            var message = result.value;\n",
       "            console.log(message)\n",
       "            var content = {data: message.data, comm_id};\n",
       "            var buffers = []\n",
       "            for (var buffer of message.buffers || []) {\n",
       "              buffers.push(new DataView(buffer))\n",
       "            }\n",
       "            var metadata = message.metadata || {};\n",
       "            var msg = {content, buffers, metadata}\n",
       "            msg_handler(msg);\n",
       "            return messages.next().then(processIteratorResult);\n",
       "          }\n",
       "          return messages.next().then(processIteratorResult);\n",
       "        })\n",
       "      }\n",
       "    }\n",
       "\n",
       "    JupyterCommManager.prototype.get_client_comm = function(plot_id, comm_id, msg_handler) {\n",
       "      if (comm_id in window.PyViz.comms) {\n",
       "        return window.PyViz.comms[comm_id];\n",
       "      } else if (window.comm_manager || ((window.Jupyter !== undefined) && (Jupyter.notebook.kernel != null))) {\n",
       "        var comm_manager = window.comm_manager || Jupyter.notebook.kernel.comm_manager;\n",
       "        var comm = comm_manager.new_comm(comm_id, {}, {}, {}, comm_id);\n",
       "        if (msg_handler) {\n",
       "          comm.on_msg(msg_handler);\n",
       "        }\n",
       "      } else if ((plot_id in window.PyViz.kernels) && (window.PyViz.kernels[plot_id])) {\n",
       "        var comm = window.PyViz.kernels[plot_id].connectToComm(comm_id);\n",
       "        comm.open();\n",
       "        if (msg_handler) {\n",
       "          comm.onMsg = msg_handler;\n",
       "        }\n",
       "      } else if (typeof google != 'undefined' && google.colab.kernel != null) {\n",
       "        var comm_promise = google.colab.kernel.comms.open(comm_id)\n",
       "        comm_promise.then((comm) => {\n",
       "          window.PyViz.comms[comm_id] = comm;\n",
       "          if (msg_handler) {\n",
       "            var messages = comm.messages[Symbol.asyncIterator]();\n",
       "            function processIteratorResult(result) {\n",
       "              var message = result.value;\n",
       "              var content = {data: message.data};\n",
       "              var metadata = message.metadata || {comm_id};\n",
       "              var msg = {content, metadata}\n",
       "              msg_handler(msg);\n",
       "              return messages.next().then(processIteratorResult);\n",
       "            }\n",
       "            return messages.next().then(processIteratorResult);\n",
       "          }\n",
       "        }) \n",
       "        var sendClosure = (data, metadata, buffers, disposeOnDone) => {\n",
       "          return comm_promise.then((comm) => {\n",
       "            comm.send(data, metadata, buffers, disposeOnDone);\n",
       "          });\n",
       "        };\n",
       "        var comm = {\n",
       "          send: sendClosure\n",
       "        };\n",
       "      }\n",
       "      window.PyViz.comms[comm_id] = comm;\n",
       "      return comm;\n",
       "    }\n",
       "    window.PyViz.comm_manager = new JupyterCommManager();\n",
       "    \n",
       "\n",
       "\n",
       "var JS_MIME_TYPE = 'application/javascript';\n",
       "var HTML_MIME_TYPE = 'text/html';\n",
       "var EXEC_MIME_TYPE = 'application/vnd.holoviews_exec.v0+json';\n",
       "var CLASS_NAME = 'output';\n",
       "\n",
       "/**\n",
       " * Render data to the DOM node\n",
       " */\n",
       "function render(props, node) {\n",
       "  var div = document.createElement(\"div\");\n",
       "  var script = document.createElement(\"script\");\n",
       "  node.appendChild(div);\n",
       "  node.appendChild(script);\n",
       "}\n",
       "\n",
       "/**\n",
       " * Handle when a new output is added\n",
       " */\n",
       "function handle_add_output(event, handle) {\n",
       "  var output_area = handle.output_area;\n",
       "  var output = handle.output;\n",
       "  if ((output.data == undefined) || (!output.data.hasOwnProperty(EXEC_MIME_TYPE))) {\n",
       "    return\n",
       "  }\n",
       "  var id = output.metadata[EXEC_MIME_TYPE][\"id\"];\n",
       "  var toinsert = output_area.element.find(\".\" + CLASS_NAME.split(' ')[0]);\n",
       "  if (id !== undefined) {\n",
       "    var nchildren = toinsert.length;\n",
       "    var html_node = toinsert[nchildren-1].children[0];\n",
       "    html_node.innerHTML = output.data[HTML_MIME_TYPE];\n",
       "    var scripts = [];\n",
       "    var nodelist = html_node.querySelectorAll(\"script\");\n",
       "    for (var i in nodelist) {\n",
       "      if (nodelist.hasOwnProperty(i)) {\n",
       "        scripts.push(nodelist[i])\n",
       "      }\n",
       "    }\n",
       "\n",
       "    scripts.forEach( function (oldScript) {\n",
       "      var newScript = document.createElement(\"script\");\n",
       "      var attrs = [];\n",
       "      var nodemap = oldScript.attributes;\n",
       "      for (var j in nodemap) {\n",
       "        if (nodemap.hasOwnProperty(j)) {\n",
       "          attrs.push(nodemap[j])\n",
       "        }\n",
       "      }\n",
       "      attrs.forEach(function(attr) { newScript.setAttribute(attr.name, attr.value) });\n",
       "      newScript.appendChild(document.createTextNode(oldScript.innerHTML));\n",
       "      oldScript.parentNode.replaceChild(newScript, oldScript);\n",
       "    });\n",
       "    if (JS_MIME_TYPE in output.data) {\n",
       "      toinsert[nchildren-1].children[1].textContent = output.data[JS_MIME_TYPE];\n",
       "    }\n",
       "    output_area._hv_plot_id = id;\n",
       "    if ((window.Bokeh !== undefined) && (id in Bokeh.index)) {\n",
       "      window.PyViz.plot_index[id] = Bokeh.index[id];\n",
       "    } else {\n",
       "      window.PyViz.plot_index[id] = null;\n",
       "    }\n",
       "  } else if (output.metadata[EXEC_MIME_TYPE][\"server_id\"] !== undefined) {\n",
       "    var bk_div = document.createElement(\"div\");\n",
       "    bk_div.innerHTML = output.data[HTML_MIME_TYPE];\n",
       "    var script_attrs = bk_div.children[0].attributes;\n",
       "    for (var i = 0; i < script_attrs.length; i++) {\n",
       "      toinsert[toinsert.length - 1].childNodes[1].setAttribute(script_attrs[i].name, script_attrs[i].value);\n",
       "    }\n",
       "    // store reference to server id on output_area\n",
       "    output_area._bokeh_server_id = output.metadata[EXEC_MIME_TYPE][\"server_id\"];\n",
       "  }\n",
       "}\n",
       "\n",
       "/**\n",
       " * Handle when an output is cleared or removed\n",
       " */\n",
       "function handle_clear_output(event, handle) {\n",
       "  var id = handle.cell.output_area._hv_plot_id;\n",
       "  var server_id = handle.cell.output_area._bokeh_server_id;\n",
       "  if (((id === undefined) || !(id in PyViz.plot_index)) && (server_id !== undefined)) { return; }\n",
       "  var comm = window.PyViz.comm_manager.get_client_comm(\"hv-extension-comm\", \"hv-extension-comm\", function () {});\n",
       "  if (server_id !== null) {\n",
       "    comm.send({event_type: 'server_delete', 'id': server_id});\n",
       "    return;\n",
       "  } else if (comm !== null) {\n",
       "    comm.send({event_type: 'delete', 'id': id});\n",
       "  }\n",
       "  delete PyViz.plot_index[id];\n",
       "  if ((window.Bokeh !== undefined) & (id in window.Bokeh.index)) {\n",
       "    var doc = window.Bokeh.index[id].model.document\n",
       "    doc.clear();\n",
       "    const i = window.Bokeh.documents.indexOf(doc);\n",
       "    if (i > -1) {\n",
       "      window.Bokeh.documents.splice(i, 1);\n",
       "    }\n",
       "  }\n",
       "}\n",
       "\n",
       "/**\n",
       " * Handle kernel restart event\n",
       " */\n",
       "function handle_kernel_cleanup(event, handle) {\n",
       "  delete PyViz.comms[\"hv-extension-comm\"];\n",
       "  window.PyViz.plot_index = {}\n",
       "}\n",
       "\n",
       "/**\n",
       " * Handle update_display_data messages\n",
       " */\n",
       "function handle_update_output(event, handle) {\n",
       "  handle_clear_output(event, {cell: {output_area: handle.output_area}})\n",
       "  handle_add_output(event, handle)\n",
       "}\n",
       "\n",
       "function register_renderer(events, OutputArea) {\n",
       "  function append_mime(data, metadata, element) {\n",
       "    // create a DOM node to render to\n",
       "    var toinsert = this.create_output_subarea(\n",
       "    metadata,\n",
       "    CLASS_NAME,\n",
       "    EXEC_MIME_TYPE\n",
       "    );\n",
       "    this.keyboard_manager.register_events(toinsert);\n",
       "    // Render to node\n",
       "    var props = {data: data, metadata: metadata[EXEC_MIME_TYPE]};\n",
       "    render(props, toinsert[0]);\n",
       "    element.append(toinsert);\n",
       "    return toinsert\n",
       "  }\n",
       "\n",
       "  events.on('output_added.OutputArea', handle_add_output);\n",
       "  events.on('output_updated.OutputArea', handle_update_output);\n",
       "  events.on('clear_output.CodeCell', handle_clear_output);\n",
       "  events.on('delete.Cell', handle_clear_output);\n",
       "  events.on('kernel_ready.Kernel', handle_kernel_cleanup);\n",
       "\n",
       "  OutputArea.prototype.register_mime_type(EXEC_MIME_TYPE, append_mime, {\n",
       "    safe: true,\n",
       "    index: 0\n",
       "  });\n",
       "}\n",
       "\n",
       "if (window.Jupyter !== undefined) {\n",
       "  try {\n",
       "    var events = require('base/js/events');\n",
       "    var OutputArea = require('notebook/js/outputarea').OutputArea;\n",
       "    if (OutputArea.prototype.mime_types().indexOf(EXEC_MIME_TYPE) == -1) {\n",
       "      register_renderer(events, OutputArea);\n",
       "    }\n",
       "  } catch(err) {\n",
       "  }\n",
       "}\n"
      ],
      "application/vnd.holoviews_load.v0+json": "\nif ((window.PyViz === undefined) || (window.PyViz instanceof HTMLElement)) {\n  window.PyViz = {comms: {}, comm_status:{}, kernels:{}, receivers: {}, plot_index: []}\n}\n\n\n    function JupyterCommManager() {\n    }\n\n    JupyterCommManager.prototype.register_target = function(plot_id, comm_id, msg_handler) {\n      if (window.comm_manager || ((window.Jupyter !== undefined) && (Jupyter.notebook.kernel != null))) {\n        var comm_manager = window.comm_manager || Jupyter.notebook.kernel.comm_manager;\n        comm_manager.register_target(comm_id, function(comm) {\n          comm.on_msg(msg_handler);\n        });\n      } else if ((plot_id in window.PyViz.kernels) && (window.PyViz.kernels[plot_id])) {\n        window.PyViz.kernels[plot_id].registerCommTarget(comm_id, function(comm) {\n          comm.onMsg = msg_handler;\n        });\n      } else if (typeof google != 'undefined' && google.colab.kernel != null) {\n        google.colab.kernel.comms.registerTarget(comm_id, (comm) => {\n          var messages = comm.messages[Symbol.asyncIterator]();\n          function processIteratorResult(result) {\n            var message = result.value;\n            console.log(message)\n            var content = {data: message.data, comm_id};\n            var buffers = []\n            for (var buffer of message.buffers || []) {\n              buffers.push(new DataView(buffer))\n            }\n            var metadata = message.metadata || {};\n            var msg = {content, buffers, metadata}\n            msg_handler(msg);\n            return messages.next().then(processIteratorResult);\n          }\n          return messages.next().then(processIteratorResult);\n        })\n      }\n    }\n\n    JupyterCommManager.prototype.get_client_comm = function(plot_id, comm_id, msg_handler) {\n      if (comm_id in window.PyViz.comms) {\n        return window.PyViz.comms[comm_id];\n      } else if (window.comm_manager || ((window.Jupyter !== undefined) && (Jupyter.notebook.kernel != null))) {\n        var comm_manager = window.comm_manager || Jupyter.notebook.kernel.comm_manager;\n        var comm = comm_manager.new_comm(comm_id, {}, {}, {}, comm_id);\n        if (msg_handler) {\n          comm.on_msg(msg_handler);\n        }\n      } else if ((plot_id in window.PyViz.kernels) && (window.PyViz.kernels[plot_id])) {\n        var comm = window.PyViz.kernels[plot_id].connectToComm(comm_id);\n        comm.open();\n        if (msg_handler) {\n          comm.onMsg = msg_handler;\n        }\n      } else if (typeof google != 'undefined' && google.colab.kernel != null) {\n        var comm_promise = google.colab.kernel.comms.open(comm_id)\n        comm_promise.then((comm) => {\n          window.PyViz.comms[comm_id] = comm;\n          if (msg_handler) {\n            var messages = comm.messages[Symbol.asyncIterator]();\n            function processIteratorResult(result) {\n              var message = result.value;\n              var content = {data: message.data};\n              var metadata = message.metadata || {comm_id};\n              var msg = {content, metadata}\n              msg_handler(msg);\n              return messages.next().then(processIteratorResult);\n            }\n            return messages.next().then(processIteratorResult);\n          }\n        }) \n        var sendClosure = (data, metadata, buffers, disposeOnDone) => {\n          return comm_promise.then((comm) => {\n            comm.send(data, metadata, buffers, disposeOnDone);\n          });\n        };\n        var comm = {\n          send: sendClosure\n        };\n      }\n      window.PyViz.comms[comm_id] = comm;\n      return comm;\n    }\n    window.PyViz.comm_manager = new JupyterCommManager();\n    \n\n\nvar JS_MIME_TYPE = 'application/javascript';\nvar HTML_MIME_TYPE = 'text/html';\nvar EXEC_MIME_TYPE = 'application/vnd.holoviews_exec.v0+json';\nvar CLASS_NAME = 'output';\n\n/**\n * Render data to the DOM node\n */\nfunction render(props, node) {\n  var div = document.createElement(\"div\");\n  var script = document.createElement(\"script\");\n  node.appendChild(div);\n  node.appendChild(script);\n}\n\n/**\n * Handle when a new output is added\n */\nfunction handle_add_output(event, handle) {\n  var output_area = handle.output_area;\n  var output = handle.output;\n  if ((output.data == undefined) || (!output.data.hasOwnProperty(EXEC_MIME_TYPE))) {\n    return\n  }\n  var id = output.metadata[EXEC_MIME_TYPE][\"id\"];\n  var toinsert = output_area.element.find(\".\" + CLASS_NAME.split(' ')[0]);\n  if (id !== undefined) {\n    var nchildren = toinsert.length;\n    var html_node = toinsert[nchildren-1].children[0];\n    html_node.innerHTML = output.data[HTML_MIME_TYPE];\n    var scripts = [];\n    var nodelist = html_node.querySelectorAll(\"script\");\n    for (var i in nodelist) {\n      if (nodelist.hasOwnProperty(i)) {\n        scripts.push(nodelist[i])\n      }\n    }\n\n    scripts.forEach( function (oldScript) {\n      var newScript = document.createElement(\"script\");\n      var attrs = [];\n      var nodemap = oldScript.attributes;\n      for (var j in nodemap) {\n        if (nodemap.hasOwnProperty(j)) {\n          attrs.push(nodemap[j])\n        }\n      }\n      attrs.forEach(function(attr) { newScript.setAttribute(attr.name, attr.value) });\n      newScript.appendChild(document.createTextNode(oldScript.innerHTML));\n      oldScript.parentNode.replaceChild(newScript, oldScript);\n    });\n    if (JS_MIME_TYPE in output.data) {\n      toinsert[nchildren-1].children[1].textContent = output.data[JS_MIME_TYPE];\n    }\n    output_area._hv_plot_id = id;\n    if ((window.Bokeh !== undefined) && (id in Bokeh.index)) {\n      window.PyViz.plot_index[id] = Bokeh.index[id];\n    } else {\n      window.PyViz.plot_index[id] = null;\n    }\n  } else if (output.metadata[EXEC_MIME_TYPE][\"server_id\"] !== undefined) {\n    var bk_div = document.createElement(\"div\");\n    bk_div.innerHTML = output.data[HTML_MIME_TYPE];\n    var script_attrs = bk_div.children[0].attributes;\n    for (var i = 0; i < script_attrs.length; i++) {\n      toinsert[toinsert.length - 1].childNodes[1].setAttribute(script_attrs[i].name, script_attrs[i].value);\n    }\n    // store reference to server id on output_area\n    output_area._bokeh_server_id = output.metadata[EXEC_MIME_TYPE][\"server_id\"];\n  }\n}\n\n/**\n * Handle when an output is cleared or removed\n */\nfunction handle_clear_output(event, handle) {\n  var id = handle.cell.output_area._hv_plot_id;\n  var server_id = handle.cell.output_area._bokeh_server_id;\n  if (((id === undefined) || !(id in PyViz.plot_index)) && (server_id !== undefined)) { return; }\n  var comm = window.PyViz.comm_manager.get_client_comm(\"hv-extension-comm\", \"hv-extension-comm\", function () {});\n  if (server_id !== null) {\n    comm.send({event_type: 'server_delete', 'id': server_id});\n    return;\n  } else if (comm !== null) {\n    comm.send({event_type: 'delete', 'id': id});\n  }\n  delete PyViz.plot_index[id];\n  if ((window.Bokeh !== undefined) & (id in window.Bokeh.index)) {\n    var doc = window.Bokeh.index[id].model.document\n    doc.clear();\n    const i = window.Bokeh.documents.indexOf(doc);\n    if (i > -1) {\n      window.Bokeh.documents.splice(i, 1);\n    }\n  }\n}\n\n/**\n * Handle kernel restart event\n */\nfunction handle_kernel_cleanup(event, handle) {\n  delete PyViz.comms[\"hv-extension-comm\"];\n  window.PyViz.plot_index = {}\n}\n\n/**\n * Handle update_display_data messages\n */\nfunction handle_update_output(event, handle) {\n  handle_clear_output(event, {cell: {output_area: handle.output_area}})\n  handle_add_output(event, handle)\n}\n\nfunction register_renderer(events, OutputArea) {\n  function append_mime(data, metadata, element) {\n    // create a DOM node to render to\n    var toinsert = this.create_output_subarea(\n    metadata,\n    CLASS_NAME,\n    EXEC_MIME_TYPE\n    );\n    this.keyboard_manager.register_events(toinsert);\n    // Render to node\n    var props = {data: data, metadata: metadata[EXEC_MIME_TYPE]};\n    render(props, toinsert[0]);\n    element.append(toinsert);\n    return toinsert\n  }\n\n  events.on('output_added.OutputArea', handle_add_output);\n  events.on('output_updated.OutputArea', handle_update_output);\n  events.on('clear_output.CodeCell', handle_clear_output);\n  events.on('delete.Cell', handle_clear_output);\n  events.on('kernel_ready.Kernel', handle_kernel_cleanup);\n\n  OutputArea.prototype.register_mime_type(EXEC_MIME_TYPE, append_mime, {\n    safe: true,\n    index: 0\n  });\n}\n\nif (window.Jupyter !== undefined) {\n  try {\n    var events = require('base/js/events');\n    var OutputArea = require('notebook/js/outputarea').OutputArea;\n    if (OutputArea.prototype.mime_types().indexOf(EXEC_MIME_TYPE) == -1) {\n      register_renderer(events, OutputArea);\n    }\n  } catch(err) {\n  }\n}\n"
     },
     "metadata": {},
     "output_type": "display_data"
    },
    {
     "data": {
      "text/html": [
       "<style>*[data-root-id],\n",
       "*[data-root-id] > * {\n",
       "  box-sizing: border-box;\n",
       "  font-family: var(--jp-ui-font-family);\n",
       "  font-size: var(--jp-ui-font-size1);\n",
       "  color: var(--vscode-editor-foreground, var(--jp-ui-font-color1));\n",
       "}\n",
       "\n",
       "/* Override VSCode background color */\n",
       ".cell-output-ipywidget-background:has(\n",
       "    > .cell-output-ipywidget-background > .lm-Widget > *[data-root-id]\n",
       "  ),\n",
       ".cell-output-ipywidget-background:has(> .lm-Widget > *[data-root-id]) {\n",
       "  background-color: transparent !important;\n",
       "}\n",
       "</style>"
      ]
     },
     "metadata": {},
     "output_type": "display_data"
    },
    {
     "data": {
      "application/vnd.holoviews_exec.v0+json": "",
      "text/html": [
       "<div id='p1002'>\n",
       "  <div id=\"bf6239e4-c510-48c8-b72a-b139e9c58d82\" data-root-id=\"p1002\" style=\"display: contents;\"></div>\n",
       "</div>\n",
       "<script type=\"application/javascript\">(function(root) {\n",
       "  var docs_json = {\"43401489-57a3-4c9e-a3b6-5afbad4e9c5d\":{\"version\":\"3.4.1\",\"title\":\"Bokeh Application\",\"roots\":[{\"type\":\"object\",\"name\":\"panel.models.browser.BrowserInfo\",\"id\":\"p1002\"},{\"type\":\"object\",\"name\":\"panel.models.comm_manager.CommManager\",\"id\":\"p1003\",\"attributes\":{\"plot_id\":\"p1002\",\"comm_id\":\"84a282cf5c324766a660fe431adeefbc\",\"client_comm_id\":\"886fcf02aed342639134deb3aec00d32\"}}],\"defs\":[{\"type\":\"model\",\"name\":\"ReactiveHTML1\"},{\"type\":\"model\",\"name\":\"FlexBox1\",\"properties\":[{\"name\":\"align_content\",\"kind\":\"Any\",\"default\":\"flex-start\"},{\"name\":\"align_items\",\"kind\":\"Any\",\"default\":\"flex-start\"},{\"name\":\"flex_direction\",\"kind\":\"Any\",\"default\":\"row\"},{\"name\":\"flex_wrap\",\"kind\":\"Any\",\"default\":\"wrap\"},{\"name\":\"gap\",\"kind\":\"Any\",\"default\":\"\"},{\"name\":\"justify_content\",\"kind\":\"Any\",\"default\":\"flex-start\"}]},{\"type\":\"model\",\"name\":\"FloatPanel1\",\"properties\":[{\"name\":\"config\",\"kind\":\"Any\",\"default\":{\"type\":\"map\"}},{\"name\":\"contained\",\"kind\":\"Any\",\"default\":true},{\"name\":\"position\",\"kind\":\"Any\",\"default\":\"right-top\"},{\"name\":\"offsetx\",\"kind\":\"Any\",\"default\":null},{\"name\":\"offsety\",\"kind\":\"Any\",\"default\":null},{\"name\":\"theme\",\"kind\":\"Any\",\"default\":\"primary\"},{\"name\":\"status\",\"kind\":\"Any\",\"default\":\"normalized\"}]},{\"type\":\"model\",\"name\":\"GridStack1\",\"properties\":[{\"name\":\"mode\",\"kind\":\"Any\",\"default\":\"warn\"},{\"name\":\"ncols\",\"kind\":\"Any\",\"default\":null},{\"name\":\"nrows\",\"kind\":\"Any\",\"default\":null},{\"name\":\"allow_resize\",\"kind\":\"Any\",\"default\":true},{\"name\":\"allow_drag\",\"kind\":\"Any\",\"default\":true},{\"name\":\"state\",\"kind\":\"Any\",\"default\":[]}]},{\"type\":\"model\",\"name\":\"drag1\",\"properties\":[{\"name\":\"slider_width\",\"kind\":\"Any\",\"default\":5},{\"name\":\"slider_color\",\"kind\":\"Any\",\"default\":\"black\"},{\"name\":\"value\",\"kind\":\"Any\",\"default\":50}]},{\"type\":\"model\",\"name\":\"click1\",\"properties\":[{\"name\":\"terminal_output\",\"kind\":\"Any\",\"default\":\"\"},{\"name\":\"debug_name\",\"kind\":\"Any\",\"default\":\"\"},{\"name\":\"clears\",\"kind\":\"Any\",\"default\":0}]},{\"type\":\"model\",\"name\":\"FastWrapper1\",\"properties\":[{\"name\":\"object\",\"kind\":\"Any\",\"default\":null},{\"name\":\"style\",\"kind\":\"Any\",\"default\":null}]},{\"type\":\"model\",\"name\":\"NotificationAreaBase1\",\"properties\":[{\"name\":\"js_events\",\"kind\":\"Any\",\"default\":{\"type\":\"map\"}},{\"name\":\"position\",\"kind\":\"Any\",\"default\":\"bottom-right\"},{\"name\":\"_clear\",\"kind\":\"Any\",\"default\":0}]},{\"type\":\"model\",\"name\":\"NotificationArea1\",\"properties\":[{\"name\":\"js_events\",\"kind\":\"Any\",\"default\":{\"type\":\"map\"}},{\"name\":\"notifications\",\"kind\":\"Any\",\"default\":[]},{\"name\":\"position\",\"kind\":\"Any\",\"default\":\"bottom-right\"},{\"name\":\"_clear\",\"kind\":\"Any\",\"default\":0},{\"name\":\"types\",\"kind\":\"Any\",\"default\":[{\"type\":\"map\",\"entries\":[[\"type\",\"warning\"],[\"background\",\"#ffc107\"],[\"icon\",{\"type\":\"map\",\"entries\":[[\"className\",\"fas fa-exclamation-triangle\"],[\"tagName\",\"i\"],[\"color\",\"white\"]]}]]},{\"type\":\"map\",\"entries\":[[\"type\",\"info\"],[\"background\",\"#007bff\"],[\"icon\",{\"type\":\"map\",\"entries\":[[\"className\",\"fas fa-info-circle\"],[\"tagName\",\"i\"],[\"color\",\"white\"]]}]]}]}]},{\"type\":\"model\",\"name\":\"Notification\",\"properties\":[{\"name\":\"background\",\"kind\":\"Any\",\"default\":null},{\"name\":\"duration\",\"kind\":\"Any\",\"default\":3000},{\"name\":\"icon\",\"kind\":\"Any\",\"default\":null},{\"name\":\"message\",\"kind\":\"Any\",\"default\":\"\"},{\"name\":\"notification_type\",\"kind\":\"Any\",\"default\":null},{\"name\":\"_destroyed\",\"kind\":\"Any\",\"default\":false}]},{\"type\":\"model\",\"name\":\"TemplateActions1\",\"properties\":[{\"name\":\"open_modal\",\"kind\":\"Any\",\"default\":0},{\"name\":\"close_modal\",\"kind\":\"Any\",\"default\":0}]},{\"type\":\"model\",\"name\":\"BootstrapTemplateActions1\",\"properties\":[{\"name\":\"open_modal\",\"kind\":\"Any\",\"default\":0},{\"name\":\"close_modal\",\"kind\":\"Any\",\"default\":0}]},{\"type\":\"model\",\"name\":\"TemplateEditor1\",\"properties\":[{\"name\":\"layout\",\"kind\":\"Any\",\"default\":[]}]},{\"type\":\"model\",\"name\":\"MaterialTemplateActions1\",\"properties\":[{\"name\":\"open_modal\",\"kind\":\"Any\",\"default\":0},{\"name\":\"close_modal\",\"kind\":\"Any\",\"default\":0}]},{\"type\":\"model\",\"name\":\"copy_to_clipboard1\",\"properties\":[{\"name\":\"fill\",\"kind\":\"Any\",\"default\":\"none\"},{\"name\":\"value\",\"kind\":\"Any\",\"default\":null}]}]}};\n",
       "  var render_items = [{\"docid\":\"43401489-57a3-4c9e-a3b6-5afbad4e9c5d\",\"roots\":{\"p1002\":\"bf6239e4-c510-48c8-b72a-b139e9c58d82\"},\"root_ids\":[\"p1002\"]}];\n",
       "  var docs = Object.values(docs_json)\n",
       "  if (!docs) {\n",
       "    return\n",
       "  }\n",
       "  const py_version = docs[0].version.replace('rc', '-rc.').replace('.dev', '-dev.')\n",
       "  function embed_document(root) {\n",
       "    var Bokeh = get_bokeh(root)\n",
       "    Bokeh.embed.embed_items_notebook(docs_json, render_items);\n",
       "    for (const render_item of render_items) {\n",
       "      for (const root_id of render_item.root_ids) {\n",
       "\tconst id_el = document.getElementById(root_id)\n",
       "\tif (id_el.children.length && (id_el.children[0].className === 'bk-root')) {\n",
       "\t  const root_el = id_el.children[0]\n",
       "\t  root_el.id = root_el.id + '-rendered'\n",
       "\t}\n",
       "      }\n",
       "    }\n",
       "  }\n",
       "  function get_bokeh(root) {\n",
       "    if (root.Bokeh === undefined) {\n",
       "      return null\n",
       "    } else if (root.Bokeh.version !== py_version) {\n",
       "      if (root.Bokeh.versions === undefined || !root.Bokeh.versions.has(py_version)) {\n",
       "\treturn null\n",
       "      }\n",
       "      return root.Bokeh.versions.get(py_version);\n",
       "    } else if (root.Bokeh.version === py_version) {\n",
       "      return root.Bokeh\n",
       "    }\n",
       "    return null\n",
       "  }\n",
       "  function is_loaded(root) {\n",
       "    var Bokeh = get_bokeh(root)\n",
       "    return (Bokeh != null && Bokeh.Panel !== undefined)\n",
       "  }\n",
       "  if (is_loaded(root)) {\n",
       "    embed_document(root);\n",
       "  } else {\n",
       "    var attempts = 0;\n",
       "    var timer = setInterval(function(root) {\n",
       "      if (is_loaded(root)) {\n",
       "        clearInterval(timer);\n",
       "        embed_document(root);\n",
       "      } else if (document.readyState == \"complete\") {\n",
       "        attempts++;\n",
       "        if (attempts > 200) {\n",
       "          clearInterval(timer);\n",
       "\t  var Bokeh = get_bokeh(root)\n",
       "\t  if (Bokeh == null || Bokeh.Panel == null) {\n",
       "            console.warn(\"Panel: ERROR: Unable to run Panel code because Bokeh or Panel library is missing\");\n",
       "\t  } else {\n",
       "\t    console.warn(\"Panel: WARNING: Attempting to render but not all required libraries could be resolved.\")\n",
       "\t    embed_document(root)\n",
       "\t  }\n",
       "        }\n",
       "      }\n",
       "    }, 25, root)\n",
       "  }\n",
       "})(window);</script>"
      ]
     },
     "metadata": {
      "application/vnd.holoviews_exec.v0+json": {
       "id": "p1002"
      }
     },
     "output_type": "display_data"
    },
    {
     "name": "stderr",
     "output_type": "stream",
     "text": [
      "2024-05-06 10:20:59.960693: I tensorflow/core/platform/cpu_feature_guard.cc:210] This TensorFlow binary is optimized to use available CPU instructions in performance-critical operations.\n",
      "To enable the following instructions: AVX2 FMA, in other operations, rebuild TensorFlow with the appropriate compiler flags.\n"
     ]
    }
   ],
   "source": [
    "#*******************************************************************************************\n",
    " #\n",
    " #  File Name:  charity_binning_optimization.ipynb\n",
    " #\n",
    " #  File Description:\n",
    " #      This interactive Python notebook, charity_binning_optimization.ipynb,\n",
    " #      reads a csv file, charity_data.csv, in the folder, resources, and uses Python\n",
    " #      and deep learning methods to determine the optimal model hyperparameters.\n",
    " #\n",
    " #\n",
    " #  Date            Description                             Programmer\n",
    " #  ----------      ------------------------------------    ------------------\n",
    " #  12/02/2023      Initial Development                     Nicholas J. George\n",
    " #\n",
    " #******************************************************************************************/\n",
    "\n",
    "import logx\n",
    "logx.create_directory(logx.MODELS_DIRECTORY_PATH)\n",
    "\n",
    "import pandasx\n",
    "\n",
    "import deep_learningx\n",
    "import charity_constants\n",
    "\n",
    "import copy\n",
    "import pickle\n",
    "import datetime\n",
    "import io\n",
    "import json\n",
    "import time\n",
    "\n",
    "import pandas as pd\n",
    "import tensorflow as tf\n",
    "\n",
    "import warnings\n",
    "warnings.filterwarnings('ignore')\n",
    "\n",
    "from sklearn.model_selection import train_test_split\n",
    "from sklearn.preprocessing import StandardScaler\n",
    "\n",
    "from silence_tensorflow import silence_tensorflow\n",
    "silence_tensorflow()\n",
    "\n",
    "pd.options.mode.chained_assignment = None"
   ]
  },
  {
   "cell_type": "code",
   "execution_count": 2,
   "metadata": {
    "colab": {
     "base_uri": "https://localhost:8080/"
    },
    "executionInfo": {
     "elapsed": 5,
     "status": "ok",
     "timestamp": 1714775733833,
     "user": {
      "displayName": "Nicholas George",
      "userId": "08678589358873967227"
     },
     "user_tz": 420
    },
    "id": "gtIdqN33PIDG",
    "outputId": "834af4a4-6146-418f-e7bc-7abfbb275340"
   },
   "outputs": [
    {
     "name": "stdout",
     "output_type": "stream",
     "text": [
      "Program execution begins...\n",
      "\n"
     ]
    }
   ],
   "source": [
    "CONSTANT_LOCAL_FILE_NAME = 'charity_binning_optimization.ipynb'\n",
    "\n",
    "\n",
    "logx.set_log_mode(False)\n",
    "\n",
    "logx.set_image_mode(False)\n",
    "\n",
    "\n",
    "logx.begin_program('charity_binning_optimization')"
   ]
  },
  {
   "cell_type": "markdown",
   "metadata": {
    "id": "jFOTj-mj4rAx"
   },
   "source": [
    "# <br> **Section 1: Extraction**"
   ]
  },
  {
   "cell_type": "markdown",
   "metadata": {
    "id": "e_VQsSbG4xGU"
   },
   "source": [
    "## **1.1: Read the CSV data into a Pandas DataFrame**"
   ]
  },
  {
   "cell_type": "code",
   "execution_count": 3,
   "metadata": {
    "id": "EfWehOd14yW8"
   },
   "outputs": [],
   "source": [
    "data_type_dictionary \\\n",
    "    = {'EIN': str,\n",
    "       'NAME':\tstr,\n",
    "       'APPLICATION_TYPE': str,\n",
    "       'AFFILIATION': str,\n",
    "       'CLASSIFICATION': str,\n",
    "       'USE_CASE': str,\n",
    "       'ORGANIZATION': str,\n",
    "       'STATUS': int,\n",
    "       'INCOME_AMT': str,\n",
    "       'SPECIAL_CONSIDERATIONS': str,\n",
    "       'ASK_AMT': int,\n",
    "       'IS_SUCCESSFUL': int}\n",
    "\n",
    "charity_dataframe \\\n",
    "    = pd.read_csv(charity_constants.INPUT_FILE_PATH, dtype = data_type_dictionary)\n",
    "\n",
    "logx.log_write_object(charity_dataframe)"
   ]
  },
  {
   "cell_type": "markdown",
   "metadata": {
    "id": "Jk5B4kEX6Cbu"
   },
   "source": [
    "## **1.2: Display Charity DataFrame**"
   ]
  },
  {
   "cell_type": "code",
   "execution_count": 4,
   "metadata": {
    "colab": {
     "base_uri": "https://localhost:8080/",
     "height": 904
    },
    "executionInfo": {
     "elapsed": 10905,
     "status": "ok",
     "timestamp": 1714775745003,
     "user": {
      "displayName": "Nicholas George",
      "userId": "08678589358873967227"
     },
     "user_tz": 420
    },
    "id": "byLVg6fh6IAT",
    "outputId": "40679fe8-4f63-4bdb-9836-bdec796bae12"
   },
   "outputs": [
    {
     "data": {
      "text/html": [
       "<style type=\"text/css\">\n",
       "#T_62d7c caption {\n",
       "  color: black;\n",
       "  font-size: 20px;\n",
       "  font-style: bold;\n",
       "  text-align: center;\n",
       "}\n",
       "#T_62d7c_row0_col0, #T_62d7c_row0_col1, #T_62d7c_row0_col2, #T_62d7c_row0_col3, #T_62d7c_row0_col4, #T_62d7c_row0_col5, #T_62d7c_row0_col6, #T_62d7c_row0_col7, #T_62d7c_row0_col8, #T_62d7c_row0_col9, #T_62d7c_row0_col10, #T_62d7c_row0_col11, #T_62d7c_row1_col0, #T_62d7c_row1_col1, #T_62d7c_row1_col2, #T_62d7c_row1_col3, #T_62d7c_row1_col4, #T_62d7c_row1_col5, #T_62d7c_row1_col6, #T_62d7c_row1_col7, #T_62d7c_row1_col8, #T_62d7c_row1_col9, #T_62d7c_row1_col10, #T_62d7c_row1_col11, #T_62d7c_row2_col0, #T_62d7c_row2_col1, #T_62d7c_row2_col2, #T_62d7c_row2_col3, #T_62d7c_row2_col4, #T_62d7c_row2_col5, #T_62d7c_row2_col6, #T_62d7c_row2_col7, #T_62d7c_row2_col8, #T_62d7c_row2_col9, #T_62d7c_row2_col10, #T_62d7c_row2_col11, #T_62d7c_row3_col0, #T_62d7c_row3_col1, #T_62d7c_row3_col2, #T_62d7c_row3_col3, #T_62d7c_row3_col4, #T_62d7c_row3_col5, #T_62d7c_row3_col6, #T_62d7c_row3_col7, #T_62d7c_row3_col8, #T_62d7c_row3_col9, #T_62d7c_row3_col10, #T_62d7c_row3_col11, #T_62d7c_row4_col0, #T_62d7c_row4_col1, #T_62d7c_row4_col2, #T_62d7c_row4_col3, #T_62d7c_row4_col4, #T_62d7c_row4_col5, #T_62d7c_row4_col6, #T_62d7c_row4_col7, #T_62d7c_row4_col8, #T_62d7c_row4_col9, #T_62d7c_row4_col10, #T_62d7c_row4_col11, #T_62d7c_row5_col0, #T_62d7c_row5_col1, #T_62d7c_row5_col2, #T_62d7c_row5_col3, #T_62d7c_row5_col4, #T_62d7c_row5_col5, #T_62d7c_row5_col6, #T_62d7c_row5_col7, #T_62d7c_row5_col8, #T_62d7c_row5_col9, #T_62d7c_row5_col10, #T_62d7c_row5_col11, #T_62d7c_row6_col0, #T_62d7c_row6_col1, #T_62d7c_row6_col2, #T_62d7c_row6_col3, #T_62d7c_row6_col4, #T_62d7c_row6_col5, #T_62d7c_row6_col6, #T_62d7c_row6_col7, #T_62d7c_row6_col8, #T_62d7c_row6_col9, #T_62d7c_row6_col10, #T_62d7c_row6_col11, #T_62d7c_row7_col0, #T_62d7c_row7_col1, #T_62d7c_row7_col2, #T_62d7c_row7_col3, #T_62d7c_row7_col4, #T_62d7c_row7_col5, #T_62d7c_row7_col6, #T_62d7c_row7_col7, #T_62d7c_row7_col8, #T_62d7c_row7_col9, #T_62d7c_row7_col10, #T_62d7c_row7_col11, #T_62d7c_row8_col0, #T_62d7c_row8_col1, #T_62d7c_row8_col2, #T_62d7c_row8_col3, #T_62d7c_row8_col4, #T_62d7c_row8_col5, #T_62d7c_row8_col6, #T_62d7c_row8_col7, #T_62d7c_row8_col8, #T_62d7c_row8_col9, #T_62d7c_row8_col10, #T_62d7c_row8_col11, #T_62d7c_row9_col0, #T_62d7c_row9_col1, #T_62d7c_row9_col2, #T_62d7c_row9_col3, #T_62d7c_row9_col4, #T_62d7c_row9_col5, #T_62d7c_row9_col6, #T_62d7c_row9_col7, #T_62d7c_row9_col8, #T_62d7c_row9_col9, #T_62d7c_row9_col10, #T_62d7c_row9_col11 {\n",
       "  text-align: center;\n",
       "  border: 1.3px solid red;\n",
       "  color: blue;\n",
       "}\n",
       "</style>\n",
       "<table id=\"T_62d7c\">\n",
       "  <caption>Table 1.2: Charity Data Table</caption>\n",
       "  <thead>\n",
       "    <tr>\n",
       "      <th id=\"T_62d7c_level0_col0\" class=\"col_heading level0 col0\" >EIN</th>\n",
       "      <th id=\"T_62d7c_level0_col1\" class=\"col_heading level0 col1\" >NAME</th>\n",
       "      <th id=\"T_62d7c_level0_col2\" class=\"col_heading level0 col2\" >APPLICATION_TYPE</th>\n",
       "      <th id=\"T_62d7c_level0_col3\" class=\"col_heading level0 col3\" >AFFILIATION</th>\n",
       "      <th id=\"T_62d7c_level0_col4\" class=\"col_heading level0 col4\" >CLASSIFICATION</th>\n",
       "      <th id=\"T_62d7c_level0_col5\" class=\"col_heading level0 col5\" >USE_CASE</th>\n",
       "      <th id=\"T_62d7c_level0_col6\" class=\"col_heading level0 col6\" >ORGANIZATION</th>\n",
       "      <th id=\"T_62d7c_level0_col7\" class=\"col_heading level0 col7\" >STATUS</th>\n",
       "      <th id=\"T_62d7c_level0_col8\" class=\"col_heading level0 col8\" >INCOME_AMT</th>\n",
       "      <th id=\"T_62d7c_level0_col9\" class=\"col_heading level0 col9\" >SPECIAL_CONSIDERATIONS</th>\n",
       "      <th id=\"T_62d7c_level0_col10\" class=\"col_heading level0 col10\" >ASK_AMT</th>\n",
       "      <th id=\"T_62d7c_level0_col11\" class=\"col_heading level0 col11\" >IS_SUCCESSFUL</th>\n",
       "    </tr>\n",
       "  </thead>\n",
       "  <tbody>\n",
       "    <tr>\n",
       "      <td id=\"T_62d7c_row0_col0\" class=\"data row0 col0\" >10520599</td>\n",
       "      <td id=\"T_62d7c_row0_col1\" class=\"data row0 col1\" >BLUE KNIGHTS MOTORCYCLE CLUB</td>\n",
       "      <td id=\"T_62d7c_row0_col2\" class=\"data row0 col2\" >T10</td>\n",
       "      <td id=\"T_62d7c_row0_col3\" class=\"data row0 col3\" >Independent</td>\n",
       "      <td id=\"T_62d7c_row0_col4\" class=\"data row0 col4\" >C1000</td>\n",
       "      <td id=\"T_62d7c_row0_col5\" class=\"data row0 col5\" >ProductDev</td>\n",
       "      <td id=\"T_62d7c_row0_col6\" class=\"data row0 col6\" >Association</td>\n",
       "      <td id=\"T_62d7c_row0_col7\" class=\"data row0 col7\" >1</td>\n",
       "      <td id=\"T_62d7c_row0_col8\" class=\"data row0 col8\" >0</td>\n",
       "      <td id=\"T_62d7c_row0_col9\" class=\"data row0 col9\" >N</td>\n",
       "      <td id=\"T_62d7c_row0_col10\" class=\"data row0 col10\" >5,000</td>\n",
       "      <td id=\"T_62d7c_row0_col11\" class=\"data row0 col11\" >1</td>\n",
       "    </tr>\n",
       "    <tr>\n",
       "      <td id=\"T_62d7c_row1_col0\" class=\"data row1 col0\" >10531628</td>\n",
       "      <td id=\"T_62d7c_row1_col1\" class=\"data row1 col1\" >AMERICAN CHESAPEAKE CLUB CHARITABLE TR</td>\n",
       "      <td id=\"T_62d7c_row1_col2\" class=\"data row1 col2\" >T3</td>\n",
       "      <td id=\"T_62d7c_row1_col3\" class=\"data row1 col3\" >Independent</td>\n",
       "      <td id=\"T_62d7c_row1_col4\" class=\"data row1 col4\" >C2000</td>\n",
       "      <td id=\"T_62d7c_row1_col5\" class=\"data row1 col5\" >Preservation</td>\n",
       "      <td id=\"T_62d7c_row1_col6\" class=\"data row1 col6\" >Co-operative</td>\n",
       "      <td id=\"T_62d7c_row1_col7\" class=\"data row1 col7\" >1</td>\n",
       "      <td id=\"T_62d7c_row1_col8\" class=\"data row1 col8\" >1-9999</td>\n",
       "      <td id=\"T_62d7c_row1_col9\" class=\"data row1 col9\" >N</td>\n",
       "      <td id=\"T_62d7c_row1_col10\" class=\"data row1 col10\" >108,590</td>\n",
       "      <td id=\"T_62d7c_row1_col11\" class=\"data row1 col11\" >1</td>\n",
       "    </tr>\n",
       "    <tr>\n",
       "      <td id=\"T_62d7c_row2_col0\" class=\"data row2 col0\" >10547893</td>\n",
       "      <td id=\"T_62d7c_row2_col1\" class=\"data row2 col1\" >ST CLOUD PROFESSIONAL FIREFIGHTERS</td>\n",
       "      <td id=\"T_62d7c_row2_col2\" class=\"data row2 col2\" >T5</td>\n",
       "      <td id=\"T_62d7c_row2_col3\" class=\"data row2 col3\" >CompanySponsored</td>\n",
       "      <td id=\"T_62d7c_row2_col4\" class=\"data row2 col4\" >C3000</td>\n",
       "      <td id=\"T_62d7c_row2_col5\" class=\"data row2 col5\" >ProductDev</td>\n",
       "      <td id=\"T_62d7c_row2_col6\" class=\"data row2 col6\" >Association</td>\n",
       "      <td id=\"T_62d7c_row2_col7\" class=\"data row2 col7\" >1</td>\n",
       "      <td id=\"T_62d7c_row2_col8\" class=\"data row2 col8\" >0</td>\n",
       "      <td id=\"T_62d7c_row2_col9\" class=\"data row2 col9\" >N</td>\n",
       "      <td id=\"T_62d7c_row2_col10\" class=\"data row2 col10\" >5,000</td>\n",
       "      <td id=\"T_62d7c_row2_col11\" class=\"data row2 col11\" >0</td>\n",
       "    </tr>\n",
       "    <tr>\n",
       "      <td id=\"T_62d7c_row3_col0\" class=\"data row3 col0\" >10553066</td>\n",
       "      <td id=\"T_62d7c_row3_col1\" class=\"data row3 col1\" >SOUTHSIDE ATHLETIC ASSOCIATION</td>\n",
       "      <td id=\"T_62d7c_row3_col2\" class=\"data row3 col2\" >T3</td>\n",
       "      <td id=\"T_62d7c_row3_col3\" class=\"data row3 col3\" >CompanySponsored</td>\n",
       "      <td id=\"T_62d7c_row3_col4\" class=\"data row3 col4\" >C2000</td>\n",
       "      <td id=\"T_62d7c_row3_col5\" class=\"data row3 col5\" >Preservation</td>\n",
       "      <td id=\"T_62d7c_row3_col6\" class=\"data row3 col6\" >Trust</td>\n",
       "      <td id=\"T_62d7c_row3_col7\" class=\"data row3 col7\" >1</td>\n",
       "      <td id=\"T_62d7c_row3_col8\" class=\"data row3 col8\" >10000-24999</td>\n",
       "      <td id=\"T_62d7c_row3_col9\" class=\"data row3 col9\" >N</td>\n",
       "      <td id=\"T_62d7c_row3_col10\" class=\"data row3 col10\" >6,692</td>\n",
       "      <td id=\"T_62d7c_row3_col11\" class=\"data row3 col11\" >1</td>\n",
       "    </tr>\n",
       "    <tr>\n",
       "      <td id=\"T_62d7c_row4_col0\" class=\"data row4 col0\" >10556103</td>\n",
       "      <td id=\"T_62d7c_row4_col1\" class=\"data row4 col1\" >GENETIC RESEARCH INSTITUTE OF THE DESERT</td>\n",
       "      <td id=\"T_62d7c_row4_col2\" class=\"data row4 col2\" >T3</td>\n",
       "      <td id=\"T_62d7c_row4_col3\" class=\"data row4 col3\" >Independent</td>\n",
       "      <td id=\"T_62d7c_row4_col4\" class=\"data row4 col4\" >C1000</td>\n",
       "      <td id=\"T_62d7c_row4_col5\" class=\"data row4 col5\" >Heathcare</td>\n",
       "      <td id=\"T_62d7c_row4_col6\" class=\"data row4 col6\" >Trust</td>\n",
       "      <td id=\"T_62d7c_row4_col7\" class=\"data row4 col7\" >1</td>\n",
       "      <td id=\"T_62d7c_row4_col8\" class=\"data row4 col8\" >100000-499999</td>\n",
       "      <td id=\"T_62d7c_row4_col9\" class=\"data row4 col9\" >N</td>\n",
       "      <td id=\"T_62d7c_row4_col10\" class=\"data row4 col10\" >142,590</td>\n",
       "      <td id=\"T_62d7c_row4_col11\" class=\"data row4 col11\" >1</td>\n",
       "    </tr>\n",
       "    <tr>\n",
       "      <td id=\"T_62d7c_row5_col0\" class=\"data row5 col0\" >10556855</td>\n",
       "      <td id=\"T_62d7c_row5_col1\" class=\"data row5 col1\" >MINORITY ORGAN & TISSUE TRANSPLANT & EDUCATION PROGRAM OF TENNESSEE</td>\n",
       "      <td id=\"T_62d7c_row5_col2\" class=\"data row5 col2\" >T3</td>\n",
       "      <td id=\"T_62d7c_row5_col3\" class=\"data row5 col3\" >Independent</td>\n",
       "      <td id=\"T_62d7c_row5_col4\" class=\"data row5 col4\" >C1200</td>\n",
       "      <td id=\"T_62d7c_row5_col5\" class=\"data row5 col5\" >Preservation</td>\n",
       "      <td id=\"T_62d7c_row5_col6\" class=\"data row5 col6\" >Trust</td>\n",
       "      <td id=\"T_62d7c_row5_col7\" class=\"data row5 col7\" >1</td>\n",
       "      <td id=\"T_62d7c_row5_col8\" class=\"data row5 col8\" >0</td>\n",
       "      <td id=\"T_62d7c_row5_col9\" class=\"data row5 col9\" >N</td>\n",
       "      <td id=\"T_62d7c_row5_col10\" class=\"data row5 col10\" >5,000</td>\n",
       "      <td id=\"T_62d7c_row5_col11\" class=\"data row5 col11\" >1</td>\n",
       "    </tr>\n",
       "    <tr>\n",
       "      <td id=\"T_62d7c_row6_col0\" class=\"data row6 col0\" >10558440</td>\n",
       "      <td id=\"T_62d7c_row6_col1\" class=\"data row6 col1\" >FRIENDS OF ARTS COUNCIL OF GREATER DENHAM SPRINGS INC</td>\n",
       "      <td id=\"T_62d7c_row6_col2\" class=\"data row6 col2\" >T3</td>\n",
       "      <td id=\"T_62d7c_row6_col3\" class=\"data row6 col3\" >Independent</td>\n",
       "      <td id=\"T_62d7c_row6_col4\" class=\"data row6 col4\" >C1000</td>\n",
       "      <td id=\"T_62d7c_row6_col5\" class=\"data row6 col5\" >Preservation</td>\n",
       "      <td id=\"T_62d7c_row6_col6\" class=\"data row6 col6\" >Trust</td>\n",
       "      <td id=\"T_62d7c_row6_col7\" class=\"data row6 col7\" >1</td>\n",
       "      <td id=\"T_62d7c_row6_col8\" class=\"data row6 col8\" >100000-499999</td>\n",
       "      <td id=\"T_62d7c_row6_col9\" class=\"data row6 col9\" >N</td>\n",
       "      <td id=\"T_62d7c_row6_col10\" class=\"data row6 col10\" >31,452</td>\n",
       "      <td id=\"T_62d7c_row6_col11\" class=\"data row6 col11\" >1</td>\n",
       "    </tr>\n",
       "    <tr>\n",
       "      <td id=\"T_62d7c_row7_col0\" class=\"data row7 col0\" >10566033</td>\n",
       "      <td id=\"T_62d7c_row7_col1\" class=\"data row7 col1\" >ISRAEL EMERGENCY ALLIANCE</td>\n",
       "      <td id=\"T_62d7c_row7_col2\" class=\"data row7 col2\" >T3</td>\n",
       "      <td id=\"T_62d7c_row7_col3\" class=\"data row7 col3\" >Independent</td>\n",
       "      <td id=\"T_62d7c_row7_col4\" class=\"data row7 col4\" >C2000</td>\n",
       "      <td id=\"T_62d7c_row7_col5\" class=\"data row7 col5\" >Preservation</td>\n",
       "      <td id=\"T_62d7c_row7_col6\" class=\"data row7 col6\" >Trust</td>\n",
       "      <td id=\"T_62d7c_row7_col7\" class=\"data row7 col7\" >1</td>\n",
       "      <td id=\"T_62d7c_row7_col8\" class=\"data row7 col8\" >10M-50M</td>\n",
       "      <td id=\"T_62d7c_row7_col9\" class=\"data row7 col9\" >N</td>\n",
       "      <td id=\"T_62d7c_row7_col10\" class=\"data row7 col10\" >7,508,025</td>\n",
       "      <td id=\"T_62d7c_row7_col11\" class=\"data row7 col11\" >1</td>\n",
       "    </tr>\n",
       "    <tr>\n",
       "      <td id=\"T_62d7c_row8_col0\" class=\"data row8 col0\" >10570430</td>\n",
       "      <td id=\"T_62d7c_row8_col1\" class=\"data row8 col1\" >ARAMCO BRATS INC</td>\n",
       "      <td id=\"T_62d7c_row8_col2\" class=\"data row8 col2\" >T7</td>\n",
       "      <td id=\"T_62d7c_row8_col3\" class=\"data row8 col3\" >Independent</td>\n",
       "      <td id=\"T_62d7c_row8_col4\" class=\"data row8 col4\" >C1000</td>\n",
       "      <td id=\"T_62d7c_row8_col5\" class=\"data row8 col5\" >ProductDev</td>\n",
       "      <td id=\"T_62d7c_row8_col6\" class=\"data row8 col6\" >Trust</td>\n",
       "      <td id=\"T_62d7c_row8_col7\" class=\"data row8 col7\" >1</td>\n",
       "      <td id=\"T_62d7c_row8_col8\" class=\"data row8 col8\" >1-9999</td>\n",
       "      <td id=\"T_62d7c_row8_col9\" class=\"data row8 col9\" >N</td>\n",
       "      <td id=\"T_62d7c_row8_col10\" class=\"data row8 col10\" >94,389</td>\n",
       "      <td id=\"T_62d7c_row8_col11\" class=\"data row8 col11\" >1</td>\n",
       "    </tr>\n",
       "    <tr>\n",
       "      <td id=\"T_62d7c_row9_col0\" class=\"data row9 col0\" >10571689</td>\n",
       "      <td id=\"T_62d7c_row9_col1\" class=\"data row9 col1\" >INTERNATIONAL ASSOCIATION OF FIRE FIGHTERS</td>\n",
       "      <td id=\"T_62d7c_row9_col2\" class=\"data row9 col2\" >T5</td>\n",
       "      <td id=\"T_62d7c_row9_col3\" class=\"data row9 col3\" >CompanySponsored</td>\n",
       "      <td id=\"T_62d7c_row9_col4\" class=\"data row9 col4\" >C3000</td>\n",
       "      <td id=\"T_62d7c_row9_col5\" class=\"data row9 col5\" >ProductDev</td>\n",
       "      <td id=\"T_62d7c_row9_col6\" class=\"data row9 col6\" >Association</td>\n",
       "      <td id=\"T_62d7c_row9_col7\" class=\"data row9 col7\" >1</td>\n",
       "      <td id=\"T_62d7c_row9_col8\" class=\"data row9 col8\" >0</td>\n",
       "      <td id=\"T_62d7c_row9_col9\" class=\"data row9 col9\" >N</td>\n",
       "      <td id=\"T_62d7c_row9_col10\" class=\"data row9 col10\" >5,000</td>\n",
       "      <td id=\"T_62d7c_row9_col11\" class=\"data row9 col11\" >0</td>\n",
       "    </tr>\n",
       "  </tbody>\n",
       "</table>\n"
      ],
      "text/plain": [
       "<pandas.io.formats.style.Styler at 0x1573269d0>"
      ]
     },
     "execution_count": 4,
     "metadata": {},
     "output_type": "execute_result"
    }
   ],
   "source": [
    "pandasx.return_formatted_table(charity_dataframe, 'Table 1.2: Charity Data Table')"
   ]
  },
  {
   "cell_type": "markdown",
   "metadata": {
    "id": "Ef4MWVNV96R4"
   },
   "source": [
    "# <br> **Section 2: Preprocessing**"
   ]
  },
  {
   "cell_type": "markdown",
   "metadata": {
    "id": "TE0qHcG49854"
   },
   "source": [
    "## **2.1: Number of Records**"
   ]
  },
  {
   "cell_type": "code",
   "execution_count": 5,
   "metadata": {
    "colab": {
     "base_uri": "https://localhost:8080/"
    },
    "executionInfo": {
     "elapsed": 6,
     "status": "ok",
     "timestamp": 1714775745003,
     "user": {
      "displayName": "Nicholas George",
      "userId": "08678589358873967227"
     },
     "user_tz": 420
    },
    "id": "uAY3vJSr0mrf",
    "outputId": "25f25851-4079-4472-c80f-7a5b2e63ad8c"
   },
   "outputs": [
    {
     "name": "stdout",
     "output_type": "stream",
     "text": [
      "\u001b[1mThere are 34,299 student loans in this data set.\n",
      "\n",
      "\u001b[0m\n"
     ]
    }
   ],
   "source": [
    "logx.print_and_log_text \\\n",
    "    ('\\033[1m'\n",
    "     + 'There are {:,} student loans '.format(len(charity_dataframe))\n",
    "     + 'in this data set.\\n\\n' \\\n",
    "     + '\\033[0m')"
   ]
  },
  {
   "cell_type": "markdown",
   "metadata": {
    "id": "6yHZ7kgt0s25"
   },
   "source": [
    "## **2.2: Column Counts**"
   ]
  },
  {
   "cell_type": "code",
   "execution_count": 6,
   "metadata": {
    "colab": {
     "base_uri": "https://localhost:8080/"
    },
    "executionInfo": {
     "elapsed": 4,
     "status": "ok",
     "timestamp": 1714775745003,
     "user": {
      "displayName": "Nicholas George",
      "userId": "08678589358873967227"
     },
     "user_tz": 420
    },
    "id": "rnZ3oAXK0nUX",
    "outputId": "9d2daddb-8d51-4304-96da-0046e962efad"
   },
   "outputs": [
    {
     "name": "stdout",
     "output_type": "stream",
     "text": [
      "\u001b[1mEIN                       34299\n",
      "NAME                      34299\n",
      "APPLICATION_TYPE          34299\n",
      "AFFILIATION               34299\n",
      "CLASSIFICATION            34299\n",
      "USE_CASE                  34299\n",
      "ORGANIZATION              34299\n",
      "STATUS                    34299\n",
      "INCOME_AMT                34299\n",
      "SPECIAL_CONSIDERATIONS    34299\n",
      "ASK_AMT                   34299\n",
      "IS_SUCCESSFUL             34299\n",
      "dtype: int64\u001b[0m\n"
     ]
    }
   ],
   "source": [
    "logx.print_and_log_text('\\033[1m' + str(charity_dataframe.count()) + '\\033[0m')"
   ]
  },
  {
   "cell_type": "markdown",
   "metadata": {
    "id": "yjGKXlJE0w8s"
   },
   "source": [
    "## **2.3: Unique Counts**"
   ]
  },
  {
   "cell_type": "code",
   "execution_count": 7,
   "metadata": {
    "colab": {
     "base_uri": "https://localhost:8080/"
    },
    "executionInfo": {
     "elapsed": 197,
     "status": "ok",
     "timestamp": 1714775745197,
     "user": {
      "displayName": "Nicholas George",
      "userId": "08678589358873967227"
     },
     "user_tz": 420
    },
    "id": "7Y9CTGce0nSk",
    "outputId": "d98deca7-b9aa-4d1c-97a0-50a29fb8b5ed"
   },
   "outputs": [
    {
     "name": "stdout",
     "output_type": "stream",
     "text": [
      "\u001b[1mEIN: 34,299\n",
      "\u001b[0m\n",
      "\u001b[1mNAME: 19,568\n",
      "\u001b[0m\n",
      "\u001b[1mAPPLICATION_TYPE: 17\n",
      "\u001b[0m\n",
      "\u001b[1mAFFILIATION: 6\n",
      "\u001b[0m\n",
      "\u001b[1mCLASSIFICATION: 71\n",
      "\u001b[0m\n",
      "\u001b[1mUSE_CASE: 5\n",
      "\u001b[0m\n",
      "\u001b[1mORGANIZATION: 4\n",
      "\u001b[0m\n",
      "\u001b[1mSTATUS: 2\n",
      "\u001b[0m\n",
      "\u001b[1mINCOME_AMT: 9\n",
      "\u001b[0m\n",
      "\u001b[1mSPECIAL_CONSIDERATIONS: 2\n",
      "\u001b[0m\n",
      "\u001b[1mASK_AMT: 8,747\n",
      "\u001b[0m\n",
      "\u001b[1mIS_SUCCESSFUL: 2\n",
      "\u001b[0m\n"
     ]
    }
   ],
   "source": [
    "pandasx.display_dataframe_column_counts(charity_dataframe)"
   ]
  },
  {
   "cell_type": "markdown",
   "metadata": {
    "id": "Oa01ziumhYui"
   },
   "source": [
    "## **2.4: Value Counts**"
   ]
  },
  {
   "cell_type": "markdown",
   "metadata": {
    "id": "jhoByOJChYui"
   },
   "source": [
    "### **APPLICATION_TYPE**"
   ]
  },
  {
   "cell_type": "code",
   "execution_count": 8,
   "metadata": {
    "colab": {
     "base_uri": "https://localhost:8080/"
    },
    "executionInfo": {
     "elapsed": 3,
     "status": "ok",
     "timestamp": 1714775745197,
     "user": {
      "displayName": "Nicholas George",
      "userId": "08678589358873967227"
     },
     "user_tz": 420
    },
    "id": "ys7HwyTWhYuj",
    "outputId": "fb15c3d9-4070-40c1-a4ea-6d53a9ddec4d"
   },
   "outputs": [
    {
     "data": {
      "text/plain": [
       "APPLICATION_TYPE\n",
       "T3     27037\n",
       "T4      1542\n",
       "T6      1216\n",
       "T5      1173\n",
       "T19     1065\n",
       "T8       737\n",
       "T7       725\n",
       "T10      528\n",
       "T9       156\n",
       "T13       66\n",
       "T12       27\n",
       "T2        16\n",
       "T25        3\n",
       "T14        3\n",
       "T29        2\n",
       "T15        2\n",
       "T17        1\n",
       "Name: count, dtype: int64"
      ]
     },
     "execution_count": 8,
     "metadata": {},
     "output_type": "execute_result"
    }
   ],
   "source": [
    "charity_dataframe['APPLICATION_TYPE'].value_counts().sort_values(ascending = False)"
   ]
  },
  {
   "cell_type": "markdown",
   "metadata": {
    "id": "surUyvz8hYuj"
   },
   "source": [
    "### **AFFILIATION**"
   ]
  },
  {
   "cell_type": "code",
   "execution_count": 9,
   "metadata": {
    "colab": {
     "base_uri": "https://localhost:8080/"
    },
    "executionInfo": {
     "elapsed": 187,
     "status": "ok",
     "timestamp": 1714775745382,
     "user": {
      "displayName": "Nicholas George",
      "userId": "08678589358873967227"
     },
     "user_tz": 420
    },
    "id": "b8_mI96YhYuj",
    "outputId": "1d0d439f-1f65-41f6-af5a-045d10440630"
   },
   "outputs": [
    {
     "data": {
      "text/plain": [
       "AFFILIATION\n",
       "Independent         18480\n",
       "CompanySponsored    15705\n",
       "Family/Parent          64\n",
       "National               33\n",
       "Regional               13\n",
       "Other                   4\n",
       "Name: count, dtype: int64"
      ]
     },
     "execution_count": 9,
     "metadata": {},
     "output_type": "execute_result"
    }
   ],
   "source": [
    "charity_dataframe['AFFILIATION'].value_counts().sort_values(ascending = False)"
   ]
  },
  {
   "cell_type": "markdown",
   "metadata": {
    "id": "GH0xWNevhYuj"
   },
   "source": [
    "### **CLASSIFICATION**"
   ]
  },
  {
   "cell_type": "code",
   "execution_count": 10,
   "metadata": {
    "colab": {
     "base_uri": "https://localhost:8080/"
    },
    "executionInfo": {
     "elapsed": 6,
     "status": "ok",
     "timestamp": 1714775745382,
     "user": {
      "displayName": "Nicholas George",
      "userId": "08678589358873967227"
     },
     "user_tz": 420
    },
    "id": "TaPlrYezhYuj",
    "outputId": "16bc6311-e1d6-4f6b-f4c2-43bc0a18ffdb"
   },
   "outputs": [
    {
     "data": {
      "text/plain": [
       "CLASSIFICATION\n",
       "C1000    17326\n",
       "C2000     6074\n",
       "C1200     4837\n",
       "C3000     1918\n",
       "C2100     1883\n",
       "         ...  \n",
       "C5200        1\n",
       "C2600        1\n",
       "C4200        1\n",
       "C2190        1\n",
       "C2150        1\n",
       "Name: count, Length: 71, dtype: int64"
      ]
     },
     "execution_count": 10,
     "metadata": {},
     "output_type": "execute_result"
    }
   ],
   "source": [
    "charity_dataframe['CLASSIFICATION'].value_counts().sort_values(ascending = False)"
   ]
  },
  {
   "cell_type": "markdown",
   "metadata": {
    "id": "DyJtLhy7hYuj"
   },
   "source": [
    "### **USE_CASE**"
   ]
  },
  {
   "cell_type": "code",
   "execution_count": 11,
   "metadata": {
    "colab": {
     "base_uri": "https://localhost:8080/"
    },
    "executionInfo": {
     "elapsed": 4,
     "status": "ok",
     "timestamp": 1714775745382,
     "user": {
      "displayName": "Nicholas George",
      "userId": "08678589358873967227"
     },
     "user_tz": 420
    },
    "id": "if6CpruohYuj",
    "outputId": "10ecd6d6-f333-4fd0-9deb-9f53d967cecc"
   },
   "outputs": [
    {
     "data": {
      "text/plain": [
       "USE_CASE\n",
       "Preservation     28095\n",
       "ProductDev        5671\n",
       "CommunityServ      384\n",
       "Heathcare          146\n",
       "Other                3\n",
       "Name: count, dtype: int64"
      ]
     },
     "execution_count": 11,
     "metadata": {},
     "output_type": "execute_result"
    }
   ],
   "source": [
    "charity_dataframe['USE_CASE'].value_counts().sort_values(ascending = False)"
   ]
  },
  {
   "cell_type": "markdown",
   "metadata": {
    "id": "lheNiibPhYuj"
   },
   "source": [
    "### **ORGANIZATION**"
   ]
  },
  {
   "cell_type": "code",
   "execution_count": 12,
   "metadata": {
    "colab": {
     "base_uri": "https://localhost:8080/"
    },
    "executionInfo": {
     "elapsed": 3,
     "status": "ok",
     "timestamp": 1714775745382,
     "user": {
      "displayName": "Nicholas George",
      "userId": "08678589358873967227"
     },
     "user_tz": 420
    },
    "id": "lY6BhwTFhYuj",
    "outputId": "a5ccc5ce-5404-471f-a101-86467f367fab"
   },
   "outputs": [
    {
     "data": {
      "text/plain": [
       "ORGANIZATION\n",
       "Trust           23515\n",
       "Association     10255\n",
       "Co-operative      486\n",
       "Corporation        43\n",
       "Name: count, dtype: int64"
      ]
     },
     "execution_count": 12,
     "metadata": {},
     "output_type": "execute_result"
    }
   ],
   "source": [
    "charity_dataframe['ORGANIZATION'].value_counts().sort_values(ascending = False)"
   ]
  },
  {
   "cell_type": "markdown",
   "metadata": {
    "id": "t1wyJWyShYuj"
   },
   "source": [
    "### **STATUS**"
   ]
  },
  {
   "cell_type": "code",
   "execution_count": 13,
   "metadata": {
    "colab": {
     "base_uri": "https://localhost:8080/"
    },
    "executionInfo": {
     "elapsed": 303,
     "status": "ok",
     "timestamp": 1714775745683,
     "user": {
      "displayName": "Nicholas George",
      "userId": "08678589358873967227"
     },
     "user_tz": 420
    },
    "id": "u_48I_lXhYuj",
    "outputId": "5677c14c-abd6-4f34-9f74-f257d5411a93"
   },
   "outputs": [
    {
     "data": {
      "text/plain": [
       "STATUS\n",
       "1    34294\n",
       "0        5\n",
       "Name: count, dtype: int64"
      ]
     },
     "execution_count": 13,
     "metadata": {},
     "output_type": "execute_result"
    }
   ],
   "source": [
    "charity_dataframe['STATUS'].value_counts().sort_values(ascending = False)"
   ]
  },
  {
   "cell_type": "markdown",
   "metadata": {
    "id": "28e_cs2RhYuk"
   },
   "source": [
    "### **INCOME_AMT**"
   ]
  },
  {
   "cell_type": "code",
   "execution_count": 14,
   "metadata": {
    "colab": {
     "base_uri": "https://localhost:8080/"
    },
    "executionInfo": {
     "elapsed": 5,
     "status": "ok",
     "timestamp": 1714775745684,
     "user": {
      "displayName": "Nicholas George",
      "userId": "08678589358873967227"
     },
     "user_tz": 420
    },
    "id": "9tbOpJBjhYuk",
    "outputId": "3f1e463a-a6c0-46dd-c0f7-cf66476a7bd7"
   },
   "outputs": [
    {
     "data": {
      "text/plain": [
       "INCOME_AMT\n",
       "0                24388\n",
       "25000-99999       3747\n",
       "100000-499999     3374\n",
       "1M-5M              955\n",
       "1-9999             728\n",
       "10000-24999        543\n",
       "10M-50M            240\n",
       "5M-10M             185\n",
       "50M+               139\n",
       "Name: count, dtype: int64"
      ]
     },
     "execution_count": 14,
     "metadata": {},
     "output_type": "execute_result"
    }
   ],
   "source": [
    "charity_dataframe['INCOME_AMT'].value_counts().sort_values(ascending = False)"
   ]
  },
  {
   "cell_type": "markdown",
   "metadata": {
    "id": "eKsPlBKNhYuk"
   },
   "source": [
    "### **SPECIAL_CONSIDERATIONS**"
   ]
  },
  {
   "cell_type": "code",
   "execution_count": 15,
   "metadata": {
    "colab": {
     "base_uri": "https://localhost:8080/"
    },
    "executionInfo": {
     "elapsed": 4,
     "status": "ok",
     "timestamp": 1714775745684,
     "user": {
      "displayName": "Nicholas George",
      "userId": "08678589358873967227"
     },
     "user_tz": 420
    },
    "id": "_15mKOUDhYuk",
    "outputId": "2d2cf4fb-ea5b-4873-90a4-f9eb692d8aca"
   },
   "outputs": [
    {
     "data": {
      "text/plain": [
       "SPECIAL_CONSIDERATIONS\n",
       "N    34272\n",
       "Y       27\n",
       "Name: count, dtype: int64"
      ]
     },
     "execution_count": 15,
     "metadata": {},
     "output_type": "execute_result"
    }
   ],
   "source": [
    "charity_dataframe['SPECIAL_CONSIDERATIONS'].value_counts().sort_values(ascending = False)"
   ]
  },
  {
   "cell_type": "markdown",
   "metadata": {
    "id": "OiBD7gc1hYuk"
   },
   "source": [
    "### **ASK_AMT**"
   ]
  },
  {
   "cell_type": "code",
   "execution_count": 16,
   "metadata": {
    "colab": {
     "base_uri": "https://localhost:8080/"
    },
    "executionInfo": {
     "elapsed": 258,
     "status": "ok",
     "timestamp": 1714775745939,
     "user": {
      "displayName": "Nicholas George",
      "userId": "08678589358873967227"
     },
     "user_tz": 420
    },
    "id": "X0gyG942hYuk",
    "outputId": "bf9047b9-6cd5-4c63-d740-32abb0054547"
   },
   "outputs": [
    {
     "data": {
      "text/plain": [
       "ASK_AMT\n",
       "5000        25398\n",
       "15583           3\n",
       "63981           3\n",
       "6725            3\n",
       "10478           3\n",
       "            ...  \n",
       "11336           1\n",
       "1270766         1\n",
       "121619          1\n",
       "46915           1\n",
       "36500179        1\n",
       "Name: count, Length: 8747, dtype: int64"
      ]
     },
     "execution_count": 16,
     "metadata": {},
     "output_type": "execute_result"
    }
   ],
   "source": [
    "charity_dataframe['ASK_AMT'].value_counts().sort_values(ascending = False)"
   ]
  },
  {
   "cell_type": "markdown",
   "metadata": {
    "id": "qBPQE5t3hYuk"
   },
   "source": [
    "## **2.5: Change ASK_AMT Integers to Categories**"
   ]
  },
  {
   "cell_type": "code",
   "execution_count": 17,
   "metadata": {
    "id": "1l60g2rEhYuk"
   },
   "outputs": [],
   "source": [
    "updated_charity_dataframe = charity_dataframe.rename(columns = {'ASK_AMT': 'TEMP'})\n",
    "\n",
    "logx.log_write_object(updated_charity_dataframe)"
   ]
  },
  {
   "cell_type": "code",
   "execution_count": 18,
   "metadata": {
    "id": "6R7Qi4hmhYuk"
   },
   "outputs": [],
   "source": [
    "ask_amt_bins_integer_list \\\n",
    "    = [0, 10000, 25000, 100000, 500000, 1000000, 5000000, 10000000, 50000000, 100000000]\n",
    "\n",
    "ask_amt_labels_string_list \\\n",
    "    = ['0-9999', '10000-24999', '25000-99999', '100000-499999', '500000-999999', '1M-5M', '5M-10M', '10M-50M', '50M+']"
   ]
  },
  {
   "cell_type": "code",
   "execution_count": 19,
   "metadata": {
    "id": "56CU6dzUhYuk"
   },
   "outputs": [],
   "source": [
    "updated_charity_dataframe['ASK_AMT'] \\\n",
    "    = pd.cut \\\n",
    "        (x = updated_charity_dataframe['TEMP'],\n",
    "         bins = ask_amt_bins_integer_list,\n",
    "         labels = ask_amt_labels_string_list)\n",
    "\n",
    "updated_charity_dataframe \\\n",
    "    = updated_charity_dataframe \\\n",
    "        [['EIN', 'NAME', 'APPLICATION_TYPE', 'AFFILIATION', 'CLASSIFICATION', 'USE_CASE',\n",
    "          'ORGANIZATION', 'STATUS', 'INCOME_AMT', 'SPECIAL_CONSIDERATIONS', 'ASK_AMT',\n",
    "          'IS_SUCCESSFUL', 'TEMP']]\n",
    "\n",
    "logx.log_write_object(updated_charity_dataframe['ASK_AMT'])"
   ]
  },
  {
   "cell_type": "code",
   "execution_count": 20,
   "metadata": {
    "colab": {
     "base_uri": "https://localhost:8080/"
    },
    "executionInfo": {
     "elapsed": 5,
     "status": "ok",
     "timestamp": 1714775745939,
     "user": {
      "displayName": "Nicholas George",
      "userId": "08678589358873967227"
     },
     "user_tz": 420
    },
    "id": "b-_qCqhMhYul",
    "outputId": "fce3ebf4-b976-4d4f-9bd0-7959df7b1878"
   },
   "outputs": [
    {
     "data": {
      "text/plain": [
       "ASK_AMT\n",
       "0-9999           25946\n",
       "25000-99999       2685\n",
       "100000-499999     2305\n",
       "10000-24999       1135\n",
       "1M-5M              940\n",
       "500000-999999      651\n",
       "10M-50M            258\n",
       "5M-10M             225\n",
       "50M+                53\n",
       "Name: count, dtype: int64"
      ]
     },
     "execution_count": 20,
     "metadata": {},
     "output_type": "execute_result"
    }
   ],
   "source": [
    "updated_charity_dataframe['ASK_AMT'].value_counts().sort_values(ascending = False)"
   ]
  },
  {
   "cell_type": "markdown",
   "metadata": {
    "id": "U6Ysxz3EhYul"
   },
   "source": [
    "## **2.6: Drop the Non-Beneficial ID Columns**"
   ]
  },
  {
   "cell_type": "code",
   "execution_count": 21,
   "metadata": {
    "id": "i2HZWjgihYuo"
   },
   "outputs": [],
   "source": [
    "drop_columns_string_list = ['EIN', 'STATUS', 'SPECIAL_CONSIDERATIONS', 'TEMP']\n",
    "\n",
    "if updated_charity_dataframe.columns.isin(drop_columns_string_list).any():\n",
    "\n",
    "    updated_charity_dataframe.drop(drop_columns_string_list, axis = 1, inplace = True)\n",
    "\n",
    "logx.log_write_object(updated_charity_dataframe)"
   ]
  },
  {
   "cell_type": "markdown",
   "metadata": {},
   "source": [
    "## **2.7: Convert All Features to Uppercase**"
   ]
  },
  {
   "cell_type": "code",
   "execution_count": 22,
   "metadata": {},
   "outputs": [],
   "source": [
    "updated_charity_dataframe['NAME'] = updated_charity_dataframe['NAME'].str.upper()\n",
    "\n",
    "updated_charity_dataframe['APPLICATION_TYPE'] = updated_charity_dataframe['APPLICATION_TYPE'].str.upper()\n",
    "\n",
    "updated_charity_dataframe['AFFILIATION'] = updated_charity_dataframe['AFFILIATION'].str.upper()\n",
    "\n",
    "updated_charity_dataframe['CLASSIFICATION'] = updated_charity_dataframe['CLASSIFICATION'].str.upper()\n",
    "\n",
    "updated_charity_dataframe['USE_CASE'] = updated_charity_dataframe['USE_CASE'].str.upper()\n",
    "\n",
    "updated_charity_dataframe['ORGANIZATION'] = updated_charity_dataframe['ORGANIZATION'].str.upper()\n",
    "\n",
    "updated_charity_dataframe['INCOME_AMT'] = updated_charity_dataframe['INCOME_AMT'].str.upper()\n",
    "\n",
    "updated_charity_dataframe['ASK_AMT'] = updated_charity_dataframe['ASK_AMT'].str.upper()\n",
    "\n",
    "logx.log_write_object(updated_charity_dataframe)"
   ]
  },
  {
   "cell_type": "markdown",
   "metadata": {},
   "source": [
    "## **2.8: Display Updated DataFrame**"
   ]
  },
  {
   "cell_type": "code",
   "execution_count": 23,
   "metadata": {},
   "outputs": [
    {
     "data": {
      "text/html": [
       "<style type=\"text/css\">\n",
       "#T_8533b caption {\n",
       "  color: black;\n",
       "  font-size: 20px;\n",
       "  font-style: bold;\n",
       "  text-align: center;\n",
       "}\n",
       "#T_8533b_row0_col0, #T_8533b_row0_col1, #T_8533b_row0_col2, #T_8533b_row0_col3, #T_8533b_row0_col4, #T_8533b_row0_col5, #T_8533b_row0_col6, #T_8533b_row0_col7, #T_8533b_row0_col8, #T_8533b_row1_col0, #T_8533b_row1_col1, #T_8533b_row1_col2, #T_8533b_row1_col3, #T_8533b_row1_col4, #T_8533b_row1_col5, #T_8533b_row1_col6, #T_8533b_row1_col7, #T_8533b_row1_col8, #T_8533b_row2_col0, #T_8533b_row2_col1, #T_8533b_row2_col2, #T_8533b_row2_col3, #T_8533b_row2_col4, #T_8533b_row2_col5, #T_8533b_row2_col6, #T_8533b_row2_col7, #T_8533b_row2_col8, #T_8533b_row3_col0, #T_8533b_row3_col1, #T_8533b_row3_col2, #T_8533b_row3_col3, #T_8533b_row3_col4, #T_8533b_row3_col5, #T_8533b_row3_col6, #T_8533b_row3_col7, #T_8533b_row3_col8, #T_8533b_row4_col0, #T_8533b_row4_col1, #T_8533b_row4_col2, #T_8533b_row4_col3, #T_8533b_row4_col4, #T_8533b_row4_col5, #T_8533b_row4_col6, #T_8533b_row4_col7, #T_8533b_row4_col8, #T_8533b_row5_col0, #T_8533b_row5_col1, #T_8533b_row5_col2, #T_8533b_row5_col3, #T_8533b_row5_col4, #T_8533b_row5_col5, #T_8533b_row5_col6, #T_8533b_row5_col7, #T_8533b_row5_col8, #T_8533b_row6_col0, #T_8533b_row6_col1, #T_8533b_row6_col2, #T_8533b_row6_col3, #T_8533b_row6_col4, #T_8533b_row6_col5, #T_8533b_row6_col6, #T_8533b_row6_col7, #T_8533b_row6_col8, #T_8533b_row7_col0, #T_8533b_row7_col1, #T_8533b_row7_col2, #T_8533b_row7_col3, #T_8533b_row7_col4, #T_8533b_row7_col5, #T_8533b_row7_col6, #T_8533b_row7_col7, #T_8533b_row7_col8, #T_8533b_row8_col0, #T_8533b_row8_col1, #T_8533b_row8_col2, #T_8533b_row8_col3, #T_8533b_row8_col4, #T_8533b_row8_col5, #T_8533b_row8_col6, #T_8533b_row8_col7, #T_8533b_row8_col8, #T_8533b_row9_col0, #T_8533b_row9_col1, #T_8533b_row9_col2, #T_8533b_row9_col3, #T_8533b_row9_col4, #T_8533b_row9_col5, #T_8533b_row9_col6, #T_8533b_row9_col7, #T_8533b_row9_col8 {\n",
       "  text-align: center;\n",
       "  border: 1.3px solid red;\n",
       "  color: blue;\n",
       "}\n",
       "</style>\n",
       "<table id=\"T_8533b\">\n",
       "  <caption>Table 2.8: Updated Charity Data Table</caption>\n",
       "  <thead>\n",
       "    <tr>\n",
       "      <th id=\"T_8533b_level0_col0\" class=\"col_heading level0 col0\" >NAME</th>\n",
       "      <th id=\"T_8533b_level0_col1\" class=\"col_heading level0 col1\" >APPLICATION_TYPE</th>\n",
       "      <th id=\"T_8533b_level0_col2\" class=\"col_heading level0 col2\" >AFFILIATION</th>\n",
       "      <th id=\"T_8533b_level0_col3\" class=\"col_heading level0 col3\" >CLASSIFICATION</th>\n",
       "      <th id=\"T_8533b_level0_col4\" class=\"col_heading level0 col4\" >USE_CASE</th>\n",
       "      <th id=\"T_8533b_level0_col5\" class=\"col_heading level0 col5\" >ORGANIZATION</th>\n",
       "      <th id=\"T_8533b_level0_col6\" class=\"col_heading level0 col6\" >INCOME_AMT</th>\n",
       "      <th id=\"T_8533b_level0_col7\" class=\"col_heading level0 col7\" >ASK_AMT</th>\n",
       "      <th id=\"T_8533b_level0_col8\" class=\"col_heading level0 col8\" >IS_SUCCESSFUL</th>\n",
       "    </tr>\n",
       "  </thead>\n",
       "  <tbody>\n",
       "    <tr>\n",
       "      <td id=\"T_8533b_row0_col0\" class=\"data row0 col0\" >BLUE KNIGHTS MOTORCYCLE CLUB</td>\n",
       "      <td id=\"T_8533b_row0_col1\" class=\"data row0 col1\" >T10</td>\n",
       "      <td id=\"T_8533b_row0_col2\" class=\"data row0 col2\" >INDEPENDENT</td>\n",
       "      <td id=\"T_8533b_row0_col3\" class=\"data row0 col3\" >C1000</td>\n",
       "      <td id=\"T_8533b_row0_col4\" class=\"data row0 col4\" >PRODUCTDEV</td>\n",
       "      <td id=\"T_8533b_row0_col5\" class=\"data row0 col5\" >ASSOCIATION</td>\n",
       "      <td id=\"T_8533b_row0_col6\" class=\"data row0 col6\" >0</td>\n",
       "      <td id=\"T_8533b_row0_col7\" class=\"data row0 col7\" >0-9999</td>\n",
       "      <td id=\"T_8533b_row0_col8\" class=\"data row0 col8\" >1</td>\n",
       "    </tr>\n",
       "    <tr>\n",
       "      <td id=\"T_8533b_row1_col0\" class=\"data row1 col0\" >AMERICAN CHESAPEAKE CLUB CHARITABLE TR</td>\n",
       "      <td id=\"T_8533b_row1_col1\" class=\"data row1 col1\" >T3</td>\n",
       "      <td id=\"T_8533b_row1_col2\" class=\"data row1 col2\" >INDEPENDENT</td>\n",
       "      <td id=\"T_8533b_row1_col3\" class=\"data row1 col3\" >C2000</td>\n",
       "      <td id=\"T_8533b_row1_col4\" class=\"data row1 col4\" >PRESERVATION</td>\n",
       "      <td id=\"T_8533b_row1_col5\" class=\"data row1 col5\" >CO-OPERATIVE</td>\n",
       "      <td id=\"T_8533b_row1_col6\" class=\"data row1 col6\" >1-9999</td>\n",
       "      <td id=\"T_8533b_row1_col7\" class=\"data row1 col7\" >100000-499999</td>\n",
       "      <td id=\"T_8533b_row1_col8\" class=\"data row1 col8\" >1</td>\n",
       "    </tr>\n",
       "    <tr>\n",
       "      <td id=\"T_8533b_row2_col0\" class=\"data row2 col0\" >ST CLOUD PROFESSIONAL FIREFIGHTERS</td>\n",
       "      <td id=\"T_8533b_row2_col1\" class=\"data row2 col1\" >T5</td>\n",
       "      <td id=\"T_8533b_row2_col2\" class=\"data row2 col2\" >COMPANYSPONSORED</td>\n",
       "      <td id=\"T_8533b_row2_col3\" class=\"data row2 col3\" >C3000</td>\n",
       "      <td id=\"T_8533b_row2_col4\" class=\"data row2 col4\" >PRODUCTDEV</td>\n",
       "      <td id=\"T_8533b_row2_col5\" class=\"data row2 col5\" >ASSOCIATION</td>\n",
       "      <td id=\"T_8533b_row2_col6\" class=\"data row2 col6\" >0</td>\n",
       "      <td id=\"T_8533b_row2_col7\" class=\"data row2 col7\" >0-9999</td>\n",
       "      <td id=\"T_8533b_row2_col8\" class=\"data row2 col8\" >0</td>\n",
       "    </tr>\n",
       "    <tr>\n",
       "      <td id=\"T_8533b_row3_col0\" class=\"data row3 col0\" >SOUTHSIDE ATHLETIC ASSOCIATION</td>\n",
       "      <td id=\"T_8533b_row3_col1\" class=\"data row3 col1\" >T3</td>\n",
       "      <td id=\"T_8533b_row3_col2\" class=\"data row3 col2\" >COMPANYSPONSORED</td>\n",
       "      <td id=\"T_8533b_row3_col3\" class=\"data row3 col3\" >C2000</td>\n",
       "      <td id=\"T_8533b_row3_col4\" class=\"data row3 col4\" >PRESERVATION</td>\n",
       "      <td id=\"T_8533b_row3_col5\" class=\"data row3 col5\" >TRUST</td>\n",
       "      <td id=\"T_8533b_row3_col6\" class=\"data row3 col6\" >10000-24999</td>\n",
       "      <td id=\"T_8533b_row3_col7\" class=\"data row3 col7\" >0-9999</td>\n",
       "      <td id=\"T_8533b_row3_col8\" class=\"data row3 col8\" >1</td>\n",
       "    </tr>\n",
       "    <tr>\n",
       "      <td id=\"T_8533b_row4_col0\" class=\"data row4 col0\" >GENETIC RESEARCH INSTITUTE OF THE DESERT</td>\n",
       "      <td id=\"T_8533b_row4_col1\" class=\"data row4 col1\" >T3</td>\n",
       "      <td id=\"T_8533b_row4_col2\" class=\"data row4 col2\" >INDEPENDENT</td>\n",
       "      <td id=\"T_8533b_row4_col3\" class=\"data row4 col3\" >C1000</td>\n",
       "      <td id=\"T_8533b_row4_col4\" class=\"data row4 col4\" >HEATHCARE</td>\n",
       "      <td id=\"T_8533b_row4_col5\" class=\"data row4 col5\" >TRUST</td>\n",
       "      <td id=\"T_8533b_row4_col6\" class=\"data row4 col6\" >100000-499999</td>\n",
       "      <td id=\"T_8533b_row4_col7\" class=\"data row4 col7\" >100000-499999</td>\n",
       "      <td id=\"T_8533b_row4_col8\" class=\"data row4 col8\" >1</td>\n",
       "    </tr>\n",
       "    <tr>\n",
       "      <td id=\"T_8533b_row5_col0\" class=\"data row5 col0\" >MINORITY ORGAN & TISSUE TRANSPLANT & EDUCATION PROGRAM OF TENNESSEE</td>\n",
       "      <td id=\"T_8533b_row5_col1\" class=\"data row5 col1\" >T3</td>\n",
       "      <td id=\"T_8533b_row5_col2\" class=\"data row5 col2\" >INDEPENDENT</td>\n",
       "      <td id=\"T_8533b_row5_col3\" class=\"data row5 col3\" >C1200</td>\n",
       "      <td id=\"T_8533b_row5_col4\" class=\"data row5 col4\" >PRESERVATION</td>\n",
       "      <td id=\"T_8533b_row5_col5\" class=\"data row5 col5\" >TRUST</td>\n",
       "      <td id=\"T_8533b_row5_col6\" class=\"data row5 col6\" >0</td>\n",
       "      <td id=\"T_8533b_row5_col7\" class=\"data row5 col7\" >0-9999</td>\n",
       "      <td id=\"T_8533b_row5_col8\" class=\"data row5 col8\" >1</td>\n",
       "    </tr>\n",
       "    <tr>\n",
       "      <td id=\"T_8533b_row6_col0\" class=\"data row6 col0\" >FRIENDS OF ARTS COUNCIL OF GREATER DENHAM SPRINGS INC</td>\n",
       "      <td id=\"T_8533b_row6_col1\" class=\"data row6 col1\" >T3</td>\n",
       "      <td id=\"T_8533b_row6_col2\" class=\"data row6 col2\" >INDEPENDENT</td>\n",
       "      <td id=\"T_8533b_row6_col3\" class=\"data row6 col3\" >C1000</td>\n",
       "      <td id=\"T_8533b_row6_col4\" class=\"data row6 col4\" >PRESERVATION</td>\n",
       "      <td id=\"T_8533b_row6_col5\" class=\"data row6 col5\" >TRUST</td>\n",
       "      <td id=\"T_8533b_row6_col6\" class=\"data row6 col6\" >100000-499999</td>\n",
       "      <td id=\"T_8533b_row6_col7\" class=\"data row6 col7\" >25000-99999</td>\n",
       "      <td id=\"T_8533b_row6_col8\" class=\"data row6 col8\" >1</td>\n",
       "    </tr>\n",
       "    <tr>\n",
       "      <td id=\"T_8533b_row7_col0\" class=\"data row7 col0\" >ISRAEL EMERGENCY ALLIANCE</td>\n",
       "      <td id=\"T_8533b_row7_col1\" class=\"data row7 col1\" >T3</td>\n",
       "      <td id=\"T_8533b_row7_col2\" class=\"data row7 col2\" >INDEPENDENT</td>\n",
       "      <td id=\"T_8533b_row7_col3\" class=\"data row7 col3\" >C2000</td>\n",
       "      <td id=\"T_8533b_row7_col4\" class=\"data row7 col4\" >PRESERVATION</td>\n",
       "      <td id=\"T_8533b_row7_col5\" class=\"data row7 col5\" >TRUST</td>\n",
       "      <td id=\"T_8533b_row7_col6\" class=\"data row7 col6\" >10M-50M</td>\n",
       "      <td id=\"T_8533b_row7_col7\" class=\"data row7 col7\" >5M-10M</td>\n",
       "      <td id=\"T_8533b_row7_col8\" class=\"data row7 col8\" >1</td>\n",
       "    </tr>\n",
       "    <tr>\n",
       "      <td id=\"T_8533b_row8_col0\" class=\"data row8 col0\" >ARAMCO BRATS INC</td>\n",
       "      <td id=\"T_8533b_row8_col1\" class=\"data row8 col1\" >T7</td>\n",
       "      <td id=\"T_8533b_row8_col2\" class=\"data row8 col2\" >INDEPENDENT</td>\n",
       "      <td id=\"T_8533b_row8_col3\" class=\"data row8 col3\" >C1000</td>\n",
       "      <td id=\"T_8533b_row8_col4\" class=\"data row8 col4\" >PRODUCTDEV</td>\n",
       "      <td id=\"T_8533b_row8_col5\" class=\"data row8 col5\" >TRUST</td>\n",
       "      <td id=\"T_8533b_row8_col6\" class=\"data row8 col6\" >1-9999</td>\n",
       "      <td id=\"T_8533b_row8_col7\" class=\"data row8 col7\" >25000-99999</td>\n",
       "      <td id=\"T_8533b_row8_col8\" class=\"data row8 col8\" >1</td>\n",
       "    </tr>\n",
       "    <tr>\n",
       "      <td id=\"T_8533b_row9_col0\" class=\"data row9 col0\" >INTERNATIONAL ASSOCIATION OF FIRE FIGHTERS</td>\n",
       "      <td id=\"T_8533b_row9_col1\" class=\"data row9 col1\" >T5</td>\n",
       "      <td id=\"T_8533b_row9_col2\" class=\"data row9 col2\" >COMPANYSPONSORED</td>\n",
       "      <td id=\"T_8533b_row9_col3\" class=\"data row9 col3\" >C3000</td>\n",
       "      <td id=\"T_8533b_row9_col4\" class=\"data row9 col4\" >PRODUCTDEV</td>\n",
       "      <td id=\"T_8533b_row9_col5\" class=\"data row9 col5\" >ASSOCIATION</td>\n",
       "      <td id=\"T_8533b_row9_col6\" class=\"data row9 col6\" >0</td>\n",
       "      <td id=\"T_8533b_row9_col7\" class=\"data row9 col7\" >0-9999</td>\n",
       "      <td id=\"T_8533b_row9_col8\" class=\"data row9 col8\" >0</td>\n",
       "    </tr>\n",
       "  </tbody>\n",
       "</table>\n"
      ],
      "text/plain": [
       "<pandas.io.formats.style.Styler at 0x1619aa490>"
      ]
     },
     "execution_count": 23,
     "metadata": {},
     "output_type": "execute_result"
    }
   ],
   "source": [
    "pandasx.return_formatted_table(updated_charity_dataframe, 'Table 2.8: Updated Charity Data Table')"
   ]
  },
  {
   "cell_type": "markdown",
   "metadata": {
    "id": "qu6NrtGG8_df"
   },
   "source": [
    "# <br> **Section 3: Find Optimal Binning Values**"
   ]
  },
  {
   "cell_type": "markdown",
   "metadata": {
    "id": "IFIfZkzA8-4R"
   },
   "source": [
    "## **3.1: Set Dictionaries**"
   ]
  },
  {
   "cell_type": "code",
   "execution_count": 24,
   "metadata": {
    "id": "kgbEV0R6hYuo"
   },
   "outputs": [],
   "source": [
    "optimal_bins_dictionary \\\n",
    "    = {'NAME': {'bin': 0, 'accuracy': 0.0},\n",
    "       'APPLICATION_TYPE': {'bin': 0, 'accuracy': 0.0},\n",
    "       'AFFILIATION': {'bin': 0, 'accuracy': 0.0},\n",
    "       'CLASSIFICATION': {'bin': 0, 'accuracy': 0.0},\n",
    "       'USE_CASE': {'bin': 0, 'accuracy': 0.0},\n",
    "       'ORGANIZATION': {'bin': 0, 'accuracy': 0.0},\n",
    "       'INCOME_AMT': {'bin': 0, 'accuracy': 0.0},\n",
    "       'ASK_AMT': {'bin': 0, 'accuracy': 0.0}}"
   ]
  },
  {
   "cell_type": "code",
   "execution_count": 25,
   "metadata": {
    "id": "Nk0bPBYLhYuo"
   },
   "outputs": [],
   "source": [
    "binning_parameters_dictionary \\\n",
    "    = {'trials': 10,\n",
    "       'replacement': 'Other',\n",
    "       'target': 'IS_SUCCESSFUL',\n",
    "       'random_state': 21,\n",
    "       'test_size': 0.2,\n",
    "       'first_layer_units': 53,\n",
    "       'first_activation': 'relu',\n",
    "       'hidden_layer_units': 20,\n",
    "       'hidden_activation': 'relu',\n",
    "       'output_layer_units': 1,\n",
    "       'output_activation': 'sigmoid',\n",
    "       'loss': 'log_cosh',\n",
    "       'optimizer': 'adamax',\n",
    "       'metrics': 'accuracy',\n",
    "       'monitor': 'val_accuracy',\n",
    "       'mode': 'max',\n",
    "       'patience': 42,\n",
    "       'restore_best_weights': True,\n",
    "       'epochs': 1000,\n",
    "       'verbose': 2}\n",
    "\n",
    "deep_learningx.set_binning_parameters_dictionary(binning_parameters_dictionary)"
   ]
  },
  {
   "cell_type": "markdown",
   "metadata": {
    "id": "W3nuhkYA8JgR"
   },
   "source": [
    "## **3.2: Examine Each Column for Optimal Binning Values**"
   ]
  },
  {
   "cell_type": "markdown",
   "metadata": {
    "id": "dw-bQeHj8Jdp"
   },
   "source": [
    "### **NAME**"
   ]
  },
  {
   "cell_type": "code",
   "execution_count": 26,
   "metadata": {
    "colab": {
     "base_uri": "https://localhost:8080/"
    },
    "id": "EYlOvln28Jay",
    "outputId": "0f395988-6aed-4a90-bc59-c267cf60ecbb",
    "scrolled": true
   },
   "outputs": [
    {
     "name": "stdout",
     "output_type": "stream",
     "text": [
      "\u001b[1mProcessing: 93/93\n",
      "\u001b[0m\n",
      "\u001b[1mReplacing values...\n",
      "\u001b[0m\n",
      "\u001b[1mSetting dummy values...\n",
      "\u001b[0m\n",
      "\u001b[1mSplitting data into training and testing...\n",
      "\u001b[0m\n",
      "\u001b[1mCreating model...\n",
      "\u001b[0m\n",
      "\u001b[1mCompiling...\n",
      "\u001b[0m\n",
      "\u001b[1mFitting data...\n",
      "\u001b[0m\n",
      "Epoch 1/1000\n",
      "\u001b[1m858/858\u001b[0m \u001b[32m━━━━━━━━━━━━━━━━━━━━\u001b[0m\u001b[37m\u001b[0m \u001b[1m7s\u001b[0m 8ms/step - accuracy: 0.7085 - loss: 0.0965 - val_accuracy: 0.7673 - val_loss: 0.0745\n",
      "Epoch 2/1000\n",
      "\u001b[1m858/858\u001b[0m \u001b[32m━━━━━━━━━━━━━━━━━━━━\u001b[0m\u001b[37m\u001b[0m \u001b[1m7s\u001b[0m 8ms/step - accuracy: 0.7790 - loss: 0.0731 - val_accuracy: 0.7968 - val_loss: 0.0679\n",
      "Epoch 3/1000\n",
      "\u001b[1m858/858\u001b[0m \u001b[32m━━━━━━━━━━━━━━━━━━━━\u001b[0m\u001b[37m\u001b[0m \u001b[1m6s\u001b[0m 7ms/step - accuracy: 0.7996 - loss: 0.0662 - val_accuracy: 0.8000 - val_loss: 0.0660\n",
      "Epoch 4/1000\n",
      "\u001b[1m858/858\u001b[0m \u001b[32m━━━━━━━━━━━━━━━━━━━━\u001b[0m\u001b[37m\u001b[0m \u001b[1m6s\u001b[0m 7ms/step - accuracy: 0.8197 - loss: 0.0602 - val_accuracy: 0.8023 - val_loss: 0.0649\n",
      "Epoch 5/1000\n",
      "\u001b[1m858/858\u001b[0m \u001b[32m━━━━━━━━━━━━━━━━━━━━\u001b[0m\u001b[37m\u001b[0m \u001b[1m6s\u001b[0m 7ms/step - accuracy: 0.8375 - loss: 0.0543 - val_accuracy: 0.8003 - val_loss: 0.0645\n",
      "Epoch 6/1000\n",
      "\u001b[1m858/858\u001b[0m \u001b[32m━━━━━━━━━━━━━━━━━━━━\u001b[0m\u001b[37m\u001b[0m \u001b[1m6s\u001b[0m 7ms/step - accuracy: 0.8672 - loss: 0.0476 - val_accuracy: 0.8009 - val_loss: 0.0664\n",
      "Epoch 7/1000\n",
      "\u001b[1m858/858\u001b[0m \u001b[32m━━━━━━━━━━━━━━━━━━━━\u001b[0m\u001b[37m\u001b[0m \u001b[1m6s\u001b[0m 7ms/step - accuracy: 0.9270 - loss: 0.0377 - val_accuracy: 0.8010 - val_loss: 0.0667\n",
      "Epoch 8/1000\n",
      "\u001b[1m858/858\u001b[0m \u001b[32m━━━━━━━━━━━━━━━━━━━━\u001b[0m\u001b[37m\u001b[0m \u001b[1m6s\u001b[0m 8ms/step - accuracy: 0.9530 - loss: 0.0284 - val_accuracy: 0.7840 - val_loss: 0.0703\n",
      "Epoch 9/1000\n",
      "\u001b[1m858/858\u001b[0m \u001b[32m━━━━━━━━━━━━━━━━━━━━\u001b[0m\u001b[37m\u001b[0m \u001b[1m7s\u001b[0m 8ms/step - accuracy: 0.9633 - loss: 0.0206 - val_accuracy: 0.7901 - val_loss: 0.0689\n",
      "Epoch 10/1000\n",
      "\u001b[1m858/858\u001b[0m \u001b[32m━━━━━━━━━━━━━━━━━━━━\u001b[0m\u001b[37m\u001b[0m \u001b[1m6s\u001b[0m 7ms/step - accuracy: 0.9646 - loss: 0.0166 - val_accuracy: 0.6813 - val_loss: 0.0857\n",
      "Epoch 11/1000\n",
      "\u001b[1m858/858\u001b[0m \u001b[32m━━━━━━━━━━━━━━━━━━━━\u001b[0m\u001b[37m\u001b[0m \u001b[1m6s\u001b[0m 7ms/step - accuracy: 0.9624 - loss: 0.0150 - val_accuracy: 0.7347 - val_loss: 0.0776\n",
      "Epoch 12/1000\n",
      "\u001b[1m858/858\u001b[0m \u001b[32m━━━━━━━━━━━━━━━━━━━━\u001b[0m\u001b[37m\u001b[0m \u001b[1m7s\u001b[0m 8ms/step - accuracy: 0.9640 - loss: 0.0141 - val_accuracy: 0.7713 - val_loss: 0.0728\n",
      "Epoch 13/1000\n",
      "\u001b[1m858/858\u001b[0m \u001b[32m━━━━━━━━━━━━━━━━━━━━\u001b[0m\u001b[37m\u001b[0m \u001b[1m6s\u001b[0m 7ms/step - accuracy: 0.9629 - loss: 0.0141 - val_accuracy: 0.6748 - val_loss: 0.0873\n",
      "Epoch 14/1000\n",
      "\u001b[1m858/858\u001b[0m \u001b[32m━━━━━━━━━━━━━━━━━━━━\u001b[0m\u001b[37m\u001b[0m \u001b[1m7s\u001b[0m 8ms/step - accuracy: 0.9650 - loss: 0.0132 - val_accuracy: 0.7757 - val_loss: 0.0714\n",
      "Epoch 15/1000\n",
      "\u001b[1m858/858\u001b[0m \u001b[32m━━━━━━━━━━━━━━━━━━━━\u001b[0m\u001b[37m\u001b[0m \u001b[1m7s\u001b[0m 8ms/step - accuracy: 0.9667 - loss: 0.0126 - val_accuracy: 0.7994 - val_loss: 0.0680\n",
      "Epoch 16/1000\n",
      "\u001b[1m858/858\u001b[0m \u001b[32m━━━━━━━━━━━━━━━━━━━━\u001b[0m\u001b[37m\u001b[0m \u001b[1m7s\u001b[0m 8ms/step - accuracy: 0.9620 - loss: 0.0141 - val_accuracy: 0.6968 - val_loss: 0.0848\n",
      "Epoch 17/1000\n",
      "\u001b[1m858/858\u001b[0m \u001b[32m━━━━━━━━━━━━━━━━━━━━\u001b[0m\u001b[37m\u001b[0m \u001b[1m7s\u001b[0m 8ms/step - accuracy: 0.9646 - loss: 0.0129 - val_accuracy: 0.7198 - val_loss: 0.0803\n",
      "Epoch 18/1000\n",
      "\u001b[1m858/858\u001b[0m \u001b[32m━━━━━━━━━━━━━━━━━━━━\u001b[0m\u001b[37m\u001b[0m \u001b[1m7s\u001b[0m 8ms/step - accuracy: 0.9642 - loss: 0.0132 - val_accuracy: 0.6497 - val_loss: 0.0955\n",
      "Epoch 19/1000\n",
      "\u001b[1m858/858\u001b[0m \u001b[32m━━━━━━━━━━━━━━━━━━━━\u001b[0m\u001b[37m\u001b[0m \u001b[1m7s\u001b[0m 8ms/step - accuracy: 0.9633 - loss: 0.0137 - val_accuracy: 0.7792 - val_loss: 0.0724\n",
      "Epoch 20/1000\n",
      "\u001b[1m858/858\u001b[0m \u001b[32m━━━━━━━━━━━━━━━━━━━━\u001b[0m\u001b[37m\u001b[0m \u001b[1m7s\u001b[0m 8ms/step - accuracy: 0.9639 - loss: 0.0131 - val_accuracy: 0.7580 - val_loss: 0.0755\n",
      "Epoch 21/1000\n",
      "\u001b[1m858/858\u001b[0m \u001b[32m━━━━━━━━━━━━━━━━━━━━\u001b[0m\u001b[37m\u001b[0m \u001b[1m7s\u001b[0m 8ms/step - accuracy: 0.9639 - loss: 0.0130 - val_accuracy: 0.6389 - val_loss: 0.0979\n",
      "Epoch 22/1000\n",
      "\u001b[1m858/858\u001b[0m \u001b[32m━━━━━━━━━━━━━━━━━━━━\u001b[0m\u001b[37m\u001b[0m \u001b[1m7s\u001b[0m 8ms/step - accuracy: 0.9638 - loss: 0.0135 - val_accuracy: 0.6353 - val_loss: 0.0979\n",
      "Epoch 23/1000\n",
      "\u001b[1m858/858\u001b[0m \u001b[32m━━━━━━━━━━━━━━━━━━━━\u001b[0m\u001b[37m\u001b[0m \u001b[1m7s\u001b[0m 8ms/step - accuracy: 0.9658 - loss: 0.0124 - val_accuracy: 0.7926 - val_loss: 0.0719\n",
      "Epoch 24/1000\n",
      "\u001b[1m858/858\u001b[0m \u001b[32m━━━━━━━━━━━━━━━━━━━━\u001b[0m\u001b[37m\u001b[0m \u001b[1m7s\u001b[0m 8ms/step - accuracy: 0.9648 - loss: 0.0129 - val_accuracy: 0.6723 - val_loss: 0.0926\n",
      "Epoch 25/1000\n",
      "\u001b[1m858/858\u001b[0m \u001b[32m━━━━━━━━━━━━━━━━━━━━\u001b[0m\u001b[37m\u001b[0m \u001b[1m7s\u001b[0m 8ms/step - accuracy: 0.9645 - loss: 0.0132 - val_accuracy: 0.6127 - val_loss: 0.1093\n",
      "Epoch 26/1000\n",
      "\u001b[1m858/858\u001b[0m \u001b[32m━━━━━━━━━━━━━━━━━━━━\u001b[0m\u001b[37m\u001b[0m \u001b[1m6s\u001b[0m 7ms/step - accuracy: 0.9653 - loss: 0.0126 - val_accuracy: 0.7051 - val_loss: 0.0841\n",
      "Epoch 27/1000\n",
      "\u001b[1m858/858\u001b[0m \u001b[32m━━━━━━━━━━━━━━━━━━━━\u001b[0m\u001b[37m\u001b[0m \u001b[1m7s\u001b[0m 8ms/step - accuracy: 0.9660 - loss: 0.0124 - val_accuracy: 0.7569 - val_loss: 0.0766\n",
      "Epoch 28/1000\n",
      "\u001b[1m858/858\u001b[0m \u001b[32m━━━━━━━━━━━━━━━━━━━━\u001b[0m\u001b[37m\u001b[0m \u001b[1m7s\u001b[0m 8ms/step - accuracy: 0.9672 - loss: 0.0121 - val_accuracy: 0.7445 - val_loss: 0.0801\n",
      "Epoch 29/1000\n",
      "\u001b[1m858/858\u001b[0m \u001b[32m━━━━━━━━━━━━━━━━━━━━\u001b[0m\u001b[37m\u001b[0m \u001b[1m7s\u001b[0m 8ms/step - accuracy: 0.9642 - loss: 0.0128 - val_accuracy: 0.7870 - val_loss: 0.0716\n",
      "Epoch 30/1000\n",
      "\u001b[1m858/858\u001b[0m \u001b[32m━━━━━━━━━━━━━━━━━━━━\u001b[0m\u001b[37m\u001b[0m \u001b[1m7s\u001b[0m 8ms/step - accuracy: 0.9650 - loss: 0.0124 - val_accuracy: 0.6662 - val_loss: 0.0965\n",
      "Epoch 31/1000\n",
      "\u001b[1m858/858\u001b[0m \u001b[32m━━━━━━━━━━━━━━━━━━━━\u001b[0m\u001b[37m\u001b[0m \u001b[1m7s\u001b[0m 8ms/step - accuracy: 0.9671 - loss: 0.0120 - val_accuracy: 0.7848 - val_loss: 0.0720\n",
      "Epoch 32/1000\n",
      "\u001b[1m858/858\u001b[0m \u001b[32m━━━━━━━━━━━━━━━━━━━━\u001b[0m\u001b[37m\u001b[0m \u001b[1m7s\u001b[0m 8ms/step - accuracy: 0.9656 - loss: 0.0123 - val_accuracy: 0.6937 - val_loss: 0.0872\n",
      "Epoch 33/1000\n",
      "\u001b[1m858/858\u001b[0m \u001b[32m━━━━━━━━━━━━━━━━━━━━\u001b[0m\u001b[37m\u001b[0m \u001b[1m7s\u001b[0m 8ms/step - accuracy: 0.9656 - loss: 0.0123 - val_accuracy: 0.7322 - val_loss: 0.0807\n",
      "Epoch 34/1000\n",
      "\u001b[1m858/858\u001b[0m \u001b[32m━━━━━━━━━━━━━━━━━━━━\u001b[0m\u001b[37m\u001b[0m \u001b[1m7s\u001b[0m 8ms/step - accuracy: 0.9656 - loss: 0.0120 - val_accuracy: 0.7452 - val_loss: 0.0788\n",
      "Epoch 35/1000\n",
      "\u001b[1m858/858\u001b[0m \u001b[32m━━━━━━━━━━━━━━━━━━━━\u001b[0m\u001b[37m\u001b[0m \u001b[1m7s\u001b[0m 8ms/step - accuracy: 0.9661 - loss: 0.0119 - val_accuracy: 0.7949 - val_loss: 0.0694\n",
      "Epoch 36/1000\n",
      "\u001b[1m858/858\u001b[0m \u001b[32m━━━━━━━━━━━━━━━━━━━━\u001b[0m\u001b[37m\u001b[0m \u001b[1m6s\u001b[0m 7ms/step - accuracy: 0.9650 - loss: 0.0125 - val_accuracy: 0.7401 - val_loss: 0.0809\n",
      "Epoch 37/1000\n",
      "\u001b[1m858/858\u001b[0m \u001b[32m━━━━━━━━━━━━━━━━━━━━\u001b[0m\u001b[37m\u001b[0m \u001b[1m6s\u001b[0m 7ms/step - accuracy: 0.9649 - loss: 0.0124 - val_accuracy: 0.5743 - val_loss: 0.1287\n",
      "Epoch 38/1000\n",
      "\u001b[1m858/858\u001b[0m \u001b[32m━━━━━━━━━━━━━━━━━━━━\u001b[0m\u001b[37m\u001b[0m \u001b[1m6s\u001b[0m 7ms/step - accuracy: 0.9661 - loss: 0.0122 - val_accuracy: 0.5999 - val_loss: 0.1159\n",
      "Epoch 39/1000\n",
      "\u001b[1m858/858\u001b[0m \u001b[32m━━━━━━━━━━━━━━━━━━━━\u001b[0m\u001b[37m\u001b[0m \u001b[1m6s\u001b[0m 8ms/step - accuracy: 0.9665 - loss: 0.0123 - val_accuracy: 0.6497 - val_loss: 0.0998\n",
      "Epoch 40/1000\n",
      "\u001b[1m858/858\u001b[0m \u001b[32m━━━━━━━━━━━━━━━━━━━━\u001b[0m\u001b[37m\u001b[0m \u001b[1m6s\u001b[0m 7ms/step - accuracy: 0.9655 - loss: 0.0123 - val_accuracy: 0.6824 - val_loss: 0.0906\n",
      "Epoch 41/1000\n",
      "\u001b[1m858/858\u001b[0m \u001b[32m━━━━━━━━━━━━━━━━━━━━\u001b[0m\u001b[37m\u001b[0m \u001b[1m6s\u001b[0m 7ms/step - accuracy: 0.9673 - loss: 0.0116 - val_accuracy: 0.7529 - val_loss: 0.0787\n",
      "Epoch 42/1000\n",
      "\u001b[1m858/858\u001b[0m \u001b[32m━━━━━━━━━━━━━━━━━━━━\u001b[0m\u001b[37m\u001b[0m \u001b[1m6s\u001b[0m 7ms/step - accuracy: 0.9668 - loss: 0.0121 - val_accuracy: 0.6318 - val_loss: 0.1028\n",
      "Epoch 43/1000\n",
      "\u001b[1m858/858\u001b[0m \u001b[32m━━━━━━━━━━━━━━━━━━━━\u001b[0m\u001b[37m\u001b[0m \u001b[1m6s\u001b[0m 7ms/step - accuracy: 0.9670 - loss: 0.0120 - val_accuracy: 0.7408 - val_loss: 0.0795\n",
      "Epoch 44/1000\n",
      "\u001b[1m858/858\u001b[0m \u001b[32m━━━━━━━━━━━━━━━━━━━━\u001b[0m\u001b[37m\u001b[0m \u001b[1m6s\u001b[0m 7ms/step - accuracy: 0.9647 - loss: 0.0123 - val_accuracy: 0.7659 - val_loss: 0.0750\n",
      "Epoch 45/1000\n",
      "\u001b[1m858/858\u001b[0m \u001b[32m━━━━━━━━━━━━━━━━━━━━\u001b[0m\u001b[37m\u001b[0m \u001b[1m6s\u001b[0m 7ms/step - accuracy: 0.9678 - loss: 0.0115 - val_accuracy: 0.7172 - val_loss: 0.0870\n",
      "Epoch 46/1000\n",
      "\u001b[1m858/858\u001b[0m \u001b[32m━━━━━━━━━━━━━━━━━━━━\u001b[0m\u001b[37m\u001b[0m \u001b[1m6s\u001b[0m 7ms/step - accuracy: 0.9654 - loss: 0.0121 - val_accuracy: 0.7726 - val_loss: 0.0729\n",
      "215/215 - 0s - 1ms/step - accuracy: 0.8023 - loss: 0.0649\n"
     ]
    }
   ],
   "source": [
    "updated_charity_dataframe['NAME'], optimal_bins_dictionary['NAME'] \\\n",
    "    = deep_learningx.return_optimal_binning_value \\\n",
    "        (updated_charity_dataframe, 'NAME', 'OTHER', 0.0)\n",
    "\n",
    "logx.log_write_object \\\n",
    "    (updated_charity_dataframe['NAME'] \\\n",
    "        .value_counts().sort_values(ascending = False))"
   ]
  },
  {
   "cell_type": "markdown",
   "metadata": {
    "id": "_Y5bK_7y8JYL"
   },
   "source": [
    "### **APPLICATION_TYPE**"
   ]
  },
  {
   "cell_type": "code",
   "execution_count": 27,
   "metadata": {
    "id": "ChmWsAWQ09PZ"
   },
   "outputs": [
    {
     "name": "stdout",
     "output_type": "stream",
     "text": [
      "\u001b[1mProcessing: 16/16\n",
      "\u001b[0m\n",
      "\u001b[1mReplacing values...\n",
      "\u001b[0m\n",
      "\u001b[1mSetting dummy values...\n",
      "\u001b[0m\n",
      "\u001b[1mSplitting data into training and testing...\n",
      "\u001b[0m\n",
      "\u001b[1mCreating model...\n",
      "\u001b[0m\n",
      "\u001b[1mCompiling...\n",
      "\u001b[0m\n",
      "\u001b[1mFitting data...\n",
      "\u001b[0m\n",
      "Epoch 1/1000\n",
      "\u001b[1m858/858\u001b[0m \u001b[32m━━━━━━━━━━━━━━━━━━━━\u001b[0m\u001b[37m\u001b[0m \u001b[1m1s\u001b[0m 976us/step - accuracy: 0.6975 - loss: 0.0989 - val_accuracy: 0.7593 - val_loss: 0.0774\n",
      "Epoch 2/1000\n",
      "\u001b[1m858/858\u001b[0m \u001b[32m━━━━━━━━━━━━━━━━━━━━\u001b[0m\u001b[37m\u001b[0m \u001b[1m1s\u001b[0m 833us/step - accuracy: 0.7624 - loss: 0.0774 - val_accuracy: 0.7888 - val_loss: 0.0710\n",
      "Epoch 3/1000\n",
      "\u001b[1m858/858\u001b[0m \u001b[32m━━━━━━━━━━━━━━━━━━━━\u001b[0m\u001b[37m\u001b[0m \u001b[1m1s\u001b[0m 863us/step - accuracy: 0.7850 - loss: 0.0719 - val_accuracy: 0.8013 - val_loss: 0.0683\n",
      "Epoch 4/1000\n",
      "\u001b[1m858/858\u001b[0m \u001b[32m━━━━━━━━━━━━━━━━━━━━\u001b[0m\u001b[37m\u001b[0m \u001b[1m1s\u001b[0m 838us/step - accuracy: 0.7903 - loss: 0.0694 - val_accuracy: 0.8004 - val_loss: 0.0667\n",
      "Epoch 5/1000\n",
      "\u001b[1m858/858\u001b[0m \u001b[32m━━━━━━━━━━━━━━━━━━━━\u001b[0m\u001b[37m\u001b[0m \u001b[1m1s\u001b[0m 847us/step - accuracy: 0.7972 - loss: 0.0674 - val_accuracy: 0.8006 - val_loss: 0.0657\n",
      "Epoch 6/1000\n",
      "\u001b[1m858/858\u001b[0m \u001b[32m━━━━━━━━━━━━━━━━━━━━\u001b[0m\u001b[37m\u001b[0m \u001b[1m1s\u001b[0m 851us/step - accuracy: 0.8012 - loss: 0.0661 - val_accuracy: 0.8038 - val_loss: 0.0651\n",
      "Epoch 7/1000\n",
      "\u001b[1m858/858\u001b[0m \u001b[32m━━━━━━━━━━━━━━━━━━━━\u001b[0m\u001b[37m\u001b[0m \u001b[1m1s\u001b[0m 864us/step - accuracy: 0.8045 - loss: 0.0642 - val_accuracy: 0.7999 - val_loss: 0.0653\n",
      "Epoch 8/1000\n",
      "\u001b[1m858/858\u001b[0m \u001b[32m━━━━━━━━━━━━━━━━━━━━\u001b[0m\u001b[37m\u001b[0m \u001b[1m1s\u001b[0m 819us/step - accuracy: 0.8069 - loss: 0.0636 - val_accuracy: 0.8036 - val_loss: 0.0643\n",
      "Epoch 9/1000\n",
      "\u001b[1m858/858\u001b[0m \u001b[32m━━━━━━━━━━━━━━━━━━━━\u001b[0m\u001b[37m\u001b[0m \u001b[1m1s\u001b[0m 828us/step - accuracy: 0.8069 - loss: 0.0632 - val_accuracy: 0.8066 - val_loss: 0.0640\n",
      "Epoch 10/1000\n",
      "\u001b[1m858/858\u001b[0m \u001b[32m━━━━━━━━━━━━━━━━━━━━\u001b[0m\u001b[37m\u001b[0m \u001b[1m1s\u001b[0m 807us/step - accuracy: 0.8067 - loss: 0.0637 - val_accuracy: 0.8079 - val_loss: 0.0642\n",
      "Epoch 11/1000\n",
      "\u001b[1m858/858\u001b[0m \u001b[32m━━━━━━━━━━━━━━━━━━━━\u001b[0m\u001b[37m\u001b[0m \u001b[1m1s\u001b[0m 809us/step - accuracy: 0.8084 - loss: 0.0630 - val_accuracy: 0.8047 - val_loss: 0.0644\n",
      "Epoch 12/1000\n",
      "\u001b[1m858/858\u001b[0m \u001b[32m━━━━━━━━━━━━━━━━━━━━\u001b[0m\u001b[37m\u001b[0m \u001b[1m1s\u001b[0m 853us/step - accuracy: 0.8111 - loss: 0.0628 - val_accuracy: 0.8035 - val_loss: 0.0637\n",
      "Epoch 13/1000\n",
      "\u001b[1m858/858\u001b[0m \u001b[32m━━━━━━━━━━━━━━━━━━━━\u001b[0m\u001b[37m\u001b[0m \u001b[1m1s\u001b[0m 818us/step - accuracy: 0.8087 - loss: 0.0629 - val_accuracy: 0.7993 - val_loss: 0.0658\n",
      "Epoch 14/1000\n",
      "\u001b[1m858/858\u001b[0m \u001b[32m━━━━━━━━━━━━━━━━━━━━\u001b[0m\u001b[37m\u001b[0m \u001b[1m1s\u001b[0m 823us/step - accuracy: 0.8077 - loss: 0.0628 - val_accuracy: 0.8060 - val_loss: 0.0637\n",
      "Epoch 15/1000\n",
      "\u001b[1m858/858\u001b[0m \u001b[32m━━━━━━━━━━━━━━━━━━━━\u001b[0m\u001b[37m\u001b[0m \u001b[1m1s\u001b[0m 836us/step - accuracy: 0.8077 - loss: 0.0624 - val_accuracy: 0.8076 - val_loss: 0.0635\n",
      "Epoch 16/1000\n",
      "\u001b[1m858/858\u001b[0m \u001b[32m━━━━━━━━━━━━━━━━━━━━\u001b[0m\u001b[37m\u001b[0m \u001b[1m1s\u001b[0m 804us/step - accuracy: 0.8114 - loss: 0.0621 - val_accuracy: 0.8015 - val_loss: 0.0647\n",
      "Epoch 17/1000\n",
      "\u001b[1m858/858\u001b[0m \u001b[32m━━━━━━━━━━━━━━━━━━━━\u001b[0m\u001b[37m\u001b[0m \u001b[1m1s\u001b[0m 845us/step - accuracy: 0.8151 - loss: 0.0614 - val_accuracy: 0.8010 - val_loss: 0.0637\n",
      "Epoch 18/1000\n",
      "\u001b[1m858/858\u001b[0m \u001b[32m━━━━━━━━━━━━━━━━━━━━\u001b[0m\u001b[37m\u001b[0m \u001b[1m1s\u001b[0m 885us/step - accuracy: 0.8091 - loss: 0.0621 - val_accuracy: 0.8036 - val_loss: 0.0635\n",
      "Epoch 19/1000\n",
      "\u001b[1m858/858\u001b[0m \u001b[32m━━━━━━━━━━━━━━━━━━━━\u001b[0m\u001b[37m\u001b[0m \u001b[1m1s\u001b[0m 836us/step - accuracy: 0.8119 - loss: 0.0618 - val_accuracy: 0.8032 - val_loss: 0.0636\n",
      "Epoch 20/1000\n",
      "\u001b[1m858/858\u001b[0m \u001b[32m━━━━━━━━━━━━━━━━━━━━\u001b[0m\u001b[37m\u001b[0m \u001b[1m1s\u001b[0m 894us/step - accuracy: 0.8103 - loss: 0.0614 - val_accuracy: 0.8054 - val_loss: 0.0631\n",
      "Epoch 21/1000\n",
      "\u001b[1m858/858\u001b[0m \u001b[32m━━━━━━━━━━━━━━━━━━━━\u001b[0m\u001b[37m\u001b[0m \u001b[1m1s\u001b[0m 826us/step - accuracy: 0.8156 - loss: 0.0614 - val_accuracy: 0.8060 - val_loss: 0.0636\n",
      "Epoch 22/1000\n",
      "\u001b[1m858/858\u001b[0m \u001b[32m━━━━━━━━━━━━━━━━━━━━\u001b[0m\u001b[37m\u001b[0m \u001b[1m1s\u001b[0m 868us/step - accuracy: 0.8124 - loss: 0.0614 - val_accuracy: 0.8061 - val_loss: 0.0634\n",
      "Epoch 23/1000\n",
      "\u001b[1m858/858\u001b[0m \u001b[32m━━━━━━━━━━━━━━━━━━━━\u001b[0m\u001b[37m\u001b[0m \u001b[1m1s\u001b[0m 823us/step - accuracy: 0.8122 - loss: 0.0616 - val_accuracy: 0.8069 - val_loss: 0.0636\n",
      "Epoch 24/1000\n",
      "\u001b[1m858/858\u001b[0m \u001b[32m━━━━━━━━━━━━━━━━━━━━\u001b[0m\u001b[37m\u001b[0m \u001b[1m1s\u001b[0m 822us/step - accuracy: 0.8109 - loss: 0.0616 - val_accuracy: 0.8090 - val_loss: 0.0634\n",
      "Epoch 25/1000\n",
      "\u001b[1m858/858\u001b[0m \u001b[32m━━━━━━━━━━━━━━━━━━━━\u001b[0m\u001b[37m\u001b[0m \u001b[1m1s\u001b[0m 865us/step - accuracy: 0.8121 - loss: 0.0622 - val_accuracy: 0.8028 - val_loss: 0.0636\n",
      "Epoch 26/1000\n",
      "\u001b[1m858/858\u001b[0m \u001b[32m━━━━━━━━━━━━━━━━━━━━\u001b[0m\u001b[37m\u001b[0m \u001b[1m1s\u001b[0m 818us/step - accuracy: 0.8155 - loss: 0.0609 - val_accuracy: 0.8063 - val_loss: 0.0638\n",
      "Epoch 27/1000\n",
      "\u001b[1m858/858\u001b[0m \u001b[32m━━━━━━━━━━━━━━━━━━━━\u001b[0m\u001b[37m\u001b[0m \u001b[1m1s\u001b[0m 833us/step - accuracy: 0.8147 - loss: 0.0608 - val_accuracy: 0.8036 - val_loss: 0.0635\n",
      "Epoch 28/1000\n",
      "\u001b[1m858/858\u001b[0m \u001b[32m━━━━━━━━━━━━━━━━━━━━\u001b[0m\u001b[37m\u001b[0m \u001b[1m1s\u001b[0m 867us/step - accuracy: 0.8121 - loss: 0.0616 - val_accuracy: 0.8066 - val_loss: 0.0634\n",
      "Epoch 29/1000\n",
      "\u001b[1m858/858\u001b[0m \u001b[32m━━━━━━━━━━━━━━━━━━━━\u001b[0m\u001b[37m\u001b[0m \u001b[1m1s\u001b[0m 844us/step - accuracy: 0.8175 - loss: 0.0598 - val_accuracy: 0.8064 - val_loss: 0.0631\n",
      "Epoch 30/1000\n",
      "\u001b[1m858/858\u001b[0m \u001b[32m━━━━━━━━━━━━━━━━━━━━\u001b[0m\u001b[37m\u001b[0m \u001b[1m1s\u001b[0m 841us/step - accuracy: 0.8152 - loss: 0.0607 - val_accuracy: 0.8069 - val_loss: 0.0638\n",
      "Epoch 31/1000\n",
      "\u001b[1m858/858\u001b[0m \u001b[32m━━━━━━━━━━━━━━━━━━━━\u001b[0m\u001b[37m\u001b[0m \u001b[1m1s\u001b[0m 881us/step - accuracy: 0.8169 - loss: 0.0595 - val_accuracy: 0.8082 - val_loss: 0.0633\n",
      "Epoch 32/1000\n",
      "\u001b[1m858/858\u001b[0m \u001b[32m━━━━━━━━━━━━━━━━━━━━\u001b[0m\u001b[37m\u001b[0m \u001b[1m1s\u001b[0m 823us/step - accuracy: 0.8104 - loss: 0.0618 - val_accuracy: 0.8098 - val_loss: 0.0636\n",
      "Epoch 33/1000\n",
      "\u001b[1m858/858\u001b[0m \u001b[32m━━━━━━━━━━━━━━━━━━━━\u001b[0m\u001b[37m\u001b[0m \u001b[1m1s\u001b[0m 827us/step - accuracy: 0.8136 - loss: 0.0611 - val_accuracy: 0.8041 - val_loss: 0.0635\n",
      "Epoch 34/1000\n",
      "\u001b[1m858/858\u001b[0m \u001b[32m━━━━━━━━━━━━━━━━━━━━\u001b[0m\u001b[37m\u001b[0m \u001b[1m1s\u001b[0m 832us/step - accuracy: 0.8118 - loss: 0.0613 - val_accuracy: 0.8010 - val_loss: 0.0635\n",
      "Epoch 35/1000\n",
      "\u001b[1m858/858\u001b[0m \u001b[32m━━━━━━━━━━━━━━━━━━━━\u001b[0m\u001b[37m\u001b[0m \u001b[1m1s\u001b[0m 842us/step - accuracy: 0.8142 - loss: 0.0613 - val_accuracy: 0.8069 - val_loss: 0.0632\n",
      "Epoch 36/1000\n",
      "\u001b[1m858/858\u001b[0m \u001b[32m━━━━━━━━━━━━━━━━━━━━\u001b[0m\u001b[37m\u001b[0m \u001b[1m1s\u001b[0m 808us/step - accuracy: 0.8153 - loss: 0.0605 - val_accuracy: 0.8063 - val_loss: 0.0634\n",
      "Epoch 37/1000\n",
      "\u001b[1m858/858\u001b[0m \u001b[32m━━━━━━━━━━━━━━━━━━━━\u001b[0m\u001b[37m\u001b[0m \u001b[1m1s\u001b[0m 808us/step - accuracy: 0.8163 - loss: 0.0604 - val_accuracy: 0.8092 - val_loss: 0.0635\n",
      "Epoch 38/1000\n",
      "\u001b[1m858/858\u001b[0m \u001b[32m━━━━━━━━━━━━━━━━━━━━\u001b[0m\u001b[37m\u001b[0m \u001b[1m1s\u001b[0m 849us/step - accuracy: 0.8104 - loss: 0.0613 - val_accuracy: 0.8045 - val_loss: 0.0637\n",
      "Epoch 39/1000\n",
      "\u001b[1m858/858\u001b[0m \u001b[32m━━━━━━━━━━━━━━━━━━━━\u001b[0m\u001b[37m\u001b[0m \u001b[1m1s\u001b[0m 848us/step - accuracy: 0.8146 - loss: 0.0612 - val_accuracy: 0.8035 - val_loss: 0.0636\n",
      "Epoch 40/1000\n",
      "\u001b[1m858/858\u001b[0m \u001b[32m━━━━━━━━━━━━━━━━━━━━\u001b[0m\u001b[37m\u001b[0m \u001b[1m1s\u001b[0m 828us/step - accuracy: 0.8153 - loss: 0.0610 - val_accuracy: 0.8090 - val_loss: 0.0638\n",
      "Epoch 41/1000\n",
      "\u001b[1m858/858\u001b[0m \u001b[32m━━━━━━━━━━━━━━━━━━━━\u001b[0m\u001b[37m\u001b[0m \u001b[1m1s\u001b[0m 863us/step - accuracy: 0.8107 - loss: 0.0615 - val_accuracy: 0.7996 - val_loss: 0.0644\n",
      "Epoch 42/1000\n",
      "\u001b[1m858/858\u001b[0m \u001b[32m━━━━━━━━━━━━━━━━━━━━\u001b[0m\u001b[37m\u001b[0m \u001b[1m1s\u001b[0m 873us/step - accuracy: 0.8176 - loss: 0.0601 - val_accuracy: 0.8061 - val_loss: 0.0637\n",
      "Epoch 43/1000\n",
      "\u001b[1m858/858\u001b[0m \u001b[32m━━━━━━━━━━━━━━━━━━━━\u001b[0m\u001b[37m\u001b[0m \u001b[1m1s\u001b[0m 873us/step - accuracy: 0.8160 - loss: 0.0601 - val_accuracy: 0.8057 - val_loss: 0.0634\n",
      "Epoch 44/1000\n",
      "\u001b[1m858/858\u001b[0m \u001b[32m━━━━━━━━━━━━━━━━━━━━\u001b[0m\u001b[37m\u001b[0m \u001b[1m1s\u001b[0m 889us/step - accuracy: 0.8145 - loss: 0.0613 - val_accuracy: 0.8082 - val_loss: 0.0635\n",
      "Epoch 45/1000\n",
      "\u001b[1m858/858\u001b[0m \u001b[32m━━━━━━━━━━━━━━━━━━━━\u001b[0m\u001b[37m\u001b[0m \u001b[1m1s\u001b[0m 867us/step - accuracy: 0.8170 - loss: 0.0602 - val_accuracy: 0.8071 - val_loss: 0.0640\n",
      "Epoch 46/1000\n",
      "\u001b[1m858/858\u001b[0m \u001b[32m━━━━━━━━━━━━━━━━━━━━\u001b[0m\u001b[37m\u001b[0m \u001b[1m1s\u001b[0m 871us/step - accuracy: 0.8185 - loss: 0.0599 - val_accuracy: 0.8067 - val_loss: 0.0634\n",
      "Epoch 47/1000\n",
      "\u001b[1m858/858\u001b[0m \u001b[32m━━━━━━━━━━━━━━━━━━━━\u001b[0m\u001b[37m\u001b[0m \u001b[1m1s\u001b[0m 884us/step - accuracy: 0.8196 - loss: 0.0592 - val_accuracy: 0.8061 - val_loss: 0.0637\n",
      "Epoch 48/1000\n",
      "\u001b[1m858/858\u001b[0m \u001b[32m━━━━━━━━━━━━━━━━━━━━\u001b[0m\u001b[37m\u001b[0m \u001b[1m1s\u001b[0m 882us/step - accuracy: 0.8178 - loss: 0.0597 - val_accuracy: 0.8061 - val_loss: 0.0636\n",
      "Epoch 49/1000\n",
      "\u001b[1m858/858\u001b[0m \u001b[32m━━━━━━━━━━━━━━━━━━━━\u001b[0m\u001b[37m\u001b[0m \u001b[1m1s\u001b[0m 843us/step - accuracy: 0.8149 - loss: 0.0604 - val_accuracy: 0.8080 - val_loss: 0.0634\n",
      "Epoch 50/1000\n",
      "\u001b[1m858/858\u001b[0m \u001b[32m━━━━━━━━━━━━━━━━━━━━\u001b[0m\u001b[37m\u001b[0m \u001b[1m1s\u001b[0m 876us/step - accuracy: 0.8168 - loss: 0.0601 - val_accuracy: 0.8057 - val_loss: 0.0632\n",
      "Epoch 51/1000\n",
      "\u001b[1m858/858\u001b[0m \u001b[32m━━━━━━━━━━━━━━━━━━━━\u001b[0m\u001b[37m\u001b[0m \u001b[1m1s\u001b[0m 901us/step - accuracy: 0.8155 - loss: 0.0606 - val_accuracy: 0.8042 - val_loss: 0.0641\n",
      "Epoch 52/1000\n",
      "\u001b[1m858/858\u001b[0m \u001b[32m━━━━━━━━━━━━━━━━━━━━\u001b[0m\u001b[37m\u001b[0m \u001b[1m1s\u001b[0m 894us/step - accuracy: 0.8137 - loss: 0.0608 - val_accuracy: 0.8057 - val_loss: 0.0637\n",
      "Epoch 53/1000\n",
      "\u001b[1m858/858\u001b[0m \u001b[32m━━━━━━━━━━━━━━━━━━━━\u001b[0m\u001b[37m\u001b[0m \u001b[1m1s\u001b[0m 881us/step - accuracy: 0.8179 - loss: 0.0599 - val_accuracy: 0.8067 - val_loss: 0.0636\n",
      "Epoch 54/1000\n",
      "\u001b[1m858/858\u001b[0m \u001b[32m━━━━━━━━━━━━━━━━━━━━\u001b[0m\u001b[37m\u001b[0m \u001b[1m1s\u001b[0m 894us/step - accuracy: 0.8189 - loss: 0.0593 - val_accuracy: 0.8025 - val_loss: 0.0638\n",
      "Epoch 55/1000\n",
      "\u001b[1m858/858\u001b[0m \u001b[32m━━━━━━━━━━━━━━━━━━━━\u001b[0m\u001b[37m\u001b[0m \u001b[1m1s\u001b[0m 913us/step - accuracy: 0.8140 - loss: 0.0604 - val_accuracy: 0.8074 - val_loss: 0.0636\n",
      "Epoch 56/1000\n",
      "\u001b[1m858/858\u001b[0m \u001b[32m━━━━━━━━━━━━━━━━━━━━\u001b[0m\u001b[37m\u001b[0m \u001b[1m1s\u001b[0m 917us/step - accuracy: 0.8173 - loss: 0.0600 - val_accuracy: 0.8026 - val_loss: 0.0641\n",
      "Epoch 57/1000\n",
      "\u001b[1m858/858\u001b[0m \u001b[32m━━━━━━━━━━━━━━━━━━━━\u001b[0m\u001b[37m\u001b[0m \u001b[1m1s\u001b[0m 895us/step - accuracy: 0.8188 - loss: 0.0592 - val_accuracy: 0.8061 - val_loss: 0.0638\n",
      "Epoch 58/1000\n",
      "\u001b[1m858/858\u001b[0m \u001b[32m━━━━━━━━━━━━━━━━━━━━\u001b[0m\u001b[37m\u001b[0m \u001b[1m1s\u001b[0m 954us/step - accuracy: 0.8137 - loss: 0.0603 - val_accuracy: 0.8071 - val_loss: 0.0643\n",
      "Epoch 59/1000\n",
      "\u001b[1m858/858\u001b[0m \u001b[32m━━━━━━━━━━━━━━━━━━━━\u001b[0m\u001b[37m\u001b[0m \u001b[1m1s\u001b[0m 866us/step - accuracy: 0.8199 - loss: 0.0592 - val_accuracy: 0.8039 - val_loss: 0.0639\n",
      "Epoch 60/1000\n",
      "\u001b[1m858/858\u001b[0m \u001b[32m━━━━━━━━━━━━━━━━━━━━\u001b[0m\u001b[37m\u001b[0m \u001b[1m1s\u001b[0m 897us/step - accuracy: 0.8164 - loss: 0.0598 - val_accuracy: 0.8066 - val_loss: 0.0638\n",
      "Epoch 61/1000\n",
      "\u001b[1m858/858\u001b[0m \u001b[32m━━━━━━━━━━━━━━━━━━━━\u001b[0m\u001b[37m\u001b[0m \u001b[1m1s\u001b[0m 897us/step - accuracy: 0.8222 - loss: 0.0587 - val_accuracy: 0.8028 - val_loss: 0.0642\n",
      "Epoch 62/1000\n",
      "\u001b[1m858/858\u001b[0m \u001b[32m━━━━━━━━━━━━━━━━━━━━\u001b[0m\u001b[37m\u001b[0m \u001b[1m1s\u001b[0m 851us/step - accuracy: 0.8202 - loss: 0.0593 - val_accuracy: 0.8026 - val_loss: 0.0643\n",
      "Epoch 63/1000\n",
      "\u001b[1m858/858\u001b[0m \u001b[32m━━━━━━━━━━━━━━━━━━━━\u001b[0m\u001b[37m\u001b[0m \u001b[1m1s\u001b[0m 860us/step - accuracy: 0.8186 - loss: 0.0599 - val_accuracy: 0.8063 - val_loss: 0.0640\n",
      "Epoch 64/1000\n",
      "\u001b[1m858/858\u001b[0m \u001b[32m━━━━━━━━━━━━━━━━━━━━\u001b[0m\u001b[37m\u001b[0m \u001b[1m1s\u001b[0m 906us/step - accuracy: 0.8187 - loss: 0.0593 - val_accuracy: 0.8042 - val_loss: 0.0641\n",
      "Epoch 65/1000\n",
      "\u001b[1m858/858\u001b[0m \u001b[32m━━━━━━━━━━━━━━━━━━━━\u001b[0m\u001b[37m\u001b[0m \u001b[1m1s\u001b[0m 876us/step - accuracy: 0.8180 - loss: 0.0598 - val_accuracy: 0.8071 - val_loss: 0.0639\n",
      "Epoch 66/1000\n",
      "\u001b[1m858/858\u001b[0m \u001b[32m━━━━━━━━━━━━━━━━━━━━\u001b[0m\u001b[37m\u001b[0m \u001b[1m1s\u001b[0m 861us/step - accuracy: 0.8156 - loss: 0.0606 - val_accuracy: 0.8039 - val_loss: 0.0649\n",
      "Epoch 67/1000\n",
      "\u001b[1m858/858\u001b[0m \u001b[32m━━━━━━━━━━━━━━━━━━━━\u001b[0m\u001b[37m\u001b[0m \u001b[1m1s\u001b[0m 894us/step - accuracy: 0.8187 - loss: 0.0593 - val_accuracy: 0.8051 - val_loss: 0.0639\n",
      "Epoch 68/1000\n",
      "\u001b[1m858/858\u001b[0m \u001b[32m━━━━━━━━━━━━━━━━━━━━\u001b[0m\u001b[37m\u001b[0m \u001b[1m1s\u001b[0m 905us/step - accuracy: 0.8211 - loss: 0.0588 - val_accuracy: 0.8042 - val_loss: 0.0640\n",
      "Epoch 69/1000\n",
      "\u001b[1m858/858\u001b[0m \u001b[32m━━━━━━━━━━━━━━━━━━━━\u001b[0m\u001b[37m\u001b[0m \u001b[1m1s\u001b[0m 962us/step - accuracy: 0.8174 - loss: 0.0600 - val_accuracy: 0.8060 - val_loss: 0.0640\n",
      "Epoch 70/1000\n",
      "\u001b[1m858/858\u001b[0m \u001b[32m━━━━━━━━━━━━━━━━━━━━\u001b[0m\u001b[37m\u001b[0m \u001b[1m1s\u001b[0m 907us/step - accuracy: 0.8195 - loss: 0.0593 - val_accuracy: 0.8015 - val_loss: 0.0646\n",
      "Epoch 71/1000\n",
      "\u001b[1m858/858\u001b[0m \u001b[32m━━━━━━━━━━━━━━━━━━━━\u001b[0m\u001b[37m\u001b[0m \u001b[1m1s\u001b[0m 947us/step - accuracy: 0.8187 - loss: 0.0592 - val_accuracy: 0.8054 - val_loss: 0.0638\n",
      "Epoch 72/1000\n",
      "\u001b[1m858/858\u001b[0m \u001b[32m━━━━━━━━━━━━━━━━━━━━\u001b[0m\u001b[37m\u001b[0m \u001b[1m1s\u001b[0m 894us/step - accuracy: 0.8246 - loss: 0.0580 - val_accuracy: 0.8051 - val_loss: 0.0640\n",
      "Epoch 73/1000\n",
      "\u001b[1m858/858\u001b[0m \u001b[32m━━━━━━━━━━━━━━━━━━━━\u001b[0m\u001b[37m\u001b[0m \u001b[1m1s\u001b[0m 929us/step - accuracy: 0.8196 - loss: 0.0588 - val_accuracy: 0.8034 - val_loss: 0.0641\n",
      "Epoch 74/1000\n",
      "\u001b[1m858/858\u001b[0m \u001b[32m━━━━━━━━━━━━━━━━━━━━\u001b[0m\u001b[37m\u001b[0m \u001b[1m1s\u001b[0m 886us/step - accuracy: 0.8206 - loss: 0.0593 - val_accuracy: 0.8010 - val_loss: 0.0641\n",
      "215/215 - 0s - 517us/step - accuracy: 0.8098 - loss: 0.0636\n"
     ]
    }
   ],
   "source": [
    "updated_charity_dataframe['APPLICATION_TYPE'], optimal_bins_dictionary['APPLICATION_TYPE'] \\\n",
    "    = deep_learningx.return_optimal_binning_value \\\n",
    "        (updated_charity_dataframe, 'APPLICATION_TYPE', 'T20', \n",
    "         optimal_bins_dictionary['NAME']['accuracy'])\n",
    "\n",
    "logx.log_write_object \\\n",
    "    (updated_charity_dataframe['APPLICATION_TYPE'].value_counts().sort_values(ascending = False))"
   ]
  },
  {
   "cell_type": "markdown",
   "metadata": {
    "id": "mbGQTJDNhYup"
   },
   "source": [
    "### **AFFILIATION**"
   ]
  },
  {
   "cell_type": "code",
   "execution_count": 28,
   "metadata": {
    "id": "1fje9e1P1knl"
   },
   "outputs": [
    {
     "name": "stdout",
     "output_type": "stream",
     "text": [
      "\u001b[1mProcessing: 7/7\n",
      "\u001b[0m\n",
      "\u001b[1mReplacing values...\n",
      "\u001b[0m\n",
      "\u001b[1mSetting dummy values...\n",
      "\u001b[0m\n",
      "\u001b[1mSplitting data into training and testing...\n",
      "\u001b[0m\n",
      "\u001b[1mCreating model...\n",
      "\u001b[0m\n",
      "\u001b[1mCompiling...\n",
      "\u001b[0m\n",
      "\u001b[1mFitting data...\n",
      "\u001b[0m\n",
      "Epoch 1/1000\n",
      "\u001b[1m858/858\u001b[0m \u001b[32m━━━━━━━━━━━━━━━━━━━━\u001b[0m\u001b[37m\u001b[0m \u001b[1m1s\u001b[0m 903us/step - accuracy: 0.6888 - loss: 0.1004 - val_accuracy: 0.7676 - val_loss: 0.0778\n",
      "Epoch 2/1000\n",
      "\u001b[1m858/858\u001b[0m \u001b[32m━━━━━━━━━━━━━━━━━━━━\u001b[0m\u001b[37m\u001b[0m \u001b[1m1s\u001b[0m 790us/step - accuracy: 0.7709 - loss: 0.0754 - val_accuracy: 0.7913 - val_loss: 0.0710\n",
      "Epoch 3/1000\n",
      "\u001b[1m858/858\u001b[0m \u001b[32m━━━━━━━━━━━━━━━━━━━━\u001b[0m\u001b[37m\u001b[0m \u001b[1m1s\u001b[0m 791us/step - accuracy: 0.7863 - loss: 0.0709 - val_accuracy: 0.7968 - val_loss: 0.0680\n",
      "Epoch 4/1000\n",
      "\u001b[1m858/858\u001b[0m \u001b[32m━━━━━━━━━━━━━━━━━━━━\u001b[0m\u001b[37m\u001b[0m \u001b[1m1s\u001b[0m 797us/step - accuracy: 0.7931 - loss: 0.0679 - val_accuracy: 0.7994 - val_loss: 0.0663\n",
      "Epoch 5/1000\n",
      "\u001b[1m858/858\u001b[0m \u001b[32m━━━━━━━━━━━━━━━━━━━━\u001b[0m\u001b[37m\u001b[0m \u001b[1m1s\u001b[0m 827us/step - accuracy: 0.7949 - loss: 0.0674 - val_accuracy: 0.8022 - val_loss: 0.0659\n",
      "Epoch 6/1000\n",
      "\u001b[1m858/858\u001b[0m \u001b[32m━━━━━━━━━━━━━━━━━━━━\u001b[0m\u001b[37m\u001b[0m \u001b[1m1s\u001b[0m 815us/step - accuracy: 0.7999 - loss: 0.0659 - val_accuracy: 0.8067 - val_loss: 0.0650\n",
      "Epoch 7/1000\n",
      "\u001b[1m858/858\u001b[0m \u001b[32m━━━━━━━━━━━━━━━━━━━━\u001b[0m\u001b[37m\u001b[0m \u001b[1m1s\u001b[0m 812us/step - accuracy: 0.8062 - loss: 0.0642 - val_accuracy: 0.7993 - val_loss: 0.0655\n",
      "Epoch 8/1000\n",
      "\u001b[1m858/858\u001b[0m \u001b[32m━━━━━━━━━━━━━━━━━━━━\u001b[0m\u001b[37m\u001b[0m \u001b[1m1s\u001b[0m 795us/step - accuracy: 0.8084 - loss: 0.0636 - val_accuracy: 0.8051 - val_loss: 0.0646\n",
      "Epoch 9/1000\n",
      "\u001b[1m858/858\u001b[0m \u001b[32m━━━━━━━━━━━━━━━━━━━━\u001b[0m\u001b[37m\u001b[0m \u001b[1m1s\u001b[0m 845us/step - accuracy: 0.8068 - loss: 0.0637 - val_accuracy: 0.8022 - val_loss: 0.0646\n",
      "Epoch 10/1000\n",
      "\u001b[1m858/858\u001b[0m \u001b[32m━━━━━━━━━━━━━━━━━━━━\u001b[0m\u001b[37m\u001b[0m \u001b[1m1s\u001b[0m 801us/step - accuracy: 0.8095 - loss: 0.0625 - val_accuracy: 0.8080 - val_loss: 0.0640\n",
      "Epoch 11/1000\n",
      "\u001b[1m858/858\u001b[0m \u001b[32m━━━━━━━━━━━━━━━━━━━━\u001b[0m\u001b[37m\u001b[0m \u001b[1m1s\u001b[0m 808us/step - accuracy: 0.8058 - loss: 0.0636 - val_accuracy: 0.8070 - val_loss: 0.0636\n",
      "Epoch 12/1000\n",
      "\u001b[1m858/858\u001b[0m \u001b[32m━━━━━━━━━━━━━━━━━━━━\u001b[0m\u001b[37m\u001b[0m \u001b[1m1s\u001b[0m 857us/step - accuracy: 0.8074 - loss: 0.0636 - val_accuracy: 0.8073 - val_loss: 0.0639\n",
      "Epoch 13/1000\n",
      "\u001b[1m858/858\u001b[0m \u001b[32m━━━━━━━━━━━━━━━━━━━━\u001b[0m\u001b[37m\u001b[0m \u001b[1m1s\u001b[0m 802us/step - accuracy: 0.8103 - loss: 0.0623 - val_accuracy: 0.8071 - val_loss: 0.0637\n",
      "Epoch 14/1000\n",
      "\u001b[1m858/858\u001b[0m \u001b[32m━━━━━━━━━━━━━━━━━━━━\u001b[0m\u001b[37m\u001b[0m \u001b[1m1s\u001b[0m 832us/step - accuracy: 0.8050 - loss: 0.0632 - val_accuracy: 0.8035 - val_loss: 0.0638\n",
      "Epoch 15/1000\n",
      "\u001b[1m858/858\u001b[0m \u001b[32m━━━━━━━━━━━━━━━━━━━━\u001b[0m\u001b[37m\u001b[0m \u001b[1m1s\u001b[0m 787us/step - accuracy: 0.8097 - loss: 0.0619 - val_accuracy: 0.8070 - val_loss: 0.0636\n",
      "Epoch 16/1000\n",
      "\u001b[1m858/858\u001b[0m \u001b[32m━━━━━━━━━━━━━━━━━━━━\u001b[0m\u001b[37m\u001b[0m \u001b[1m1s\u001b[0m 792us/step - accuracy: 0.8099 - loss: 0.0616 - val_accuracy: 0.8067 - val_loss: 0.0636\n",
      "Epoch 17/1000\n",
      "\u001b[1m858/858\u001b[0m \u001b[32m━━━━━━━━━━━━━━━━━━━━\u001b[0m\u001b[37m\u001b[0m \u001b[1m1s\u001b[0m 809us/step - accuracy: 0.8062 - loss: 0.0629 - val_accuracy: 0.8086 - val_loss: 0.0633\n",
      "Epoch 18/1000\n",
      "\u001b[1m858/858\u001b[0m \u001b[32m━━━━━━━━━━━━━━━━━━━━\u001b[0m\u001b[37m\u001b[0m \u001b[1m1s\u001b[0m 799us/step - accuracy: 0.8095 - loss: 0.0618 - val_accuracy: 0.8102 - val_loss: 0.0634\n",
      "Epoch 19/1000\n",
      "\u001b[1m858/858\u001b[0m \u001b[32m━━━━━━━━━━━━━━━━━━━━\u001b[0m\u001b[37m\u001b[0m \u001b[1m1s\u001b[0m 794us/step - accuracy: 0.8142 - loss: 0.0609 - val_accuracy: 0.8076 - val_loss: 0.0633\n",
      "Epoch 20/1000\n",
      "\u001b[1m858/858\u001b[0m \u001b[32m━━━━━━━━━━━━━━━━━━━━\u001b[0m\u001b[37m\u001b[0m \u001b[1m1s\u001b[0m 824us/step - accuracy: 0.8088 - loss: 0.0626 - val_accuracy: 0.8083 - val_loss: 0.0633\n",
      "Epoch 21/1000\n",
      "\u001b[1m858/858\u001b[0m \u001b[32m━━━━━━━━━━━━━━━━━━━━\u001b[0m\u001b[37m\u001b[0m \u001b[1m1s\u001b[0m 792us/step - accuracy: 0.8133 - loss: 0.0616 - val_accuracy: 0.8087 - val_loss: 0.0633\n",
      "Epoch 22/1000\n",
      "\u001b[1m858/858\u001b[0m \u001b[32m━━━━━━━━━━━━━━━━━━━━\u001b[0m\u001b[37m\u001b[0m \u001b[1m1s\u001b[0m 833us/step - accuracy: 0.8090 - loss: 0.0625 - val_accuracy: 0.8054 - val_loss: 0.0637\n",
      "Epoch 23/1000\n",
      "\u001b[1m858/858\u001b[0m \u001b[32m━━━━━━━━━━━━━━━━━━━━\u001b[0m\u001b[37m\u001b[0m \u001b[1m1s\u001b[0m 809us/step - accuracy: 0.8105 - loss: 0.0616 - val_accuracy: 0.8073 - val_loss: 0.0633\n",
      "Epoch 24/1000\n",
      "\u001b[1m858/858\u001b[0m \u001b[32m━━━━━━━━━━━━━━━━━━━━\u001b[0m\u001b[37m\u001b[0m \u001b[1m1s\u001b[0m 861us/step - accuracy: 0.8117 - loss: 0.0617 - val_accuracy: 0.8090 - val_loss: 0.0633\n",
      "Epoch 25/1000\n",
      "\u001b[1m858/858\u001b[0m \u001b[32m━━━━━━━━━━━━━━━━━━━━\u001b[0m\u001b[37m\u001b[0m \u001b[1m1s\u001b[0m 862us/step - accuracy: 0.8115 - loss: 0.0618 - val_accuracy: 0.8083 - val_loss: 0.0633\n",
      "Epoch 26/1000\n",
      "\u001b[1m858/858\u001b[0m \u001b[32m━━━━━━━━━━━━━━━━━━━━\u001b[0m\u001b[37m\u001b[0m \u001b[1m1s\u001b[0m 812us/step - accuracy: 0.8116 - loss: 0.0611 - val_accuracy: 0.7996 - val_loss: 0.0650\n",
      "Epoch 27/1000\n",
      "\u001b[1m858/858\u001b[0m \u001b[32m━━━━━━━━━━━━━━━━━━━━\u001b[0m\u001b[37m\u001b[0m \u001b[1m1s\u001b[0m 859us/step - accuracy: 0.8093 - loss: 0.0623 - val_accuracy: 0.8061 - val_loss: 0.0633\n",
      "Epoch 28/1000\n",
      "\u001b[1m858/858\u001b[0m \u001b[32m━━━━━━━━━━━━━━━━━━━━\u001b[0m\u001b[37m\u001b[0m \u001b[1m1s\u001b[0m 864us/step - accuracy: 0.8125 - loss: 0.0613 - val_accuracy: 0.8067 - val_loss: 0.0637\n",
      "Epoch 29/1000\n",
      "\u001b[1m858/858\u001b[0m \u001b[32m━━━━━━━━━━━━━━━━━━━━\u001b[0m\u001b[37m\u001b[0m \u001b[1m1s\u001b[0m 806us/step - accuracy: 0.8103 - loss: 0.0616 - val_accuracy: 0.8109 - val_loss: 0.0631\n",
      "Epoch 30/1000\n",
      "\u001b[1m858/858\u001b[0m \u001b[32m━━━━━━━━━━━━━━━━━━━━\u001b[0m\u001b[37m\u001b[0m \u001b[1m1s\u001b[0m 794us/step - accuracy: 0.8110 - loss: 0.0615 - val_accuracy: 0.8080 - val_loss: 0.0633\n",
      "Epoch 31/1000\n",
      "\u001b[1m858/858\u001b[0m \u001b[32m━━━━━━━━━━━━━━━━━━━━\u001b[0m\u001b[37m\u001b[0m \u001b[1m1s\u001b[0m 846us/step - accuracy: 0.8144 - loss: 0.0610 - val_accuracy: 0.8087 - val_loss: 0.0634\n",
      "Epoch 32/1000\n",
      "\u001b[1m858/858\u001b[0m \u001b[32m━━━━━━━━━━━━━━━━━━━━\u001b[0m\u001b[37m\u001b[0m \u001b[1m1s\u001b[0m 840us/step - accuracy: 0.8130 - loss: 0.0611 - val_accuracy: 0.8015 - val_loss: 0.0641\n",
      "Epoch 33/1000\n",
      "\u001b[1m858/858\u001b[0m \u001b[32m━━━━━━━━━━━━━━━━━━━━\u001b[0m\u001b[37m\u001b[0m \u001b[1m1s\u001b[0m 827us/step - accuracy: 0.8126 - loss: 0.0614 - val_accuracy: 0.8076 - val_loss: 0.0635\n",
      "Epoch 34/1000\n",
      "\u001b[1m858/858\u001b[0m \u001b[32m━━━━━━━━━━━━━━━━━━━━\u001b[0m\u001b[37m\u001b[0m \u001b[1m1s\u001b[0m 832us/step - accuracy: 0.8161 - loss: 0.0606 - val_accuracy: 0.8063 - val_loss: 0.0637\n",
      "Epoch 35/1000\n",
      "\u001b[1m858/858\u001b[0m \u001b[32m━━━━━━━━━━━━━━━━━━━━\u001b[0m\u001b[37m\u001b[0m \u001b[1m1s\u001b[0m 816us/step - accuracy: 0.8118 - loss: 0.0615 - val_accuracy: 0.8086 - val_loss: 0.0635\n",
      "Epoch 36/1000\n",
      "\u001b[1m858/858\u001b[0m \u001b[32m━━━━━━━━━━━━━━━━━━━━\u001b[0m\u001b[37m\u001b[0m \u001b[1m1s\u001b[0m 810us/step - accuracy: 0.8128 - loss: 0.0607 - val_accuracy: 0.8076 - val_loss: 0.0632\n",
      "Epoch 37/1000\n",
      "\u001b[1m858/858\u001b[0m \u001b[32m━━━━━━━━━━━━━━━━━━━━\u001b[0m\u001b[37m\u001b[0m \u001b[1m1s\u001b[0m 837us/step - accuracy: 0.8139 - loss: 0.0611 - val_accuracy: 0.8063 - val_loss: 0.0634\n",
      "Epoch 38/1000\n",
      "\u001b[1m858/858\u001b[0m \u001b[32m━━━━━━━━━━━━━━━━━━━━\u001b[0m\u001b[37m\u001b[0m \u001b[1m1s\u001b[0m 846us/step - accuracy: 0.8144 - loss: 0.0604 - val_accuracy: 0.8070 - val_loss: 0.0636\n",
      "Epoch 39/1000\n",
      "\u001b[1m858/858\u001b[0m \u001b[32m━━━━━━━━━━━━━━━━━━━━\u001b[0m\u001b[37m\u001b[0m \u001b[1m1s\u001b[0m 840us/step - accuracy: 0.8120 - loss: 0.0614 - val_accuracy: 0.8048 - val_loss: 0.0636\n",
      "Epoch 40/1000\n",
      "\u001b[1m858/858\u001b[0m \u001b[32m━━━━━━━━━━━━━━━━━━━━\u001b[0m\u001b[37m\u001b[0m \u001b[1m1s\u001b[0m 857us/step - accuracy: 0.8173 - loss: 0.0603 - val_accuracy: 0.8017 - val_loss: 0.0640\n",
      "Epoch 41/1000\n",
      "\u001b[1m858/858\u001b[0m \u001b[32m━━━━━━━━━━━━━━━━━━━━\u001b[0m\u001b[37m\u001b[0m \u001b[1m1s\u001b[0m 833us/step - accuracy: 0.8189 - loss: 0.0596 - val_accuracy: 0.8076 - val_loss: 0.0638\n",
      "Epoch 42/1000\n",
      "\u001b[1m858/858\u001b[0m \u001b[32m━━━━━━━━━━━━━━━━━━━━\u001b[0m\u001b[37m\u001b[0m \u001b[1m1s\u001b[0m 807us/step - accuracy: 0.8157 - loss: 0.0605 - val_accuracy: 0.8029 - val_loss: 0.0639\n",
      "Epoch 43/1000\n",
      "\u001b[1m858/858\u001b[0m \u001b[32m━━━━━━━━━━━━━━━━━━━━\u001b[0m\u001b[37m\u001b[0m \u001b[1m1s\u001b[0m 797us/step - accuracy: 0.8187 - loss: 0.0598 - val_accuracy: 0.8044 - val_loss: 0.0637\n",
      "Epoch 44/1000\n",
      "\u001b[1m858/858\u001b[0m \u001b[32m━━━━━━━━━━━━━━━━━━━━\u001b[0m\u001b[37m\u001b[0m \u001b[1m1s\u001b[0m 796us/step - accuracy: 0.8153 - loss: 0.0608 - val_accuracy: 0.8060 - val_loss: 0.0633\n",
      "Epoch 45/1000\n",
      "\u001b[1m858/858\u001b[0m \u001b[32m━━━━━━━━━━━━━━━━━━━━\u001b[0m\u001b[37m\u001b[0m \u001b[1m1s\u001b[0m 793us/step - accuracy: 0.8182 - loss: 0.0600 - val_accuracy: 0.8069 - val_loss: 0.0636\n",
      "Epoch 46/1000\n",
      "\u001b[1m858/858\u001b[0m \u001b[32m━━━━━━━━━━━━━━━━━━━━\u001b[0m\u001b[37m\u001b[0m \u001b[1m1s\u001b[0m 885us/step - accuracy: 0.8153 - loss: 0.0607 - val_accuracy: 0.8051 - val_loss: 0.0635\n",
      "Epoch 47/1000\n",
      "\u001b[1m858/858\u001b[0m \u001b[32m━━━━━━━━━━━━━━━━━━━━\u001b[0m\u001b[37m\u001b[0m \u001b[1m1s\u001b[0m 872us/step - accuracy: 0.8165 - loss: 0.0599 - val_accuracy: 0.8071 - val_loss: 0.0637\n",
      "Epoch 48/1000\n",
      "\u001b[1m858/858\u001b[0m \u001b[32m━━━━━━━━━━━━━━━━━━━━\u001b[0m\u001b[37m\u001b[0m \u001b[1m1s\u001b[0m 889us/step - accuracy: 0.8171 - loss: 0.0601 - val_accuracy: 0.8074 - val_loss: 0.0641\n",
      "Epoch 49/1000\n",
      "\u001b[1m858/858\u001b[0m \u001b[32m━━━━━━━━━━━━━━━━━━━━\u001b[0m\u001b[37m\u001b[0m \u001b[1m1s\u001b[0m 851us/step - accuracy: 0.8138 - loss: 0.0604 - val_accuracy: 0.8066 - val_loss: 0.0636\n",
      "Epoch 50/1000\n",
      "\u001b[1m858/858\u001b[0m \u001b[32m━━━━━━━━━━━━━━━━━━━━\u001b[0m\u001b[37m\u001b[0m \u001b[1m1s\u001b[0m 854us/step - accuracy: 0.8188 - loss: 0.0595 - val_accuracy: 0.8063 - val_loss: 0.0636\n",
      "Epoch 51/1000\n",
      "\u001b[1m858/858\u001b[0m \u001b[32m━━━━━━━━━━━━━━━━━━━━\u001b[0m\u001b[37m\u001b[0m \u001b[1m1s\u001b[0m 848us/step - accuracy: 0.8162 - loss: 0.0599 - val_accuracy: 0.8064 - val_loss: 0.0637\n",
      "Epoch 52/1000\n",
      "\u001b[1m858/858\u001b[0m \u001b[32m━━━━━━━━━━━━━━━━━━━━\u001b[0m\u001b[37m\u001b[0m \u001b[1m1s\u001b[0m 847us/step - accuracy: 0.8162 - loss: 0.0603 - val_accuracy: 0.7988 - val_loss: 0.0649\n",
      "Epoch 53/1000\n",
      "\u001b[1m858/858\u001b[0m \u001b[32m━━━━━━━━━━━━━━━━━━━━\u001b[0m\u001b[37m\u001b[0m \u001b[1m1s\u001b[0m 842us/step - accuracy: 0.8184 - loss: 0.0599 - val_accuracy: 0.8092 - val_loss: 0.0640\n",
      "Epoch 54/1000\n",
      "\u001b[1m858/858\u001b[0m \u001b[32m━━━━━━━━━━━━━━━━━━━━\u001b[0m\u001b[37m\u001b[0m \u001b[1m1s\u001b[0m 840us/step - accuracy: 0.8124 - loss: 0.0616 - val_accuracy: 0.7993 - val_loss: 0.0644\n",
      "Epoch 55/1000\n",
      "\u001b[1m858/858\u001b[0m \u001b[32m━━━━━━━━━━━━━━━━━━━━\u001b[0m\u001b[37m\u001b[0m \u001b[1m1s\u001b[0m 841us/step - accuracy: 0.8123 - loss: 0.0608 - val_accuracy: 0.8061 - val_loss: 0.0640\n",
      "Epoch 56/1000\n",
      "\u001b[1m858/858\u001b[0m \u001b[32m━━━━━━━━━━━━━━━━━━━━\u001b[0m\u001b[37m\u001b[0m \u001b[1m1s\u001b[0m 826us/step - accuracy: 0.8189 - loss: 0.0599 - val_accuracy: 0.8069 - val_loss: 0.0638\n",
      "Epoch 57/1000\n",
      "\u001b[1m858/858\u001b[0m \u001b[32m━━━━━━━━━━━━━━━━━━━━\u001b[0m\u001b[37m\u001b[0m \u001b[1m1s\u001b[0m 843us/step - accuracy: 0.8138 - loss: 0.0596 - val_accuracy: 0.8048 - val_loss: 0.0638\n",
      "Epoch 58/1000\n",
      "\u001b[1m858/858\u001b[0m \u001b[32m━━━━━━━━━━━━━━━━━━━━\u001b[0m\u001b[37m\u001b[0m \u001b[1m1s\u001b[0m 829us/step - accuracy: 0.8182 - loss: 0.0598 - val_accuracy: 0.8041 - val_loss: 0.0642\n",
      "Epoch 59/1000\n",
      "\u001b[1m858/858\u001b[0m \u001b[32m━━━━━━━━━━━━━━━━━━━━\u001b[0m\u001b[37m\u001b[0m \u001b[1m1s\u001b[0m 831us/step - accuracy: 0.8168 - loss: 0.0601 - val_accuracy: 0.8045 - val_loss: 0.0637\n",
      "Epoch 60/1000\n",
      "\u001b[1m858/858\u001b[0m \u001b[32m━━━━━━━━━━━━━━━━━━━━\u001b[0m\u001b[37m\u001b[0m \u001b[1m1s\u001b[0m 837us/step - accuracy: 0.8190 - loss: 0.0595 - val_accuracy: 0.8048 - val_loss: 0.0638\n",
      "Epoch 61/1000\n",
      "\u001b[1m858/858\u001b[0m \u001b[32m━━━━━━━━━━━━━━━━━━━━\u001b[0m\u001b[37m\u001b[0m \u001b[1m1s\u001b[0m 837us/step - accuracy: 0.8169 - loss: 0.0594 - val_accuracy: 0.8012 - val_loss: 0.0648\n",
      "Epoch 62/1000\n",
      "\u001b[1m858/858\u001b[0m \u001b[32m━━━━━━━━━━━━━━━━━━━━\u001b[0m\u001b[37m\u001b[0m \u001b[1m1s\u001b[0m 889us/step - accuracy: 0.8174 - loss: 0.0599 - val_accuracy: 0.8038 - val_loss: 0.0643\n",
      "Epoch 63/1000\n",
      "\u001b[1m858/858\u001b[0m \u001b[32m━━━━━━━━━━━━━━━━━━━━\u001b[0m\u001b[37m\u001b[0m \u001b[1m1s\u001b[0m 841us/step - accuracy: 0.8156 - loss: 0.0598 - val_accuracy: 0.8052 - val_loss: 0.0639\n",
      "Epoch 64/1000\n",
      "\u001b[1m858/858\u001b[0m \u001b[32m━━━━━━━━━━━━━━━━━━━━\u001b[0m\u001b[37m\u001b[0m \u001b[1m1s\u001b[0m 889us/step - accuracy: 0.8202 - loss: 0.0596 - val_accuracy: 0.8028 - val_loss: 0.0643\n",
      "Epoch 65/1000\n",
      "\u001b[1m858/858\u001b[0m \u001b[32m━━━━━━━━━━━━━━━━━━━━\u001b[0m\u001b[37m\u001b[0m \u001b[1m1s\u001b[0m 877us/step - accuracy: 0.8242 - loss: 0.0590 - val_accuracy: 0.8057 - val_loss: 0.0642\n",
      "Epoch 66/1000\n",
      "\u001b[1m858/858\u001b[0m \u001b[32m━━━━━━━━━━━━━━━━━━━━\u001b[0m\u001b[37m\u001b[0m \u001b[1m1s\u001b[0m 848us/step - accuracy: 0.8160 - loss: 0.0599 - val_accuracy: 0.8041 - val_loss: 0.0641\n",
      "Epoch 67/1000\n",
      "\u001b[1m858/858\u001b[0m \u001b[32m━━━━━━━━━━━━━━━━━━━━\u001b[0m\u001b[37m\u001b[0m \u001b[1m1s\u001b[0m 880us/step - accuracy: 0.8123 - loss: 0.0605 - val_accuracy: 0.8047 - val_loss: 0.0644\n",
      "Epoch 68/1000\n",
      "\u001b[1m858/858\u001b[0m \u001b[32m━━━━━━━━━━━━━━━━━━━━\u001b[0m\u001b[37m\u001b[0m \u001b[1m1s\u001b[0m 832us/step - accuracy: 0.8170 - loss: 0.0599 - val_accuracy: 0.8003 - val_loss: 0.0641\n",
      "Epoch 69/1000\n",
      "\u001b[1m858/858\u001b[0m \u001b[32m━━━━━━━━━━━━━━━━━━━━\u001b[0m\u001b[37m\u001b[0m \u001b[1m1s\u001b[0m 879us/step - accuracy: 0.8189 - loss: 0.0594 - val_accuracy: 0.8031 - val_loss: 0.0642\n",
      "Epoch 70/1000\n",
      "\u001b[1m858/858\u001b[0m \u001b[32m━━━━━━━━━━━━━━━━━━━━\u001b[0m\u001b[37m\u001b[0m \u001b[1m1s\u001b[0m 826us/step - accuracy: 0.8186 - loss: 0.0596 - val_accuracy: 0.8036 - val_loss: 0.0643\n",
      "Epoch 71/1000\n",
      "\u001b[1m858/858\u001b[0m \u001b[32m━━━━━━━━━━━━━━━━━━━━\u001b[0m\u001b[37m\u001b[0m \u001b[1m1s\u001b[0m 835us/step - accuracy: 0.8191 - loss: 0.0595 - val_accuracy: 0.8058 - val_loss: 0.0639\n",
      "215/215 - 0s - 521us/step - accuracy: 0.8109 - loss: 0.0631\n"
     ]
    }
   ],
   "source": [
    "updated_charity_dataframe['AFFILIATION'], optimal_bins_dictionary['AFFILIATION'] \\\n",
    "    = deep_learningx.return_optimal_binning_value \\\n",
    "        (updated_charity_dataframe, 'AFFILIATION', 'OTHER', \n",
    "         optimal_bins_dictionary['APPLICATION_TYPE']['accuracy'])\n",
    "\n",
    "logx.log_write_object \\\n",
    "    (updated_charity_dataframe['AFFILIATION'].value_counts().sort_values(ascending = False))"
   ]
  },
  {
   "cell_type": "markdown",
   "metadata": {
    "id": "OTkDA9qMhYup"
   },
   "source": [
    "### **CLASSIFICATION**"
   ]
  },
  {
   "cell_type": "code",
   "execution_count": 29,
   "metadata": {
    "id": "kq7fkYUWhYup"
   },
   "outputs": [
    {
     "name": "stdout",
     "output_type": "stream",
     "text": [
      "\u001b[1mProcessing: 34/34\n",
      "\u001b[0m\n",
      "\u001b[1mReplacing values...\n",
      "\u001b[0m\n",
      "\u001b[1mSetting dummy values...\n",
      "\u001b[0m\n",
      "\u001b[1mSplitting data into training and testing...\n",
      "\u001b[0m\n",
      "\u001b[1mCreating model...\n",
      "\u001b[0m\n",
      "\u001b[1mCompiling...\n",
      "\u001b[0m\n",
      "\u001b[1mFitting data...\n",
      "\u001b[0m\n",
      "Epoch 1/1000\n",
      "\u001b[1m858/858\u001b[0m \u001b[32m━━━━━━━━━━━━━━━━━━━━\u001b[0m\u001b[37m\u001b[0m \u001b[1m1s\u001b[0m 927us/step - accuracy: 0.6713 - loss: 0.1017 - val_accuracy: 0.7590 - val_loss: 0.0804\n",
      "Epoch 2/1000\n",
      "\u001b[1m858/858\u001b[0m \u001b[32m━━━━━━━━━━━━━━━━━━━━\u001b[0m\u001b[37m\u001b[0m \u001b[1m1s\u001b[0m 806us/step - accuracy: 0.7603 - loss: 0.0785 - val_accuracy: 0.7891 - val_loss: 0.0718\n",
      "Epoch 3/1000\n",
      "\u001b[1m858/858\u001b[0m \u001b[32m━━━━━━━━━━━━━━━━━━━━\u001b[0m\u001b[37m\u001b[0m \u001b[1m1s\u001b[0m 791us/step - accuracy: 0.7816 - loss: 0.0718 - val_accuracy: 0.7937 - val_loss: 0.0685\n",
      "Epoch 4/1000\n",
      "\u001b[1m858/858\u001b[0m \u001b[32m━━━━━━━━━━━━━━━━━━━━\u001b[0m\u001b[37m\u001b[0m \u001b[1m1s\u001b[0m 796us/step - accuracy: 0.7932 - loss: 0.0686 - val_accuracy: 0.7966 - val_loss: 0.0669\n",
      "Epoch 5/1000\n",
      "\u001b[1m858/858\u001b[0m \u001b[32m━━━━━━━━━━━━━━━━━━━━\u001b[0m\u001b[37m\u001b[0m \u001b[1m1s\u001b[0m 796us/step - accuracy: 0.7984 - loss: 0.0668 - val_accuracy: 0.8038 - val_loss: 0.0657\n",
      "Epoch 6/1000\n",
      "\u001b[1m858/858\u001b[0m \u001b[32m━━━━━━━━━━━━━━━━━━━━\u001b[0m\u001b[37m\u001b[0m \u001b[1m1s\u001b[0m 795us/step - accuracy: 0.7996 - loss: 0.0663 - val_accuracy: 0.8015 - val_loss: 0.0652\n",
      "Epoch 7/1000\n",
      "\u001b[1m858/858\u001b[0m \u001b[32m━━━━━━━━━━━━━━━━━━━━\u001b[0m\u001b[37m\u001b[0m \u001b[1m1s\u001b[0m 796us/step - accuracy: 0.8005 - loss: 0.0657 - val_accuracy: 0.8057 - val_loss: 0.0646\n",
      "Epoch 8/1000\n",
      "\u001b[1m858/858\u001b[0m \u001b[32m━━━━━━━━━━━━━━━━━━━━\u001b[0m\u001b[37m\u001b[0m \u001b[1m1s\u001b[0m 805us/step - accuracy: 0.8036 - loss: 0.0647 - val_accuracy: 0.8032 - val_loss: 0.0644\n",
      "Epoch 9/1000\n",
      "\u001b[1m858/858\u001b[0m \u001b[32m━━━━━━━━━━━━━━━━━━━━\u001b[0m\u001b[37m\u001b[0m \u001b[1m1s\u001b[0m 801us/step - accuracy: 0.8041 - loss: 0.0640 - val_accuracy: 0.8064 - val_loss: 0.0642\n",
      "Epoch 10/1000\n",
      "\u001b[1m858/858\u001b[0m \u001b[32m━━━━━━━━━━━━━━━━━━━━\u001b[0m\u001b[37m\u001b[0m \u001b[1m1s\u001b[0m 801us/step - accuracy: 0.8026 - loss: 0.0649 - val_accuracy: 0.8026 - val_loss: 0.0644\n",
      "Epoch 11/1000\n",
      "\u001b[1m858/858\u001b[0m \u001b[32m━━━━━━━━━━━━━━━━━━━━\u001b[0m\u001b[37m\u001b[0m \u001b[1m1s\u001b[0m 795us/step - accuracy: 0.8063 - loss: 0.0637 - val_accuracy: 0.8054 - val_loss: 0.0641\n",
      "Epoch 12/1000\n",
      "\u001b[1m858/858\u001b[0m \u001b[32m━━━━━━━━━━━━━━━━━━━━\u001b[0m\u001b[37m\u001b[0m \u001b[1m1s\u001b[0m 795us/step - accuracy: 0.8066 - loss: 0.0633 - val_accuracy: 0.8063 - val_loss: 0.0638\n",
      "Epoch 13/1000\n",
      "\u001b[1m858/858\u001b[0m \u001b[32m━━━━━━━━━━━━━━━━━━━━\u001b[0m\u001b[37m\u001b[0m \u001b[1m1s\u001b[0m 802us/step - accuracy: 0.8084 - loss: 0.0628 - val_accuracy: 0.8028 - val_loss: 0.0639\n",
      "Epoch 14/1000\n",
      "\u001b[1m858/858\u001b[0m \u001b[32m━━━━━━━━━━━━━━━━━━━━\u001b[0m\u001b[37m\u001b[0m \u001b[1m1s\u001b[0m 806us/step - accuracy: 0.8133 - loss: 0.0620 - val_accuracy: 0.8089 - val_loss: 0.0636\n",
      "Epoch 15/1000\n",
      "\u001b[1m858/858\u001b[0m \u001b[32m━━━━━━━━━━━━━━━━━━━━\u001b[0m\u001b[37m\u001b[0m \u001b[1m1s\u001b[0m 807us/step - accuracy: 0.8073 - loss: 0.0629 - val_accuracy: 0.8070 - val_loss: 0.0640\n",
      "Epoch 16/1000\n",
      "\u001b[1m858/858\u001b[0m \u001b[32m━━━━━━━━━━━━━━━━━━━━\u001b[0m\u001b[37m\u001b[0m \u001b[1m1s\u001b[0m 792us/step - accuracy: 0.8141 - loss: 0.0612 - val_accuracy: 0.8052 - val_loss: 0.0641\n",
      "Epoch 17/1000\n",
      "\u001b[1m858/858\u001b[0m \u001b[32m━━━━━━━━━━━━━━━━━━━━\u001b[0m\u001b[37m\u001b[0m \u001b[1m1s\u001b[0m 804us/step - accuracy: 0.8079 - loss: 0.0627 - val_accuracy: 0.8071 - val_loss: 0.0635\n",
      "Epoch 18/1000\n",
      "\u001b[1m858/858\u001b[0m \u001b[32m━━━━━━━━━━━━━━━━━━━━\u001b[0m\u001b[37m\u001b[0m \u001b[1m1s\u001b[0m 799us/step - accuracy: 0.8105 - loss: 0.0622 - val_accuracy: 0.8085 - val_loss: 0.0635\n",
      "Epoch 19/1000\n",
      "\u001b[1m858/858\u001b[0m \u001b[32m━━━━━━━━━━━━━━━━━━━━\u001b[0m\u001b[37m\u001b[0m \u001b[1m1s\u001b[0m 794us/step - accuracy: 0.8090 - loss: 0.0622 - val_accuracy: 0.8054 - val_loss: 0.0635\n",
      "Epoch 20/1000\n",
      "\u001b[1m858/858\u001b[0m \u001b[32m━━━━━━━━━━━━━━━━━━━━\u001b[0m\u001b[37m\u001b[0m \u001b[1m1s\u001b[0m 801us/step - accuracy: 0.8090 - loss: 0.0624 - val_accuracy: 0.8092 - val_loss: 0.0634\n",
      "Epoch 21/1000\n",
      "\u001b[1m858/858\u001b[0m \u001b[32m━━━━━━━━━━━━━━━━━━━━\u001b[0m\u001b[37m\u001b[0m \u001b[1m1s\u001b[0m 795us/step - accuracy: 0.8149 - loss: 0.0611 - val_accuracy: 0.8029 - val_loss: 0.0639\n",
      "Epoch 22/1000\n",
      "\u001b[1m858/858\u001b[0m \u001b[32m━━━━━━━━━━━━━━━━━━━━\u001b[0m\u001b[37m\u001b[0m \u001b[1m1s\u001b[0m 798us/step - accuracy: 0.8135 - loss: 0.0611 - val_accuracy: 0.8111 - val_loss: 0.0633\n",
      "Epoch 23/1000\n",
      "\u001b[1m858/858\u001b[0m \u001b[32m━━━━━━━━━━━━━━━━━━━━\u001b[0m\u001b[37m\u001b[0m \u001b[1m1s\u001b[0m 786us/step - accuracy: 0.8147 - loss: 0.0613 - val_accuracy: 0.8077 - val_loss: 0.0636\n",
      "Epoch 24/1000\n",
      "\u001b[1m858/858\u001b[0m \u001b[32m━━━━━━━━━━━━━━━━━━━━\u001b[0m\u001b[37m\u001b[0m \u001b[1m1s\u001b[0m 793us/step - accuracy: 0.8110 - loss: 0.0617 - val_accuracy: 0.8067 - val_loss: 0.0635\n",
      "Epoch 25/1000\n",
      "\u001b[1m858/858\u001b[0m \u001b[32m━━━━━━━━━━━━━━━━━━━━\u001b[0m\u001b[37m\u001b[0m \u001b[1m1s\u001b[0m 793us/step - accuracy: 0.8121 - loss: 0.0622 - val_accuracy: 0.8048 - val_loss: 0.0636\n",
      "Epoch 26/1000\n",
      "\u001b[1m858/858\u001b[0m \u001b[32m━━━━━━━━━━━━━━━━━━━━\u001b[0m\u001b[37m\u001b[0m \u001b[1m1s\u001b[0m 807us/step - accuracy: 0.8130 - loss: 0.0610 - val_accuracy: 0.8066 - val_loss: 0.0638\n",
      "Epoch 27/1000\n",
      "\u001b[1m858/858\u001b[0m \u001b[32m━━━━━━━━━━━━━━━━━━━━\u001b[0m\u001b[37m\u001b[0m \u001b[1m1s\u001b[0m 815us/step - accuracy: 0.8118 - loss: 0.0619 - val_accuracy: 0.8080 - val_loss: 0.0634\n",
      "Epoch 28/1000\n",
      "\u001b[1m858/858\u001b[0m \u001b[32m━━━━━━━━━━━━━━━━━━━━\u001b[0m\u001b[37m\u001b[0m \u001b[1m1s\u001b[0m 794us/step - accuracy: 0.8121 - loss: 0.0614 - val_accuracy: 0.8057 - val_loss: 0.0641\n",
      "Epoch 29/1000\n",
      "\u001b[1m858/858\u001b[0m \u001b[32m━━━━━━━━━━━━━━━━━━━━\u001b[0m\u001b[37m\u001b[0m \u001b[1m1s\u001b[0m 783us/step - accuracy: 0.8137 - loss: 0.0611 - val_accuracy: 0.8099 - val_loss: 0.0633\n",
      "Epoch 30/1000\n",
      "\u001b[1m858/858\u001b[0m \u001b[32m━━━━━━━━━━━━━━━━━━━━\u001b[0m\u001b[37m\u001b[0m \u001b[1m1s\u001b[0m 786us/step - accuracy: 0.8119 - loss: 0.0617 - val_accuracy: 0.8079 - val_loss: 0.0632\n",
      "Epoch 31/1000\n",
      "\u001b[1m858/858\u001b[0m \u001b[32m━━━━━━━━━━━━━━━━━━━━\u001b[0m\u001b[37m\u001b[0m \u001b[1m1s\u001b[0m 803us/step - accuracy: 0.8117 - loss: 0.0614 - val_accuracy: 0.8082 - val_loss: 0.0634\n",
      "Epoch 32/1000\n",
      "\u001b[1m858/858\u001b[0m \u001b[32m━━━━━━━━━━━━━━━━━━━━\u001b[0m\u001b[37m\u001b[0m \u001b[1m1s\u001b[0m 795us/step - accuracy: 0.8141 - loss: 0.0604 - val_accuracy: 0.8082 - val_loss: 0.0634\n",
      "Epoch 33/1000\n",
      "\u001b[1m858/858\u001b[0m \u001b[32m━━━━━━━━━━━━━━━━━━━━\u001b[0m\u001b[37m\u001b[0m \u001b[1m1s\u001b[0m 875us/step - accuracy: 0.8127 - loss: 0.0611 - val_accuracy: 0.8085 - val_loss: 0.0633\n",
      "Epoch 34/1000\n",
      "\u001b[1m858/858\u001b[0m \u001b[32m━━━━━━━━━━━━━━━━━━━━\u001b[0m\u001b[37m\u001b[0m \u001b[1m1s\u001b[0m 813us/step - accuracy: 0.8126 - loss: 0.0614 - val_accuracy: 0.8089 - val_loss: 0.0638\n",
      "Epoch 35/1000\n",
      "\u001b[1m858/858\u001b[0m \u001b[32m━━━━━━━━━━━━━━━━━━━━\u001b[0m\u001b[37m\u001b[0m \u001b[1m1s\u001b[0m 807us/step - accuracy: 0.8131 - loss: 0.0613 - val_accuracy: 0.8096 - val_loss: 0.0634\n",
      "Epoch 36/1000\n",
      "\u001b[1m858/858\u001b[0m \u001b[32m━━━━━━━━━━━━━━━━━━━━\u001b[0m\u001b[37m\u001b[0m \u001b[1m1s\u001b[0m 806us/step - accuracy: 0.8107 - loss: 0.0614 - val_accuracy: 0.8077 - val_loss: 0.0633\n",
      "Epoch 37/1000\n",
      "\u001b[1m858/858\u001b[0m \u001b[32m━━━━━━━━━━━━━━━━━━━━\u001b[0m\u001b[37m\u001b[0m \u001b[1m1s\u001b[0m 816us/step - accuracy: 0.8109 - loss: 0.0620 - val_accuracy: 0.8087 - val_loss: 0.0640\n",
      "Epoch 38/1000\n",
      "\u001b[1m858/858\u001b[0m \u001b[32m━━━━━━━━━━━━━━━━━━━━\u001b[0m\u001b[37m\u001b[0m \u001b[1m1s\u001b[0m 807us/step - accuracy: 0.8115 - loss: 0.0618 - val_accuracy: 0.8038 - val_loss: 0.0637\n",
      "Epoch 39/1000\n",
      "\u001b[1m858/858\u001b[0m \u001b[32m━━━━━━━━━━━━━━━━━━━━\u001b[0m\u001b[37m\u001b[0m \u001b[1m1s\u001b[0m 950us/step - accuracy: 0.8129 - loss: 0.0610 - val_accuracy: 0.8080 - val_loss: 0.0633\n",
      "Epoch 40/1000\n",
      "\u001b[1m858/858\u001b[0m \u001b[32m━━━━━━━━━━━━━━━━━━━━\u001b[0m\u001b[37m\u001b[0m \u001b[1m1s\u001b[0m 823us/step - accuracy: 0.8149 - loss: 0.0608 - val_accuracy: 0.8077 - val_loss: 0.0633\n",
      "Epoch 41/1000\n",
      "\u001b[1m858/858\u001b[0m \u001b[32m━━━━━━━━━━━━━━━━━━━━\u001b[0m\u001b[37m\u001b[0m \u001b[1m1s\u001b[0m 811us/step - accuracy: 0.8151 - loss: 0.0605 - val_accuracy: 0.8052 - val_loss: 0.0635\n",
      "Epoch 42/1000\n",
      "\u001b[1m858/858\u001b[0m \u001b[32m━━━━━━━━━━━━━━━━━━━━\u001b[0m\u001b[37m\u001b[0m \u001b[1m1s\u001b[0m 796us/step - accuracy: 0.8195 - loss: 0.0594 - val_accuracy: 0.8038 - val_loss: 0.0641\n",
      "Epoch 43/1000\n",
      "\u001b[1m858/858\u001b[0m \u001b[32m━━━━━━━━━━━━━━━━━━━━\u001b[0m\u001b[37m\u001b[0m \u001b[1m1s\u001b[0m 807us/step - accuracy: 0.8142 - loss: 0.0609 - val_accuracy: 0.8019 - val_loss: 0.0638\n",
      "Epoch 44/1000\n",
      "\u001b[1m858/858\u001b[0m \u001b[32m━━━━━━━━━━━━━━━━━━━━\u001b[0m\u001b[37m\u001b[0m \u001b[1m1s\u001b[0m 799us/step - accuracy: 0.8134 - loss: 0.0610 - val_accuracy: 0.8026 - val_loss: 0.0643\n",
      "Epoch 45/1000\n",
      "\u001b[1m858/858\u001b[0m \u001b[32m━━━━━━━━━━━━━━━━━━━━\u001b[0m\u001b[37m\u001b[0m \u001b[1m1s\u001b[0m 828us/step - accuracy: 0.8144 - loss: 0.0605 - val_accuracy: 0.8077 - val_loss: 0.0634\n",
      "Epoch 46/1000\n",
      "\u001b[1m858/858\u001b[0m \u001b[32m━━━━━━━━━━━━━━━━━━━━\u001b[0m\u001b[37m\u001b[0m \u001b[1m1s\u001b[0m 855us/step - accuracy: 0.8134 - loss: 0.0606 - val_accuracy: 0.8073 - val_loss: 0.0635\n",
      "Epoch 47/1000\n",
      "\u001b[1m858/858\u001b[0m \u001b[32m━━━━━━━━━━━━━━━━━━━━\u001b[0m\u001b[37m\u001b[0m \u001b[1m1s\u001b[0m 819us/step - accuracy: 0.8110 - loss: 0.0612 - val_accuracy: 0.8073 - val_loss: 0.0635\n",
      "Epoch 48/1000\n",
      "\u001b[1m858/858\u001b[0m \u001b[32m━━━━━━━━━━━━━━━━━━━━\u001b[0m\u001b[37m\u001b[0m \u001b[1m1s\u001b[0m 797us/step - accuracy: 0.8120 - loss: 0.0611 - val_accuracy: 0.8071 - val_loss: 0.0636\n",
      "Epoch 49/1000\n",
      "\u001b[1m858/858\u001b[0m \u001b[32m━━━━━━━━━━━━━━━━━━━━\u001b[0m\u001b[37m\u001b[0m \u001b[1m1s\u001b[0m 816us/step - accuracy: 0.8143 - loss: 0.0604 - val_accuracy: 0.8036 - val_loss: 0.0638\n",
      "Epoch 50/1000\n",
      "\u001b[1m858/858\u001b[0m \u001b[32m━━━━━━━━━━━━━━━━━━━━\u001b[0m\u001b[37m\u001b[0m \u001b[1m1s\u001b[0m 834us/step - accuracy: 0.8146 - loss: 0.0604 - val_accuracy: 0.8074 - val_loss: 0.0633\n",
      "Epoch 51/1000\n",
      "\u001b[1m858/858\u001b[0m \u001b[32m━━━━━━━━━━━━━━━━━━━━\u001b[0m\u001b[37m\u001b[0m \u001b[1m1s\u001b[0m 840us/step - accuracy: 0.8175 - loss: 0.0601 - val_accuracy: 0.8069 - val_loss: 0.0636\n",
      "Epoch 52/1000\n",
      "\u001b[1m858/858\u001b[0m \u001b[32m━━━━━━━━━━━━━━━━━━━━\u001b[0m\u001b[37m\u001b[0m \u001b[1m1s\u001b[0m 868us/step - accuracy: 0.8183 - loss: 0.0596 - val_accuracy: 0.8044 - val_loss: 0.0639\n",
      "Epoch 53/1000\n",
      "\u001b[1m858/858\u001b[0m \u001b[32m━━━━━━━━━━━━━━━━━━━━\u001b[0m\u001b[37m\u001b[0m \u001b[1m1s\u001b[0m 855us/step - accuracy: 0.8166 - loss: 0.0604 - val_accuracy: 0.8004 - val_loss: 0.0637\n",
      "Epoch 54/1000\n",
      "\u001b[1m858/858\u001b[0m \u001b[32m━━━━━━━━━━━━━━━━━━━━\u001b[0m\u001b[37m\u001b[0m \u001b[1m1s\u001b[0m 861us/step - accuracy: 0.8161 - loss: 0.0607 - val_accuracy: 0.8042 - val_loss: 0.0636\n",
      "Epoch 55/1000\n",
      "\u001b[1m858/858\u001b[0m \u001b[32m━━━━━━━━━━━━━━━━━━━━\u001b[0m\u001b[37m\u001b[0m \u001b[1m1s\u001b[0m 827us/step - accuracy: 0.8148 - loss: 0.0603 - val_accuracy: 0.8055 - val_loss: 0.0636\n",
      "Epoch 56/1000\n",
      "\u001b[1m858/858\u001b[0m \u001b[32m━━━━━━━━━━━━━━━━━━━━\u001b[0m\u001b[37m\u001b[0m \u001b[1m1s\u001b[0m 978us/step - accuracy: 0.8199 - loss: 0.0594 - val_accuracy: 0.8098 - val_loss: 0.0636\n",
      "Epoch 57/1000\n",
      "\u001b[1m858/858\u001b[0m \u001b[32m━━━━━━━━━━━━━━━━━━━━\u001b[0m\u001b[37m\u001b[0m \u001b[1m1s\u001b[0m 995us/step - accuracy: 0.8162 - loss: 0.0604 - val_accuracy: 0.8057 - val_loss: 0.0637\n",
      "Epoch 58/1000\n",
      "\u001b[1m858/858\u001b[0m \u001b[32m━━━━━━━━━━━━━━━━━━━━\u001b[0m\u001b[37m\u001b[0m \u001b[1m1s\u001b[0m 903us/step - accuracy: 0.8185 - loss: 0.0600 - val_accuracy: 0.7994 - val_loss: 0.0640\n",
      "Epoch 59/1000\n",
      "\u001b[1m858/858\u001b[0m \u001b[32m━━━━━━━━━━━━━━━━━━━━\u001b[0m\u001b[37m\u001b[0m \u001b[1m1s\u001b[0m 834us/step - accuracy: 0.8128 - loss: 0.0608 - val_accuracy: 0.8042 - val_loss: 0.0638\n",
      "Epoch 60/1000\n",
      "\u001b[1m858/858\u001b[0m \u001b[32m━━━━━━━━━━━━━━━━━━━━\u001b[0m\u001b[37m\u001b[0m \u001b[1m1s\u001b[0m 844us/step - accuracy: 0.8210 - loss: 0.0593 - val_accuracy: 0.8064 - val_loss: 0.0636\n",
      "Epoch 61/1000\n",
      "\u001b[1m858/858\u001b[0m \u001b[32m━━━━━━━━━━━━━━━━━━━━\u001b[0m\u001b[37m\u001b[0m \u001b[1m1s\u001b[0m 818us/step - accuracy: 0.8182 - loss: 0.0597 - val_accuracy: 0.8051 - val_loss: 0.0636\n",
      "Epoch 62/1000\n",
      "\u001b[1m858/858\u001b[0m \u001b[32m━━━━━━━━━━━━━━━━━━━━\u001b[0m\u001b[37m\u001b[0m \u001b[1m1s\u001b[0m 826us/step - accuracy: 0.8145 - loss: 0.0608 - val_accuracy: 0.8055 - val_loss: 0.0638\n",
      "Epoch 63/1000\n",
      "\u001b[1m858/858\u001b[0m \u001b[32m━━━━━━━━━━━━━━━━━━━━\u001b[0m\u001b[37m\u001b[0m \u001b[1m1s\u001b[0m 807us/step - accuracy: 0.8195 - loss: 0.0590 - val_accuracy: 0.8050 - val_loss: 0.0637\n",
      "Epoch 64/1000\n",
      "\u001b[1m858/858\u001b[0m \u001b[32m━━━━━━━━━━━━━━━━━━━━\u001b[0m\u001b[37m\u001b[0m \u001b[1m1s\u001b[0m 883us/step - accuracy: 0.8171 - loss: 0.0600 - val_accuracy: 0.8058 - val_loss: 0.0637\n",
      "215/215 - 0s - 559us/step - accuracy: 0.8111 - loss: 0.0633\n"
     ]
    }
   ],
   "source": [
    "updated_charity_dataframe['CLASSIFICATION'], optimal_bins_dictionary['CLASSIFICATION'] \\\n",
    "    = deep_learningx.return_optimal_binning_value \\\n",
    "        (updated_charity_dataframe, 'CLASSIFICATION', 'C2200', \n",
    "         optimal_bins_dictionary['AFFILIATION']['accuracy'])\n",
    "\n",
    "logx.log_write_object \\\n",
    "    (updated_charity_dataframe['CLASSIFICATION'].value_counts().sort_values(ascending = False))"
   ]
  },
  {
   "cell_type": "markdown",
   "metadata": {
    "id": "spkEzGlDhYup"
   },
   "source": [
    "### **USE_CASE**"
   ]
  },
  {
   "cell_type": "code",
   "execution_count": 30,
   "metadata": {
    "id": "13EdvEd_hYup"
   },
   "outputs": [
    {
     "name": "stdout",
     "output_type": "stream",
     "text": [
      "\u001b[1mProcessing: 6/6\n",
      "\u001b[0m\n",
      "\u001b[1mReplacing values...\n",
      "\u001b[0m\n",
      "\u001b[1mSetting dummy values...\n",
      "\u001b[0m\n",
      "\u001b[1mSplitting data into training and testing...\n",
      "\u001b[0m\n",
      "\u001b[1mCreating model...\n",
      "\u001b[0m\n",
      "\u001b[1mCompiling...\n",
      "\u001b[0m\n",
      "\u001b[1mFitting data...\n",
      "\u001b[0m\n",
      "Epoch 1/1000\n",
      "\u001b[1m858/858\u001b[0m \u001b[32m━━━━━━━━━━━━━━━━━━━━\u001b[0m\u001b[37m\u001b[0m \u001b[1m1s\u001b[0m 895us/step - accuracy: 0.6599 - loss: 0.1027 - val_accuracy: 0.7587 - val_loss: 0.0776\n",
      "Epoch 2/1000\n",
      "\u001b[1m858/858\u001b[0m \u001b[32m━━━━━━━━━━━━━━━━━━━━\u001b[0m\u001b[37m\u001b[0m \u001b[1m1s\u001b[0m 782us/step - accuracy: 0.7648 - loss: 0.0767 - val_accuracy: 0.7835 - val_loss: 0.0716\n",
      "Epoch 3/1000\n",
      "\u001b[1m858/858\u001b[0m \u001b[32m━━━━━━━━━━━━━━━━━━━━\u001b[0m\u001b[37m\u001b[0m \u001b[1m1s\u001b[0m 783us/step - accuracy: 0.7867 - loss: 0.0706 - val_accuracy: 0.7948 - val_loss: 0.0681\n",
      "Epoch 4/1000\n",
      "\u001b[1m858/858\u001b[0m \u001b[32m━━━━━━━━━━━━━━━━━━━━\u001b[0m\u001b[37m\u001b[0m \u001b[1m1s\u001b[0m 780us/step - accuracy: 0.7947 - loss: 0.0679 - val_accuracy: 0.8009 - val_loss: 0.0664\n",
      "Epoch 5/1000\n",
      "\u001b[1m858/858\u001b[0m \u001b[32m━━━━━━━━━━━━━━━━━━━━\u001b[0m\u001b[37m\u001b[0m \u001b[1m1s\u001b[0m 781us/step - accuracy: 0.7996 - loss: 0.0661 - val_accuracy: 0.8023 - val_loss: 0.0655\n",
      "Epoch 6/1000\n",
      "\u001b[1m858/858\u001b[0m \u001b[32m━━━━━━━━━━━━━━━━━━━━\u001b[0m\u001b[37m\u001b[0m \u001b[1m1s\u001b[0m 785us/step - accuracy: 0.8027 - loss: 0.0651 - val_accuracy: 0.8038 - val_loss: 0.0649\n",
      "Epoch 7/1000\n",
      "\u001b[1m858/858\u001b[0m \u001b[32m━━━━━━━━━━━━━━━━━━━━\u001b[0m\u001b[37m\u001b[0m \u001b[1m1s\u001b[0m 779us/step - accuracy: 0.8072 - loss: 0.0645 - val_accuracy: 0.8055 - val_loss: 0.0646\n",
      "Epoch 8/1000\n",
      "\u001b[1m858/858\u001b[0m \u001b[32m━━━━━━━━━━━━━━━━━━━━\u001b[0m\u001b[37m\u001b[0m \u001b[1m1s\u001b[0m 780us/step - accuracy: 0.8034 - loss: 0.0647 - val_accuracy: 0.8015 - val_loss: 0.0647\n",
      "Epoch 9/1000\n",
      "\u001b[1m858/858\u001b[0m \u001b[32m━━━━━━━━━━━━━━━━━━━━\u001b[0m\u001b[37m\u001b[0m \u001b[1m1s\u001b[0m 825us/step - accuracy: 0.8047 - loss: 0.0642 - val_accuracy: 0.8069 - val_loss: 0.0643\n",
      "Epoch 10/1000\n",
      "\u001b[1m858/858\u001b[0m \u001b[32m━━━━━━━━━━━━━━━━━━━━\u001b[0m\u001b[37m\u001b[0m \u001b[1m1s\u001b[0m 782us/step - accuracy: 0.8064 - loss: 0.0637 - val_accuracy: 0.8063 - val_loss: 0.0641\n",
      "Epoch 11/1000\n",
      "\u001b[1m858/858\u001b[0m \u001b[32m━━━━━━━━━━━━━━━━━━━━\u001b[0m\u001b[37m\u001b[0m \u001b[1m1s\u001b[0m 782us/step - accuracy: 0.8031 - loss: 0.0637 - val_accuracy: 0.8025 - val_loss: 0.0647\n",
      "Epoch 12/1000\n",
      "\u001b[1m858/858\u001b[0m \u001b[32m━━━━━━━━━━━━━━━━━━━━\u001b[0m\u001b[37m\u001b[0m \u001b[1m1s\u001b[0m 782us/step - accuracy: 0.8035 - loss: 0.0635 - val_accuracy: 0.8064 - val_loss: 0.0639\n",
      "Epoch 13/1000\n",
      "\u001b[1m858/858\u001b[0m \u001b[32m━━━━━━━━━━━━━━━━━━━━\u001b[0m\u001b[37m\u001b[0m \u001b[1m1s\u001b[0m 780us/step - accuracy: 0.8099 - loss: 0.0622 - val_accuracy: 0.8124 - val_loss: 0.0635\n",
      "Epoch 14/1000\n",
      "\u001b[1m858/858\u001b[0m \u001b[32m━━━━━━━━━━━━━━━━━━━━\u001b[0m\u001b[37m\u001b[0m \u001b[1m1s\u001b[0m 795us/step - accuracy: 0.8055 - loss: 0.0633 - val_accuracy: 0.8057 - val_loss: 0.0637\n",
      "Epoch 15/1000\n",
      "\u001b[1m858/858\u001b[0m \u001b[32m━━━━━━━━━━━━━━━━━━━━\u001b[0m\u001b[37m\u001b[0m \u001b[1m1s\u001b[0m 780us/step - accuracy: 0.8077 - loss: 0.0623 - val_accuracy: 0.8093 - val_loss: 0.0633\n",
      "Epoch 16/1000\n",
      "\u001b[1m858/858\u001b[0m \u001b[32m━━━━━━━━━━━━━━━━━━━━\u001b[0m\u001b[37m\u001b[0m \u001b[1m1s\u001b[0m 780us/step - accuracy: 0.8091 - loss: 0.0622 - val_accuracy: 0.8087 - val_loss: 0.0634\n",
      "Epoch 17/1000\n",
      "\u001b[1m858/858\u001b[0m \u001b[32m━━━━━━━━━━━━━━━━━━━━\u001b[0m\u001b[37m\u001b[0m \u001b[1m1s\u001b[0m 816us/step - accuracy: 0.8048 - loss: 0.0628 - val_accuracy: 0.8087 - val_loss: 0.0634\n",
      "Epoch 18/1000\n",
      "\u001b[1m858/858\u001b[0m \u001b[32m━━━━━━━━━━━━━━━━━━━━\u001b[0m\u001b[37m\u001b[0m \u001b[1m1s\u001b[0m 872us/step - accuracy: 0.8032 - loss: 0.0634 - val_accuracy: 0.8090 - val_loss: 0.0634\n",
      "Epoch 19/1000\n",
      "\u001b[1m858/858\u001b[0m \u001b[32m━━━━━━━━━━━━━━━━━━━━\u001b[0m\u001b[37m\u001b[0m \u001b[1m1s\u001b[0m 781us/step - accuracy: 0.8116 - loss: 0.0617 - val_accuracy: 0.8092 - val_loss: 0.0635\n",
      "Epoch 20/1000\n",
      "\u001b[1m858/858\u001b[0m \u001b[32m━━━━━━━━━━━━━━━━━━━━\u001b[0m\u001b[37m\u001b[0m \u001b[1m1s\u001b[0m 786us/step - accuracy: 0.8095 - loss: 0.0621 - val_accuracy: 0.8095 - val_loss: 0.0638\n",
      "Epoch 21/1000\n",
      "\u001b[1m858/858\u001b[0m \u001b[32m━━━━━━━━━━━━━━━━━━━━\u001b[0m\u001b[37m\u001b[0m \u001b[1m1s\u001b[0m 783us/step - accuracy: 0.8116 - loss: 0.0615 - val_accuracy: 0.8034 - val_loss: 0.0637\n",
      "Epoch 22/1000\n",
      "\u001b[1m858/858\u001b[0m \u001b[32m━━━━━━━━━━━━━━━━━━━━\u001b[0m\u001b[37m\u001b[0m \u001b[1m1s\u001b[0m 843us/step - accuracy: 0.8115 - loss: 0.0616 - val_accuracy: 0.8063 - val_loss: 0.0635\n",
      "Epoch 23/1000\n",
      "\u001b[1m858/858\u001b[0m \u001b[32m━━━━━━━━━━━━━━━━━━━━\u001b[0m\u001b[37m\u001b[0m \u001b[1m1s\u001b[0m 779us/step - accuracy: 0.8107 - loss: 0.0622 - val_accuracy: 0.8080 - val_loss: 0.0632\n",
      "Epoch 24/1000\n",
      "\u001b[1m858/858\u001b[0m \u001b[32m━━━━━━━━━━━━━━━━━━━━\u001b[0m\u001b[37m\u001b[0m \u001b[1m1s\u001b[0m 784us/step - accuracy: 0.8082 - loss: 0.0621 - val_accuracy: 0.8063 - val_loss: 0.0638\n",
      "Epoch 25/1000\n",
      "\u001b[1m858/858\u001b[0m \u001b[32m━━━━━━━━━━━━━━━━━━━━\u001b[0m\u001b[37m\u001b[0m \u001b[1m1s\u001b[0m 784us/step - accuracy: 0.8111 - loss: 0.0613 - val_accuracy: 0.8086 - val_loss: 0.0633\n",
      "Epoch 26/1000\n",
      "\u001b[1m858/858\u001b[0m \u001b[32m━━━━━━━━━━━━━━━━━━━━\u001b[0m\u001b[37m\u001b[0m \u001b[1m1s\u001b[0m 846us/step - accuracy: 0.8102 - loss: 0.0619 - val_accuracy: 0.8099 - val_loss: 0.0633\n",
      "Epoch 27/1000\n",
      "\u001b[1m858/858\u001b[0m \u001b[32m━━━━━━━━━━━━━━━━━━━━\u001b[0m\u001b[37m\u001b[0m \u001b[1m1s\u001b[0m 783us/step - accuracy: 0.8070 - loss: 0.0625 - val_accuracy: 0.8066 - val_loss: 0.0638\n",
      "Epoch 28/1000\n",
      "\u001b[1m858/858\u001b[0m \u001b[32m━━━━━━━━━━━━━━━━━━━━\u001b[0m\u001b[37m\u001b[0m \u001b[1m1s\u001b[0m 780us/step - accuracy: 0.8091 - loss: 0.0618 - val_accuracy: 0.8044 - val_loss: 0.0632\n",
      "Epoch 29/1000\n",
      "\u001b[1m858/858\u001b[0m \u001b[32m━━━━━━━━━━━━━━━━━━━━\u001b[0m\u001b[37m\u001b[0m \u001b[1m1s\u001b[0m 781us/step - accuracy: 0.8121 - loss: 0.0613 - val_accuracy: 0.8058 - val_loss: 0.0637\n",
      "Epoch 30/1000\n",
      "\u001b[1m858/858\u001b[0m \u001b[32m━━━━━━━━━━━━━━━━━━━━\u001b[0m\u001b[37m\u001b[0m \u001b[1m1s\u001b[0m 783us/step - accuracy: 0.8098 - loss: 0.0617 - val_accuracy: 0.8071 - val_loss: 0.0635\n",
      "Epoch 31/1000\n",
      "\u001b[1m858/858\u001b[0m \u001b[32m━━━━━━━━━━━━━━━━━━━━\u001b[0m\u001b[37m\u001b[0m \u001b[1m1s\u001b[0m 797us/step - accuracy: 0.8095 - loss: 0.0616 - val_accuracy: 0.8047 - val_loss: 0.0639\n",
      "Epoch 32/1000\n",
      "\u001b[1m858/858\u001b[0m \u001b[32m━━━━━━━━━━━━━━━━━━━━\u001b[0m\u001b[37m\u001b[0m \u001b[1m1s\u001b[0m 785us/step - accuracy: 0.8093 - loss: 0.0623 - val_accuracy: 0.8045 - val_loss: 0.0636\n",
      "Epoch 33/1000\n",
      "\u001b[1m858/858\u001b[0m \u001b[32m━━━━━━━━━━━━━━━━━━━━\u001b[0m\u001b[37m\u001b[0m \u001b[1m1s\u001b[0m 784us/step - accuracy: 0.8145 - loss: 0.0604 - val_accuracy: 0.8089 - val_loss: 0.0639\n",
      "Epoch 34/1000\n",
      "\u001b[1m858/858\u001b[0m \u001b[32m━━━━━━━━━━━━━━━━━━━━\u001b[0m\u001b[37m\u001b[0m \u001b[1m1s\u001b[0m 788us/step - accuracy: 0.8091 - loss: 0.0623 - val_accuracy: 0.8071 - val_loss: 0.0635\n",
      "Epoch 35/1000\n",
      "\u001b[1m858/858\u001b[0m \u001b[32m━━━━━━━━━━━━━━━━━━━━\u001b[0m\u001b[37m\u001b[0m \u001b[1m1s\u001b[0m 787us/step - accuracy: 0.8109 - loss: 0.0615 - val_accuracy: 0.8089 - val_loss: 0.0633\n",
      "Epoch 36/1000\n",
      "\u001b[1m858/858\u001b[0m \u001b[32m━━━━━━━━━━━━━━━━━━━━\u001b[0m\u001b[37m\u001b[0m \u001b[1m1s\u001b[0m 848us/step - accuracy: 0.8125 - loss: 0.0615 - val_accuracy: 0.8079 - val_loss: 0.0633\n",
      "Epoch 37/1000\n",
      "\u001b[1m858/858\u001b[0m \u001b[32m━━━━━━━━━━━━━━━━━━━━\u001b[0m\u001b[37m\u001b[0m \u001b[1m1s\u001b[0m 789us/step - accuracy: 0.8153 - loss: 0.0607 - val_accuracy: 0.8087 - val_loss: 0.0635\n",
      "Epoch 38/1000\n",
      "\u001b[1m858/858\u001b[0m \u001b[32m━━━━━━━━━━━━━━━━━━━━\u001b[0m\u001b[37m\u001b[0m \u001b[1m1s\u001b[0m 787us/step - accuracy: 0.8110 - loss: 0.0622 - val_accuracy: 0.8073 - val_loss: 0.0635\n",
      "Epoch 39/1000\n",
      "\u001b[1m858/858\u001b[0m \u001b[32m━━━━━━━━━━━━━━━━━━━━\u001b[0m\u001b[37m\u001b[0m \u001b[1m1s\u001b[0m 784us/step - accuracy: 0.8130 - loss: 0.0611 - val_accuracy: 0.8086 - val_loss: 0.0632\n",
      "Epoch 40/1000\n",
      "\u001b[1m858/858\u001b[0m \u001b[32m━━━━━━━━━━━━━━━━━━━━\u001b[0m\u001b[37m\u001b[0m \u001b[1m1s\u001b[0m 787us/step - accuracy: 0.8130 - loss: 0.0618 - val_accuracy: 0.8070 - val_loss: 0.0636\n",
      "Epoch 41/1000\n",
      "\u001b[1m858/858\u001b[0m \u001b[32m━━━━━━━━━━━━━━━━━━━━\u001b[0m\u001b[37m\u001b[0m \u001b[1m1s\u001b[0m 845us/step - accuracy: 0.8103 - loss: 0.0616 - val_accuracy: 0.8067 - val_loss: 0.0634\n",
      "Epoch 42/1000\n",
      "\u001b[1m858/858\u001b[0m \u001b[32m━━━━━━━━━━━━━━━━━━━━\u001b[0m\u001b[37m\u001b[0m \u001b[1m1s\u001b[0m 782us/step - accuracy: 0.8181 - loss: 0.0605 - val_accuracy: 0.8092 - val_loss: 0.0635\n",
      "Epoch 43/1000\n",
      "\u001b[1m858/858\u001b[0m \u001b[32m━━━━━━━━━━━━━━━━━━━━\u001b[0m\u001b[37m\u001b[0m \u001b[1m1s\u001b[0m 782us/step - accuracy: 0.8170 - loss: 0.0600 - val_accuracy: 0.8098 - val_loss: 0.0632\n",
      "Epoch 44/1000\n",
      "\u001b[1m858/858\u001b[0m \u001b[32m━━━━━━━━━━━━━━━━━━━━\u001b[0m\u001b[37m\u001b[0m \u001b[1m1s\u001b[0m 782us/step - accuracy: 0.8129 - loss: 0.0616 - val_accuracy: 0.8017 - val_loss: 0.0645\n",
      "Epoch 45/1000\n",
      "\u001b[1m858/858\u001b[0m \u001b[32m━━━━━━━━━━━━━━━━━━━━\u001b[0m\u001b[37m\u001b[0m \u001b[1m1s\u001b[0m 787us/step - accuracy: 0.8113 - loss: 0.0614 - val_accuracy: 0.8052 - val_loss: 0.0637\n",
      "Epoch 46/1000\n",
      "\u001b[1m858/858\u001b[0m \u001b[32m━━━━━━━━━━━━━━━━━━━━\u001b[0m\u001b[37m\u001b[0m \u001b[1m1s\u001b[0m 870us/step - accuracy: 0.8148 - loss: 0.0601 - val_accuracy: 0.8079 - val_loss: 0.0636\n",
      "Epoch 47/1000\n",
      "\u001b[1m858/858\u001b[0m \u001b[32m━━━━━━━━━━━━━━━━━━━━\u001b[0m\u001b[37m\u001b[0m \u001b[1m1s\u001b[0m 784us/step - accuracy: 0.8165 - loss: 0.0603 - val_accuracy: 0.8085 - val_loss: 0.0633\n",
      "Epoch 48/1000\n",
      "\u001b[1m858/858\u001b[0m \u001b[32m━━━━━━━━━━━━━━━━━━━━\u001b[0m\u001b[37m\u001b[0m \u001b[1m1s\u001b[0m 780us/step - accuracy: 0.8163 - loss: 0.0605 - val_accuracy: 0.8039 - val_loss: 0.0644\n",
      "Epoch 49/1000\n",
      "\u001b[1m858/858\u001b[0m \u001b[32m━━━━━━━━━━━━━━━━━━━━\u001b[0m\u001b[37m\u001b[0m \u001b[1m1s\u001b[0m 809us/step - accuracy: 0.8166 - loss: 0.0604 - val_accuracy: 0.8096 - val_loss: 0.0631\n",
      "Epoch 50/1000\n",
      "\u001b[1m858/858\u001b[0m \u001b[32m━━━━━━━━━━━━━━━━━━━━\u001b[0m\u001b[37m\u001b[0m \u001b[1m1s\u001b[0m 810us/step - accuracy: 0.8155 - loss: 0.0607 - val_accuracy: 0.8069 - val_loss: 0.0633\n",
      "Epoch 51/1000\n",
      "\u001b[1m858/858\u001b[0m \u001b[32m━━━━━━━━━━━━━━━━━━━━\u001b[0m\u001b[37m\u001b[0m \u001b[1m1s\u001b[0m 782us/step - accuracy: 0.8130 - loss: 0.0608 - val_accuracy: 0.8066 - val_loss: 0.0633\n",
      "Epoch 52/1000\n",
      "\u001b[1m858/858\u001b[0m \u001b[32m━━━━━━━━━━━━━━━━━━━━\u001b[0m\u001b[37m\u001b[0m \u001b[1m1s\u001b[0m 836us/step - accuracy: 0.8199 - loss: 0.0586 - val_accuracy: 0.8022 - val_loss: 0.0638\n",
      "Epoch 53/1000\n",
      "\u001b[1m858/858\u001b[0m \u001b[32m━━━━━━━━━━━━━━━━━━━━\u001b[0m\u001b[37m\u001b[0m \u001b[1m1s\u001b[0m 782us/step - accuracy: 0.8150 - loss: 0.0608 - val_accuracy: 0.8070 - val_loss: 0.0640\n",
      "Epoch 54/1000\n",
      "\u001b[1m858/858\u001b[0m \u001b[32m━━━━━━━━━━━━━━━━━━━━\u001b[0m\u001b[37m\u001b[0m \u001b[1m1s\u001b[0m 780us/step - accuracy: 0.8151 - loss: 0.0603 - val_accuracy: 0.8034 - val_loss: 0.0640\n",
      "Epoch 55/1000\n",
      "\u001b[1m858/858\u001b[0m \u001b[32m━━━━━━━━━━━━━━━━━━━━\u001b[0m\u001b[37m\u001b[0m \u001b[1m1s\u001b[0m 785us/step - accuracy: 0.8097 - loss: 0.0616 - val_accuracy: 0.8039 - val_loss: 0.0639\n",
      "215/215 - 0s - 505us/step - accuracy: 0.8124 - loss: 0.0635\n"
     ]
    }
   ],
   "source": [
    "updated_charity_dataframe['USE_CASE'], optimal_bins_dictionary['USE_CASE'] \\\n",
    "    = deep_learningx.return_optimal_binning_value \\\n",
    "        (updated_charity_dataframe, 'USE_CASE', 'OTHER',\n",
    "         optimal_bins_dictionary['CLASSIFICATION']['accuracy'])\n",
    "\n",
    "logx.log_write_object \\\n",
    "    (updated_charity_dataframe['USE_CASE'].value_counts().sort_values(ascending = False))"
   ]
  },
  {
   "cell_type": "markdown",
   "metadata": {
    "id": "0OlhjSiQ6Wqc"
   },
   "source": [
    "### **ORGANIZATION**"
   ]
  },
  {
   "cell_type": "code",
   "execution_count": 31,
   "metadata": {
    "id": "0JBBeEGlhYuq"
   },
   "outputs": [
    {
     "name": "stdout",
     "output_type": "stream",
     "text": [
      "\u001b[1mProcessing: 5/5\n",
      "\u001b[0m\n",
      "\u001b[1mReplacing values...\n",
      "\u001b[0m\n",
      "\u001b[1mSetting dummy values...\n",
      "\u001b[0m\n",
      "\u001b[1mSplitting data into training and testing...\n",
      "\u001b[0m\n",
      "\u001b[1mCreating model...\n",
      "\u001b[0m\n",
      "\u001b[1mCompiling...\n",
      "\u001b[0m\n",
      "\u001b[1mFitting data...\n",
      "\u001b[0m\n",
      "Epoch 1/1000\n",
      "\u001b[1m858/858\u001b[0m \u001b[32m━━━━━━━━━━━━━━━━━━━━\u001b[0m\u001b[37m\u001b[0m \u001b[1m1s\u001b[0m 956us/step - accuracy: 0.6931 - loss: 0.0993 - val_accuracy: 0.7528 - val_loss: 0.0791\n",
      "Epoch 2/1000\n",
      "\u001b[1m858/858\u001b[0m \u001b[32m━━━━━━━━━━━━━━━━━━━━\u001b[0m\u001b[37m\u001b[0m \u001b[1m1s\u001b[0m 776us/step - accuracy: 0.7577 - loss: 0.0787 - val_accuracy: 0.7897 - val_loss: 0.0713\n",
      "Epoch 3/1000\n",
      "\u001b[1m858/858\u001b[0m \u001b[32m━━━━━━━━━━━━━━━━━━━━\u001b[0m\u001b[37m\u001b[0m \u001b[1m1s\u001b[0m 776us/step - accuracy: 0.7838 - loss: 0.0716 - val_accuracy: 0.7914 - val_loss: 0.0691\n",
      "Epoch 4/1000\n",
      "\u001b[1m858/858\u001b[0m \u001b[32m━━━━━━━━━━━━━━━━━━━━\u001b[0m\u001b[37m\u001b[0m \u001b[1m1s\u001b[0m 778us/step - accuracy: 0.7947 - loss: 0.0685 - val_accuracy: 0.7971 - val_loss: 0.0668\n",
      "Epoch 5/1000\n",
      "\u001b[1m858/858\u001b[0m \u001b[32m━━━━━━━━━━━━━━━━━━━━\u001b[0m\u001b[37m\u001b[0m \u001b[1m1s\u001b[0m 776us/step - accuracy: 0.7967 - loss: 0.0670 - val_accuracy: 0.7991 - val_loss: 0.0658\n",
      "Epoch 6/1000\n",
      "\u001b[1m858/858\u001b[0m \u001b[32m━━━━━━━━━━━━━━━━━━━━\u001b[0m\u001b[37m\u001b[0m \u001b[1m1s\u001b[0m 777us/step - accuracy: 0.8026 - loss: 0.0652 - val_accuracy: 0.8023 - val_loss: 0.0654\n",
      "Epoch 7/1000\n",
      "\u001b[1m858/858\u001b[0m \u001b[32m━━━━━━━━━━━━━━━━━━━━\u001b[0m\u001b[37m\u001b[0m \u001b[1m1s\u001b[0m 779us/step - accuracy: 0.8052 - loss: 0.0645 - val_accuracy: 0.8034 - val_loss: 0.0652\n",
      "Epoch 8/1000\n",
      "\u001b[1m858/858\u001b[0m \u001b[32m━━━━━━━━━━━━━━━━━━━━\u001b[0m\u001b[37m\u001b[0m \u001b[1m1s\u001b[0m 775us/step - accuracy: 0.8094 - loss: 0.0633 - val_accuracy: 0.8000 - val_loss: 0.0653\n",
      "Epoch 9/1000\n",
      "\u001b[1m858/858\u001b[0m \u001b[32m━━━━━━━━━━━━━━━━━━━━\u001b[0m\u001b[37m\u001b[0m \u001b[1m1s\u001b[0m 780us/step - accuracy: 0.8078 - loss: 0.0636 - val_accuracy: 0.8073 - val_loss: 0.0645\n",
      "Epoch 10/1000\n",
      "\u001b[1m858/858\u001b[0m \u001b[32m━━━━━━━━━━━━━━━━━━━━\u001b[0m\u001b[37m\u001b[0m \u001b[1m1s\u001b[0m 779us/step - accuracy: 0.8085 - loss: 0.0630 - val_accuracy: 0.8058 - val_loss: 0.0641\n",
      "Epoch 11/1000\n",
      "\u001b[1m858/858\u001b[0m \u001b[32m━━━━━━━━━━━━━━━━━━━━\u001b[0m\u001b[37m\u001b[0m \u001b[1m1s\u001b[0m 779us/step - accuracy: 0.8099 - loss: 0.0627 - val_accuracy: 0.8089 - val_loss: 0.0638\n",
      "Epoch 12/1000\n",
      "\u001b[1m858/858\u001b[0m \u001b[32m━━━━━━━━━━━━━━━━━━━━\u001b[0m\u001b[37m\u001b[0m \u001b[1m1s\u001b[0m 778us/step - accuracy: 0.8129 - loss: 0.0621 - val_accuracy: 0.8071 - val_loss: 0.0638\n",
      "Epoch 13/1000\n",
      "\u001b[1m858/858\u001b[0m \u001b[32m━━━━━━━━━━━━━━━━━━━━\u001b[0m\u001b[37m\u001b[0m \u001b[1m1s\u001b[0m 780us/step - accuracy: 0.8080 - loss: 0.0630 - val_accuracy: 0.8089 - val_loss: 0.0640\n",
      "Epoch 14/1000\n",
      "\u001b[1m858/858\u001b[0m \u001b[32m━━━━━━━━━━━━━━━━━━━━\u001b[0m\u001b[37m\u001b[0m \u001b[1m1s\u001b[0m 779us/step - accuracy: 0.8082 - loss: 0.0631 - val_accuracy: 0.8066 - val_loss: 0.0637\n",
      "Epoch 15/1000\n",
      "\u001b[1m858/858\u001b[0m \u001b[32m━━━━━━━━━━━━━━━━━━━━\u001b[0m\u001b[37m\u001b[0m \u001b[1m1s\u001b[0m 849us/step - accuracy: 0.8091 - loss: 0.0622 - val_accuracy: 0.8071 - val_loss: 0.0640\n",
      "Epoch 16/1000\n",
      "\u001b[1m858/858\u001b[0m \u001b[32m━━━━━━━━━━━━━━━━━━━━\u001b[0m\u001b[37m\u001b[0m \u001b[1m1s\u001b[0m 780us/step - accuracy: 0.8127 - loss: 0.0619 - val_accuracy: 0.8077 - val_loss: 0.0638\n",
      "Epoch 17/1000\n",
      "\u001b[1m858/858\u001b[0m \u001b[32m━━━━━━━━━━━━━━━━━━━━\u001b[0m\u001b[37m\u001b[0m \u001b[1m1s\u001b[0m 780us/step - accuracy: 0.8103 - loss: 0.0620 - val_accuracy: 0.8093 - val_loss: 0.0638\n",
      "Epoch 18/1000\n",
      "\u001b[1m858/858\u001b[0m \u001b[32m━━━━━━━━━━━━━━━━━━━━\u001b[0m\u001b[37m\u001b[0m \u001b[1m1s\u001b[0m 779us/step - accuracy: 0.8078 - loss: 0.0632 - val_accuracy: 0.8079 - val_loss: 0.0634\n",
      "Epoch 19/1000\n",
      "\u001b[1m858/858\u001b[0m \u001b[32m━━━━━━━━━━━━━━━━━━━━\u001b[0m\u001b[37m\u001b[0m \u001b[1m1s\u001b[0m 844us/step - accuracy: 0.8128 - loss: 0.0619 - val_accuracy: 0.8086 - val_loss: 0.0640\n",
      "Epoch 20/1000\n",
      "\u001b[1m858/858\u001b[0m \u001b[32m━━━━━━━━━━━━━━━━━━━━\u001b[0m\u001b[37m\u001b[0m \u001b[1m1s\u001b[0m 777us/step - accuracy: 0.8139 - loss: 0.0616 - val_accuracy: 0.8083 - val_loss: 0.0633\n",
      "Epoch 21/1000\n",
      "\u001b[1m858/858\u001b[0m \u001b[32m━━━━━━━━━━━━━━━━━━━━\u001b[0m\u001b[37m\u001b[0m \u001b[1m1s\u001b[0m 778us/step - accuracy: 0.8117 - loss: 0.0619 - val_accuracy: 0.8054 - val_loss: 0.0636\n",
      "Epoch 22/1000\n",
      "\u001b[1m858/858\u001b[0m \u001b[32m━━━━━━━━━━━━━━━━━━━━\u001b[0m\u001b[37m\u001b[0m \u001b[1m1s\u001b[0m 778us/step - accuracy: 0.8076 - loss: 0.0624 - val_accuracy: 0.8064 - val_loss: 0.0635\n",
      "Epoch 23/1000\n",
      "\u001b[1m858/858\u001b[0m \u001b[32m━━━━━━━━━━━━━━━━━━━━\u001b[0m\u001b[37m\u001b[0m \u001b[1m1s\u001b[0m 811us/step - accuracy: 0.8153 - loss: 0.0613 - val_accuracy: 0.8076 - val_loss: 0.0636\n",
      "Epoch 24/1000\n",
      "\u001b[1m858/858\u001b[0m \u001b[32m━━━━━━━━━━━━━━━━━━━━\u001b[0m\u001b[37m\u001b[0m \u001b[1m1s\u001b[0m 843us/step - accuracy: 0.8129 - loss: 0.0614 - val_accuracy: 0.8080 - val_loss: 0.0634\n",
      "Epoch 25/1000\n",
      "\u001b[1m858/858\u001b[0m \u001b[32m━━━━━━━━━━━━━━━━━━━━\u001b[0m\u001b[37m\u001b[0m \u001b[1m1s\u001b[0m 775us/step - accuracy: 0.8182 - loss: 0.0605 - val_accuracy: 0.8060 - val_loss: 0.0641\n",
      "Epoch 26/1000\n",
      "\u001b[1m858/858\u001b[0m \u001b[32m━━━━━━━━━━━━━━━━━━━━\u001b[0m\u001b[37m\u001b[0m \u001b[1m1s\u001b[0m 779us/step - accuracy: 0.8117 - loss: 0.0620 - val_accuracy: 0.8089 - val_loss: 0.0634\n",
      "Epoch 27/1000\n",
      "\u001b[1m858/858\u001b[0m \u001b[32m━━━━━━━━━━━━━━━━━━━━\u001b[0m\u001b[37m\u001b[0m \u001b[1m1s\u001b[0m 779us/step - accuracy: 0.8107 - loss: 0.0621 - val_accuracy: 0.8064 - val_loss: 0.0636\n",
      "Epoch 28/1000\n",
      "\u001b[1m858/858\u001b[0m \u001b[32m━━━━━━━━━━━━━━━━━━━━\u001b[0m\u001b[37m\u001b[0m \u001b[1m1s\u001b[0m 778us/step - accuracy: 0.8156 - loss: 0.0608 - val_accuracy: 0.8080 - val_loss: 0.0632\n",
      "Epoch 29/1000\n",
      "\u001b[1m858/858\u001b[0m \u001b[32m━━━━━━━━━━━━━━━━━━━━\u001b[0m\u001b[37m\u001b[0m \u001b[1m1s\u001b[0m 849us/step - accuracy: 0.8133 - loss: 0.0609 - val_accuracy: 0.8087 - val_loss: 0.0633\n",
      "Epoch 30/1000\n",
      "\u001b[1m858/858\u001b[0m \u001b[32m━━━━━━━━━━━━━━━━━━━━\u001b[0m\u001b[37m\u001b[0m \u001b[1m1s\u001b[0m 782us/step - accuracy: 0.8167 - loss: 0.0603 - val_accuracy: 0.8069 - val_loss: 0.0634\n",
      "Epoch 31/1000\n",
      "\u001b[1m858/858\u001b[0m \u001b[32m━━━━━━━━━━━━━━━━━━━━\u001b[0m\u001b[37m\u001b[0m \u001b[1m1s\u001b[0m 777us/step - accuracy: 0.8139 - loss: 0.0615 - val_accuracy: 0.8076 - val_loss: 0.0637\n",
      "Epoch 32/1000\n",
      "\u001b[1m858/858\u001b[0m \u001b[32m━━━━━━━━━━━━━━━━━━━━\u001b[0m\u001b[37m\u001b[0m \u001b[1m1s\u001b[0m 780us/step - accuracy: 0.8088 - loss: 0.0619 - val_accuracy: 0.8095 - val_loss: 0.0633\n",
      "Epoch 33/1000\n",
      "\u001b[1m858/858\u001b[0m \u001b[32m━━━━━━━━━━━━━━━━━━━━\u001b[0m\u001b[37m\u001b[0m \u001b[1m1s\u001b[0m 779us/step - accuracy: 0.8179 - loss: 0.0601 - val_accuracy: 0.8076 - val_loss: 0.0633\n",
      "Epoch 34/1000\n",
      "\u001b[1m858/858\u001b[0m \u001b[32m━━━━━━━━━━━━━━━━━━━━\u001b[0m\u001b[37m\u001b[0m \u001b[1m1s\u001b[0m 840us/step - accuracy: 0.8116 - loss: 0.0618 - val_accuracy: 0.8073 - val_loss: 0.0635\n",
      "Epoch 35/1000\n",
      "\u001b[1m858/858\u001b[0m \u001b[32m━━━━━━━━━━━━━━━━━━━━\u001b[0m\u001b[37m\u001b[0m \u001b[1m1s\u001b[0m 781us/step - accuracy: 0.8107 - loss: 0.0619 - val_accuracy: 0.8034 - val_loss: 0.0643\n",
      "Epoch 36/1000\n",
      "\u001b[1m858/858\u001b[0m \u001b[32m━━━━━━━━━━━━━━━━━━━━\u001b[0m\u001b[37m\u001b[0m \u001b[1m1s\u001b[0m 779us/step - accuracy: 0.8107 - loss: 0.0621 - val_accuracy: 0.8080 - val_loss: 0.0632\n",
      "Epoch 37/1000\n",
      "\u001b[1m858/858\u001b[0m \u001b[32m━━━━━━━━━━━━━━━━━━━━\u001b[0m\u001b[37m\u001b[0m \u001b[1m1s\u001b[0m 780us/step - accuracy: 0.8144 - loss: 0.0609 - val_accuracy: 0.8019 - val_loss: 0.0641\n",
      "Epoch 38/1000\n",
      "\u001b[1m858/858\u001b[0m \u001b[32m━━━━━━━━━━━━━━━━━━━━\u001b[0m\u001b[37m\u001b[0m \u001b[1m1s\u001b[0m 783us/step - accuracy: 0.8120 - loss: 0.0615 - val_accuracy: 0.8077 - val_loss: 0.0632\n",
      "Epoch 39/1000\n",
      "\u001b[1m858/858\u001b[0m \u001b[32m━━━━━━━━━━━━━━━━━━━━\u001b[0m\u001b[37m\u001b[0m \u001b[1m1s\u001b[0m 779us/step - accuracy: 0.8102 - loss: 0.0617 - val_accuracy: 0.8083 - val_loss: 0.0630\n",
      "Epoch 40/1000\n",
      "\u001b[1m858/858\u001b[0m \u001b[32m━━━━━━━━━━━━━━━━━━━━\u001b[0m\u001b[37m\u001b[0m \u001b[1m1s\u001b[0m 844us/step - accuracy: 0.8124 - loss: 0.0616 - val_accuracy: 0.8016 - val_loss: 0.0644\n",
      "Epoch 41/1000\n",
      "\u001b[1m858/858\u001b[0m \u001b[32m━━━━━━━━━━━━━━━━━━━━\u001b[0m\u001b[37m\u001b[0m \u001b[1m1s\u001b[0m 782us/step - accuracy: 0.8134 - loss: 0.0610 - val_accuracy: 0.8095 - val_loss: 0.0632\n",
      "Epoch 42/1000\n",
      "\u001b[1m858/858\u001b[0m \u001b[32m━━━━━━━━━━━━━━━━━━━━\u001b[0m\u001b[37m\u001b[0m \u001b[1m1s\u001b[0m 779us/step - accuracy: 0.8109 - loss: 0.0618 - val_accuracy: 0.8074 - val_loss: 0.0631\n",
      "Epoch 43/1000\n",
      "\u001b[1m858/858\u001b[0m \u001b[32m━━━━━━━━━━━━━━━━━━━━\u001b[0m\u001b[37m\u001b[0m \u001b[1m1s\u001b[0m 779us/step - accuracy: 0.8141 - loss: 0.0608 - val_accuracy: 0.8092 - val_loss: 0.0631\n",
      "Epoch 44/1000\n",
      "\u001b[1m858/858\u001b[0m \u001b[32m━━━━━━━━━━━━━━━━━━━━\u001b[0m\u001b[37m\u001b[0m \u001b[1m1s\u001b[0m 778us/step - accuracy: 0.8165 - loss: 0.0598 - val_accuracy: 0.8074 - val_loss: 0.0631\n",
      "Epoch 45/1000\n",
      "\u001b[1m858/858\u001b[0m \u001b[32m━━━━━━━━━━━━━━━━━━━━\u001b[0m\u001b[37m\u001b[0m \u001b[1m1s\u001b[0m 781us/step - accuracy: 0.8137 - loss: 0.0613 - val_accuracy: 0.8057 - val_loss: 0.0634\n",
      "Epoch 46/1000\n",
      "\u001b[1m858/858\u001b[0m \u001b[32m━━━━━━━━━━━━━━━━━━━━\u001b[0m\u001b[37m\u001b[0m \u001b[1m1s\u001b[0m 840us/step - accuracy: 0.8144 - loss: 0.0610 - val_accuracy: 0.8039 - val_loss: 0.0637\n",
      "Epoch 47/1000\n",
      "\u001b[1m858/858\u001b[0m \u001b[32m━━━━━━━━━━━━━━━━━━━━\u001b[0m\u001b[37m\u001b[0m \u001b[1m1s\u001b[0m 780us/step - accuracy: 0.8103 - loss: 0.0616 - val_accuracy: 0.8090 - val_loss: 0.0631\n",
      "Epoch 48/1000\n",
      "\u001b[1m858/858\u001b[0m \u001b[32m━━━━━━━━━━━━━━━━━━━━\u001b[0m\u001b[37m\u001b[0m \u001b[1m1s\u001b[0m 776us/step - accuracy: 0.8124 - loss: 0.0612 - val_accuracy: 0.8089 - val_loss: 0.0631\n",
      "Epoch 49/1000\n",
      "\u001b[1m858/858\u001b[0m \u001b[32m━━━━━━━━━━━━━━━━━━━━\u001b[0m\u001b[37m\u001b[0m \u001b[1m1s\u001b[0m 779us/step - accuracy: 0.8157 - loss: 0.0601 - val_accuracy: 0.8080 - val_loss: 0.0630\n",
      "Epoch 50/1000\n",
      "\u001b[1m858/858\u001b[0m \u001b[32m━━━━━━━━━━━━━━━━━━━━\u001b[0m\u001b[37m\u001b[0m \u001b[1m1s\u001b[0m 777us/step - accuracy: 0.8127 - loss: 0.0615 - val_accuracy: 0.8089 - val_loss: 0.0634\n",
      "Epoch 51/1000\n",
      "\u001b[1m858/858\u001b[0m \u001b[32m━━━━━━━━━━━━━━━━━━━━\u001b[0m\u001b[37m\u001b[0m \u001b[1m1s\u001b[0m 778us/step - accuracy: 0.8123 - loss: 0.0615 - val_accuracy: 0.8022 - val_loss: 0.0641\n",
      "Epoch 52/1000\n",
      "\u001b[1m858/858\u001b[0m \u001b[32m━━━━━━━━━━━━━━━━━━━━\u001b[0m\u001b[37m\u001b[0m \u001b[1m1s\u001b[0m 782us/step - accuracy: 0.8174 - loss: 0.0603 - val_accuracy: 0.8077 - val_loss: 0.0630\n",
      "Epoch 53/1000\n",
      "\u001b[1m858/858\u001b[0m \u001b[32m━━━━━━━━━━━━━━━━━━━━\u001b[0m\u001b[37m\u001b[0m \u001b[1m1s\u001b[0m 778us/step - accuracy: 0.8167 - loss: 0.0608 - val_accuracy: 0.8079 - val_loss: 0.0632\n",
      "Epoch 54/1000\n",
      "\u001b[1m858/858\u001b[0m \u001b[32m━━━━━━━━━━━━━━━━━━━━\u001b[0m\u001b[37m\u001b[0m \u001b[1m1s\u001b[0m 848us/step - accuracy: 0.8161 - loss: 0.0607 - val_accuracy: 0.8067 - val_loss: 0.0633\n",
      "Epoch 55/1000\n",
      "\u001b[1m858/858\u001b[0m \u001b[32m━━━━━━━━━━━━━━━━━━━━\u001b[0m\u001b[37m\u001b[0m \u001b[1m1s\u001b[0m 781us/step - accuracy: 0.8133 - loss: 0.0608 - val_accuracy: 0.8051 - val_loss: 0.0641\n",
      "Epoch 56/1000\n",
      "\u001b[1m858/858\u001b[0m \u001b[32m━━━━━━━━━━━━━━━━━━━━\u001b[0m\u001b[37m\u001b[0m \u001b[1m1s\u001b[0m 782us/step - accuracy: 0.8138 - loss: 0.0606 - val_accuracy: 0.8077 - val_loss: 0.0636\n",
      "Epoch 57/1000\n",
      "\u001b[1m858/858\u001b[0m \u001b[32m━━━━━━━━━━━━━━━━━━━━\u001b[0m\u001b[37m\u001b[0m \u001b[1m1s\u001b[0m 777us/step - accuracy: 0.8192 - loss: 0.0599 - val_accuracy: 0.8064 - val_loss: 0.0636\n",
      "Epoch 58/1000\n",
      "\u001b[1m858/858\u001b[0m \u001b[32m━━━━━━━━━━━━━━━━━━━━\u001b[0m\u001b[37m\u001b[0m \u001b[1m1s\u001b[0m 782us/step - accuracy: 0.8175 - loss: 0.0599 - val_accuracy: 0.8096 - val_loss: 0.0630\n",
      "Epoch 59/1000\n",
      "\u001b[1m858/858\u001b[0m \u001b[32m━━━━━━━━━━━━━━━━━━━━\u001b[0m\u001b[37m\u001b[0m \u001b[1m1s\u001b[0m 781us/step - accuracy: 0.8143 - loss: 0.0609 - val_accuracy: 0.8074 - val_loss: 0.0633\n",
      "Epoch 60/1000\n",
      "\u001b[1m858/858\u001b[0m \u001b[32m━━━━━━━━━━━━━━━━━━━━\u001b[0m\u001b[37m\u001b[0m \u001b[1m1s\u001b[0m 776us/step - accuracy: 0.8156 - loss: 0.0605 - val_accuracy: 0.8076 - val_loss: 0.0631\n",
      "Epoch 61/1000\n",
      "\u001b[1m858/858\u001b[0m \u001b[32m━━━━━━━━━━━━━━━━━━━━\u001b[0m\u001b[37m\u001b[0m \u001b[1m1s\u001b[0m 845us/step - accuracy: 0.8158 - loss: 0.0603 - val_accuracy: 0.8051 - val_loss: 0.0635\n",
      "Epoch 62/1000\n",
      "\u001b[1m858/858\u001b[0m \u001b[32m━━━━━━━━━━━━━━━━━━━━\u001b[0m\u001b[37m\u001b[0m \u001b[1m1s\u001b[0m 780us/step - accuracy: 0.8181 - loss: 0.0599 - val_accuracy: 0.8058 - val_loss: 0.0633\n",
      "Epoch 63/1000\n",
      "\u001b[1m858/858\u001b[0m \u001b[32m━━━━━━━━━━━━━━━━━━━━\u001b[0m\u001b[37m\u001b[0m \u001b[1m1s\u001b[0m 782us/step - accuracy: 0.8169 - loss: 0.0602 - val_accuracy: 0.8096 - val_loss: 0.0633\n",
      "Epoch 64/1000\n",
      "\u001b[1m858/858\u001b[0m \u001b[32m━━━━━━━━━━━━━━━━━━━━\u001b[0m\u001b[37m\u001b[0m \u001b[1m1s\u001b[0m 781us/step - accuracy: 0.8172 - loss: 0.0602 - val_accuracy: 0.8051 - val_loss: 0.0634\n",
      "Epoch 65/1000\n",
      "\u001b[1m858/858\u001b[0m \u001b[32m━━━━━━━━━━━━━━━━━━━━\u001b[0m\u001b[37m\u001b[0m \u001b[1m1s\u001b[0m 779us/step - accuracy: 0.8188 - loss: 0.0597 - val_accuracy: 0.8045 - val_loss: 0.0633\n",
      "Epoch 66/1000\n",
      "\u001b[1m858/858\u001b[0m \u001b[32m━━━━━━━━━━━━━━━━━━━━\u001b[0m\u001b[37m\u001b[0m \u001b[1m1s\u001b[0m 779us/step - accuracy: 0.8131 - loss: 0.0609 - val_accuracy: 0.8055 - val_loss: 0.0632\n",
      "Epoch 67/1000\n",
      "\u001b[1m858/858\u001b[0m \u001b[32m━━━━━━━━━━━━━━━━━━━━\u001b[0m\u001b[37m\u001b[0m \u001b[1m1s\u001b[0m 782us/step - accuracy: 0.8129 - loss: 0.0610 - val_accuracy: 0.8071 - val_loss: 0.0631\n",
      "Epoch 68/1000\n",
      "\u001b[1m858/858\u001b[0m \u001b[32m━━━━━━━━━━━━━━━━━━━━\u001b[0m\u001b[37m\u001b[0m \u001b[1m1s\u001b[0m 780us/step - accuracy: 0.8151 - loss: 0.0604 - val_accuracy: 0.8080 - val_loss: 0.0631\n",
      "Epoch 69/1000\n",
      "\u001b[1m858/858\u001b[0m \u001b[32m━━━━━━━━━━━━━━━━━━━━\u001b[0m\u001b[37m\u001b[0m \u001b[1m1s\u001b[0m 848us/step - accuracy: 0.8202 - loss: 0.0594 - val_accuracy: 0.8020 - val_loss: 0.0645\n",
      "Epoch 70/1000\n",
      "\u001b[1m858/858\u001b[0m \u001b[32m━━━━━━━━━━━━━━━━━━━━\u001b[0m\u001b[37m\u001b[0m \u001b[1m1s\u001b[0m 782us/step - accuracy: 0.8215 - loss: 0.0586 - val_accuracy: 0.8051 - val_loss: 0.0635\n",
      "Epoch 71/1000\n",
      "\u001b[1m858/858\u001b[0m \u001b[32m━━━━━━━━━━━━━━━━━━━━\u001b[0m\u001b[37m\u001b[0m \u001b[1m1s\u001b[0m 785us/step - accuracy: 0.8163 - loss: 0.0598 - val_accuracy: 0.8080 - val_loss: 0.0631\n",
      "Epoch 72/1000\n",
      "\u001b[1m858/858\u001b[0m \u001b[32m━━━━━━━━━━━━━━━━━━━━\u001b[0m\u001b[37m\u001b[0m \u001b[1m1s\u001b[0m 781us/step - accuracy: 0.8144 - loss: 0.0607 - val_accuracy: 0.8057 - val_loss: 0.0635\n",
      "Epoch 73/1000\n",
      "\u001b[1m858/858\u001b[0m \u001b[32m━━━━━━━━━━━━━━━━━━━━\u001b[0m\u001b[37m\u001b[0m \u001b[1m1s\u001b[0m 782us/step - accuracy: 0.8166 - loss: 0.0600 - val_accuracy: 0.8058 - val_loss: 0.0632\n",
      "Epoch 74/1000\n",
      "\u001b[1m858/858\u001b[0m \u001b[32m━━━━━━━━━━━━━━━━━━━━\u001b[0m\u001b[37m\u001b[0m \u001b[1m1s\u001b[0m 786us/step - accuracy: 0.8165 - loss: 0.0599 - val_accuracy: 0.8071 - val_loss: 0.0635\n",
      "Epoch 75/1000\n",
      "\u001b[1m858/858\u001b[0m \u001b[32m━━━━━━━━━━━━━━━━━━━━\u001b[0m\u001b[37m\u001b[0m \u001b[1m1s\u001b[0m 811us/step - accuracy: 0.8184 - loss: 0.0598 - val_accuracy: 0.8067 - val_loss: 0.0634\n",
      "Epoch 76/1000\n",
      "\u001b[1m858/858\u001b[0m \u001b[32m━━━━━━━━━━━━━━━━━━━━\u001b[0m\u001b[37m\u001b[0m \u001b[1m1s\u001b[0m 804us/step - accuracy: 0.8194 - loss: 0.0593 - val_accuracy: 0.8054 - val_loss: 0.0638\n",
      "Epoch 77/1000\n",
      "\u001b[1m858/858\u001b[0m \u001b[32m━━━━━━━━━━━━━━━━━━━━\u001b[0m\u001b[37m\u001b[0m \u001b[1m1s\u001b[0m 817us/step - accuracy: 0.8166 - loss: 0.0603 - val_accuracy: 0.8073 - val_loss: 0.0632\n",
      "Epoch 78/1000\n",
      "\u001b[1m858/858\u001b[0m \u001b[32m━━━━━━━━━━━━━━━━━━━━\u001b[0m\u001b[37m\u001b[0m \u001b[1m1s\u001b[0m 795us/step - accuracy: 0.8203 - loss: 0.0596 - val_accuracy: 0.8067 - val_loss: 0.0633\n",
      "Epoch 79/1000\n",
      "\u001b[1m858/858\u001b[0m \u001b[32m━━━━━━━━━━━━━━━━━━━━\u001b[0m\u001b[37m\u001b[0m \u001b[1m1s\u001b[0m 789us/step - accuracy: 0.8174 - loss: 0.0592 - val_accuracy: 0.8063 - val_loss: 0.0636\n",
      "Epoch 80/1000\n",
      "\u001b[1m858/858\u001b[0m \u001b[32m━━━━━━━━━━━━━━━━━━━━\u001b[0m\u001b[37m\u001b[0m \u001b[1m1s\u001b[0m 852us/step - accuracy: 0.8171 - loss: 0.0602 - val_accuracy: 0.8055 - val_loss: 0.0632\n",
      "Epoch 81/1000\n",
      "\u001b[1m858/858\u001b[0m \u001b[32m━━━━━━━━━━━━━━━━━━━━\u001b[0m\u001b[37m\u001b[0m \u001b[1m1s\u001b[0m 789us/step - accuracy: 0.8155 - loss: 0.0603 - val_accuracy: 0.8064 - val_loss: 0.0633\n",
      "Epoch 82/1000\n",
      "\u001b[1m858/858\u001b[0m \u001b[32m━━━━━━━━━━━━━━━━━━━━\u001b[0m\u001b[37m\u001b[0m \u001b[1m1s\u001b[0m 780us/step - accuracy: 0.8154 - loss: 0.0598 - val_accuracy: 0.8054 - val_loss: 0.0643\n",
      "Epoch 83/1000\n",
      "\u001b[1m858/858\u001b[0m \u001b[32m━━━━━━━━━━━━━━━━━━━━\u001b[0m\u001b[37m\u001b[0m \u001b[1m1s\u001b[0m 778us/step - accuracy: 0.8175 - loss: 0.0601 - val_accuracy: 0.8096 - val_loss: 0.0635\n",
      "Epoch 84/1000\n",
      "\u001b[1m858/858\u001b[0m \u001b[32m━━━━━━━━━━━━━━━━━━━━\u001b[0m\u001b[37m\u001b[0m \u001b[1m1s\u001b[0m 779us/step - accuracy: 0.8208 - loss: 0.0585 - val_accuracy: 0.8060 - val_loss: 0.0637\n",
      "Epoch 85/1000\n",
      "\u001b[1m858/858\u001b[0m \u001b[32m━━━━━━━━━━━━━━━━━━━━\u001b[0m\u001b[37m\u001b[0m \u001b[1m1s\u001b[0m 786us/step - accuracy: 0.8182 - loss: 0.0599 - val_accuracy: 0.8063 - val_loss: 0.0638\n",
      "Epoch 86/1000\n",
      "\u001b[1m858/858\u001b[0m \u001b[32m━━━━━━━━━━━━━━━━━━━━\u001b[0m\u001b[37m\u001b[0m \u001b[1m1s\u001b[0m 782us/step - accuracy: 0.8215 - loss: 0.0592 - val_accuracy: 0.8057 - val_loss: 0.0634\n",
      "Epoch 87/1000\n",
      "\u001b[1m858/858\u001b[0m \u001b[32m━━━━━━━━━━━━━━━━━━━━\u001b[0m\u001b[37m\u001b[0m \u001b[1m1s\u001b[0m 785us/step - accuracy: 0.8201 - loss: 0.0591 - val_accuracy: 0.8061 - val_loss: 0.0634\n",
      "Epoch 88/1000\n",
      "\u001b[1m858/858\u001b[0m \u001b[32m━━━━━━━━━━━━━━━━━━━━\u001b[0m\u001b[37m\u001b[0m \u001b[1m1s\u001b[0m 844us/step - accuracy: 0.8205 - loss: 0.0593 - val_accuracy: 0.8057 - val_loss: 0.0638\n",
      "Epoch 89/1000\n",
      "\u001b[1m858/858\u001b[0m \u001b[32m━━━━━━━━━━━━━━━━━━━━\u001b[0m\u001b[37m\u001b[0m \u001b[1m1s\u001b[0m 785us/step - accuracy: 0.8200 - loss: 0.0596 - val_accuracy: 0.8055 - val_loss: 0.0634\n",
      "Epoch 90/1000\n",
      "\u001b[1m858/858\u001b[0m \u001b[32m━━━━━━━━━━━━━━━━━━━━\u001b[0m\u001b[37m\u001b[0m \u001b[1m1s\u001b[0m 786us/step - accuracy: 0.8223 - loss: 0.0587 - val_accuracy: 0.8057 - val_loss: 0.0635\n",
      "Epoch 91/1000\n",
      "\u001b[1m858/858\u001b[0m \u001b[32m━━━━━━━━━━━━━━━━━━━━\u001b[0m\u001b[37m\u001b[0m \u001b[1m1s\u001b[0m 783us/step - accuracy: 0.8228 - loss: 0.0587 - val_accuracy: 0.8074 - val_loss: 0.0636\n",
      "Epoch 92/1000\n",
      "\u001b[1m858/858\u001b[0m \u001b[32m━━━━━━━━━━━━━━━━━━━━\u001b[0m\u001b[37m\u001b[0m \u001b[1m1s\u001b[0m 780us/step - accuracy: 0.8124 - loss: 0.0606 - val_accuracy: 0.8077 - val_loss: 0.0634\n",
      "Epoch 93/1000\n",
      "\u001b[1m858/858\u001b[0m \u001b[32m━━━━━━━━━━━━━━━━━━━━\u001b[0m\u001b[37m\u001b[0m \u001b[1m1s\u001b[0m 781us/step - accuracy: 0.8188 - loss: 0.0598 - val_accuracy: 0.8064 - val_loss: 0.0635\n",
      "Epoch 94/1000\n",
      "\u001b[1m858/858\u001b[0m \u001b[32m━━━━━━━━━━━━━━━━━━━━\u001b[0m\u001b[37m\u001b[0m \u001b[1m1s\u001b[0m 780us/step - accuracy: 0.8171 - loss: 0.0597 - val_accuracy: 0.8067 - val_loss: 0.0634\n",
      "Epoch 95/1000\n",
      "\u001b[1m858/858\u001b[0m \u001b[32m━━━━━━━━━━━━━━━━━━━━\u001b[0m\u001b[37m\u001b[0m \u001b[1m1s\u001b[0m 782us/step - accuracy: 0.8193 - loss: 0.0594 - val_accuracy: 0.8044 - val_loss: 0.0638\n",
      "Epoch 96/1000\n",
      "\u001b[1m858/858\u001b[0m \u001b[32m━━━━━━━━━━━━━━━━━━━━\u001b[0m\u001b[37m\u001b[0m \u001b[1m1s\u001b[0m 783us/step - accuracy: 0.8179 - loss: 0.0598 - val_accuracy: 0.8048 - val_loss: 0.0634\n",
      "Epoch 97/1000\n",
      "\u001b[1m858/858\u001b[0m \u001b[32m━━━━━━━━━━━━━━━━━━━━\u001b[0m\u001b[37m\u001b[0m \u001b[1m1s\u001b[0m 859us/step - accuracy: 0.8180 - loss: 0.0596 - val_accuracy: 0.8080 - val_loss: 0.0637\n",
      "Epoch 98/1000\n",
      "\u001b[1m858/858\u001b[0m \u001b[32m━━━━━━━━━━━━━━━━━━━━\u001b[0m\u001b[37m\u001b[0m \u001b[1m1s\u001b[0m 784us/step - accuracy: 0.8174 - loss: 0.0595 - val_accuracy: 0.8048 - val_loss: 0.0639\n",
      "Epoch 99/1000\n",
      "\u001b[1m858/858\u001b[0m \u001b[32m━━━━━━━━━━━━━━━━━━━━\u001b[0m\u001b[37m\u001b[0m \u001b[1m1s\u001b[0m 782us/step - accuracy: 0.8208 - loss: 0.0594 - val_accuracy: 0.8060 - val_loss: 0.0635\n",
      "Epoch 100/1000\n",
      "\u001b[1m858/858\u001b[0m \u001b[32m━━━━━━━━━━━━━━━━━━━━\u001b[0m\u001b[37m\u001b[0m \u001b[1m1s\u001b[0m 784us/step - accuracy: 0.8162 - loss: 0.0603 - val_accuracy: 0.8058 - val_loss: 0.0636\n",
      "215/215 - 0s - 500us/step - accuracy: 0.8096 - loss: 0.0630\n"
     ]
    }
   ],
   "source": [
    "updated_charity_dataframe['ORGANIZATION'], optimal_bins_dictionary['ORGANIZATION'] \\\n",
    "    = deep_learningx.return_optimal_binning_value \\\n",
    "        (updated_charity_dataframe, 'ORGANIZATION', 'OTHER',\n",
    "         optimal_bins_dictionary['USE_CASE']['accuracy'])\n",
    "\n",
    "logx.log_write_object \\\n",
    "    (updated_charity_dataframe['ORGANIZATION'].value_counts().sort_values(ascending = False))"
   ]
  },
  {
   "cell_type": "markdown",
   "metadata": {
    "id": "haIW1JWihYuq"
   },
   "source": [
    "### **INCOME_AMT**"
   ]
  },
  {
   "cell_type": "code",
   "execution_count": 32,
   "metadata": {
    "id": "9XsJ7jvahYuq"
   },
   "outputs": [
    {
     "name": "stdout",
     "output_type": "stream",
     "text": [
      "\u001b[1mProcessing: 10/10\n",
      "\u001b[0m\n",
      "\u001b[1mReplacing values...\n",
      "\u001b[0m\n",
      "\u001b[1mSetting dummy values...\n",
      "\u001b[0m\n",
      "\u001b[1mSplitting data into training and testing...\n",
      "\u001b[0m\n",
      "\u001b[1mCreating model...\n",
      "\u001b[0m\n",
      "\u001b[1mCompiling...\n",
      "\u001b[0m\n",
      "\u001b[1mFitting data...\n",
      "\u001b[0m\n",
      "Epoch 1/1000\n",
      "\u001b[1m858/858\u001b[0m \u001b[32m━━━━━━━━━━━━━━━━━━━━\u001b[0m\u001b[37m\u001b[0m \u001b[1m1s\u001b[0m 904us/step - accuracy: 0.6884 - loss: 0.1024 - val_accuracy: 0.7558 - val_loss: 0.0785\n",
      "Epoch 2/1000\n",
      "\u001b[1m858/858\u001b[0m \u001b[32m━━━━━━━━━━━━━━━━━━━━\u001b[0m\u001b[37m\u001b[0m \u001b[1m1s\u001b[0m 769us/step - accuracy: 0.7608 - loss: 0.0772 - val_accuracy: 0.7873 - val_loss: 0.0712\n",
      "Epoch 3/1000\n",
      "\u001b[1m858/858\u001b[0m \u001b[32m━━━━━━━━━━━━━━━━━━━━\u001b[0m\u001b[37m\u001b[0m \u001b[1m1s\u001b[0m 782us/step - accuracy: 0.7875 - loss: 0.0707 - val_accuracy: 0.7952 - val_loss: 0.0683\n",
      "Epoch 4/1000\n",
      "\u001b[1m858/858\u001b[0m \u001b[32m━━━━━━━━━━━━━━━━━━━━\u001b[0m\u001b[37m\u001b[0m \u001b[1m1s\u001b[0m 772us/step - accuracy: 0.7944 - loss: 0.0681 - val_accuracy: 0.8009 - val_loss: 0.0665\n",
      "Epoch 5/1000\n",
      "\u001b[1m858/858\u001b[0m \u001b[32m━━━━━━━━━━━━━━━━━━━━\u001b[0m\u001b[37m\u001b[0m \u001b[1m1s\u001b[0m 765us/step - accuracy: 0.8001 - loss: 0.0662 - val_accuracy: 0.8020 - val_loss: 0.0655\n",
      "Epoch 6/1000\n",
      "\u001b[1m858/858\u001b[0m \u001b[32m━━━━━━━━━━━━━━━━━━━━\u001b[0m\u001b[37m\u001b[0m \u001b[1m1s\u001b[0m 761us/step - accuracy: 0.8028 - loss: 0.0649 - val_accuracy: 0.8063 - val_loss: 0.0647\n",
      "Epoch 7/1000\n",
      "\u001b[1m858/858\u001b[0m \u001b[32m━━━━━━━━━━━━━━━━━━━━\u001b[0m\u001b[37m\u001b[0m \u001b[1m1s\u001b[0m 761us/step - accuracy: 0.8028 - loss: 0.0646 - val_accuracy: 0.8044 - val_loss: 0.0644\n",
      "Epoch 8/1000\n",
      "\u001b[1m858/858\u001b[0m \u001b[32m━━━━━━━━━━━━━━━━━━━━\u001b[0m\u001b[37m\u001b[0m \u001b[1m1s\u001b[0m 761us/step - accuracy: 0.8063 - loss: 0.0639 - val_accuracy: 0.8054 - val_loss: 0.0644\n",
      "Epoch 9/1000\n",
      "\u001b[1m858/858\u001b[0m \u001b[32m━━━━━━━━━━━━━━━━━━━━\u001b[0m\u001b[37m\u001b[0m \u001b[1m1s\u001b[0m 763us/step - accuracy: 0.8053 - loss: 0.0636 - val_accuracy: 0.8079 - val_loss: 0.0638\n",
      "Epoch 10/1000\n",
      "\u001b[1m858/858\u001b[0m \u001b[32m━━━━━━━━━━━━━━━━━━━━\u001b[0m\u001b[37m\u001b[0m \u001b[1m1s\u001b[0m 763us/step - accuracy: 0.8061 - loss: 0.0633 - val_accuracy: 0.8095 - val_loss: 0.0636\n",
      "Epoch 11/1000\n",
      "\u001b[1m858/858\u001b[0m \u001b[32m━━━━━━━━━━━━━━━━━━━━\u001b[0m\u001b[37m\u001b[0m \u001b[1m1s\u001b[0m 762us/step - accuracy: 0.8101 - loss: 0.0628 - val_accuracy: 0.8070 - val_loss: 0.0640\n",
      "Epoch 12/1000\n",
      "\u001b[1m858/858\u001b[0m \u001b[32m━━━━━━━━━━━━━━━━━━━━\u001b[0m\u001b[37m\u001b[0m \u001b[1m1s\u001b[0m 780us/step - accuracy: 0.8037 - loss: 0.0637 - val_accuracy: 0.8106 - val_loss: 0.0635\n",
      "Epoch 13/1000\n",
      "\u001b[1m858/858\u001b[0m \u001b[32m━━━━━━━━━━━━━━━━━━━━\u001b[0m\u001b[37m\u001b[0m \u001b[1m1s\u001b[0m 765us/step - accuracy: 0.8087 - loss: 0.0624 - val_accuracy: 0.8085 - val_loss: 0.0642\n",
      "Epoch 14/1000\n",
      "\u001b[1m858/858\u001b[0m \u001b[32m━━━━━━━━━━━━━━━━━━━━\u001b[0m\u001b[37m\u001b[0m \u001b[1m1s\u001b[0m 761us/step - accuracy: 0.8076 - loss: 0.0631 - val_accuracy: 0.8096 - val_loss: 0.0635\n",
      "Epoch 15/1000\n",
      "\u001b[1m858/858\u001b[0m \u001b[32m━━━━━━━━━━━━━━━━━━━━\u001b[0m\u001b[37m\u001b[0m \u001b[1m1s\u001b[0m 763us/step - accuracy: 0.8133 - loss: 0.0615 - val_accuracy: 0.8004 - val_loss: 0.0650\n",
      "Epoch 16/1000\n",
      "\u001b[1m858/858\u001b[0m \u001b[32m━━━━━━━━━━━━━━━━━━━━\u001b[0m\u001b[37m\u001b[0m \u001b[1m1s\u001b[0m 760us/step - accuracy: 0.8131 - loss: 0.0614 - val_accuracy: 0.8080 - val_loss: 0.0634\n",
      "Epoch 17/1000\n",
      "\u001b[1m858/858\u001b[0m \u001b[32m━━━━━━━━━━━━━━━━━━━━\u001b[0m\u001b[37m\u001b[0m \u001b[1m1s\u001b[0m 839us/step - accuracy: 0.8094 - loss: 0.0622 - val_accuracy: 0.8073 - val_loss: 0.0637\n",
      "Epoch 18/1000\n",
      "\u001b[1m858/858\u001b[0m \u001b[32m━━━━━━━━━━━━━━━━━━━━\u001b[0m\u001b[37m\u001b[0m \u001b[1m1s\u001b[0m 790us/step - accuracy: 0.8109 - loss: 0.0621 - val_accuracy: 0.8086 - val_loss: 0.0633\n",
      "Epoch 19/1000\n",
      "\u001b[1m858/858\u001b[0m \u001b[32m━━━━━━━━━━━━━━━━━━━━\u001b[0m\u001b[37m\u001b[0m \u001b[1m1s\u001b[0m 775us/step - accuracy: 0.8148 - loss: 0.0613 - val_accuracy: 0.8066 - val_loss: 0.0634\n",
      "Epoch 20/1000\n",
      "\u001b[1m858/858\u001b[0m \u001b[32m━━━━━━━━━━━━━━━━━━━━\u001b[0m\u001b[37m\u001b[0m \u001b[1m1s\u001b[0m 783us/step - accuracy: 0.8122 - loss: 0.0612 - val_accuracy: 0.8087 - val_loss: 0.0633\n",
      "Epoch 21/1000\n",
      "\u001b[1m858/858\u001b[0m \u001b[32m━━━━━━━━━━━━━━━━━━━━\u001b[0m\u001b[37m\u001b[0m \u001b[1m1s\u001b[0m 775us/step - accuracy: 0.8132 - loss: 0.0611 - val_accuracy: 0.8066 - val_loss: 0.0635\n",
      "Epoch 22/1000\n",
      "\u001b[1m858/858\u001b[0m \u001b[32m━━━━━━━━━━━━━━━━━━━━\u001b[0m\u001b[37m\u001b[0m \u001b[1m1s\u001b[0m 838us/step - accuracy: 0.8113 - loss: 0.0617 - val_accuracy: 0.8058 - val_loss: 0.0642\n",
      "Epoch 23/1000\n",
      "\u001b[1m858/858\u001b[0m \u001b[32m━━━━━━━━━━━━━━━━━━━━\u001b[0m\u001b[37m\u001b[0m \u001b[1m1s\u001b[0m 778us/step - accuracy: 0.8103 - loss: 0.0618 - val_accuracy: 0.8080 - val_loss: 0.0632\n",
      "Epoch 24/1000\n",
      "\u001b[1m858/858\u001b[0m \u001b[32m━━━━━━━━━━━━━━━━━━━━\u001b[0m\u001b[37m\u001b[0m \u001b[1m1s\u001b[0m 766us/step - accuracy: 0.8140 - loss: 0.0605 - val_accuracy: 0.8074 - val_loss: 0.0636\n",
      "Epoch 25/1000\n",
      "\u001b[1m858/858\u001b[0m \u001b[32m━━━━━━━━━━━━━━━━━━━━\u001b[0m\u001b[37m\u001b[0m \u001b[1m1s\u001b[0m 767us/step - accuracy: 0.8122 - loss: 0.0620 - val_accuracy: 0.8093 - val_loss: 0.0631\n",
      "Epoch 26/1000\n",
      "\u001b[1m858/858\u001b[0m \u001b[32m━━━━━━━━━━━━━━━━━━━━\u001b[0m\u001b[37m\u001b[0m \u001b[1m1s\u001b[0m 771us/step - accuracy: 0.8110 - loss: 0.0622 - val_accuracy: 0.8099 - val_loss: 0.0634\n",
      "Epoch 27/1000\n",
      "\u001b[1m858/858\u001b[0m \u001b[32m━━━━━━━━━━━━━━━━━━━━\u001b[0m\u001b[37m\u001b[0m \u001b[1m1s\u001b[0m 838us/step - accuracy: 0.8145 - loss: 0.0612 - val_accuracy: 0.8016 - val_loss: 0.0650\n",
      "Epoch 28/1000\n",
      "\u001b[1m858/858\u001b[0m \u001b[32m━━━━━━━━━━━━━━━━━━━━\u001b[0m\u001b[37m\u001b[0m \u001b[1m1s\u001b[0m 777us/step - accuracy: 0.8105 - loss: 0.0612 - val_accuracy: 0.8079 - val_loss: 0.0632\n",
      "Epoch 29/1000\n",
      "\u001b[1m858/858\u001b[0m \u001b[32m━━━━━━━━━━━━━━━━━━━━\u001b[0m\u001b[37m\u001b[0m \u001b[1m1s\u001b[0m 784us/step - accuracy: 0.8111 - loss: 0.0623 - val_accuracy: 0.8089 - val_loss: 0.0630\n",
      "Epoch 30/1000\n",
      "\u001b[1m858/858\u001b[0m \u001b[32m━━━━━━━━━━━━━━━━━━━━\u001b[0m\u001b[37m\u001b[0m \u001b[1m1s\u001b[0m 775us/step - accuracy: 0.8126 - loss: 0.0615 - val_accuracy: 0.8079 - val_loss: 0.0632\n",
      "Epoch 31/1000\n",
      "\u001b[1m858/858\u001b[0m \u001b[32m━━━━━━━━━━━━━━━━━━━━\u001b[0m\u001b[37m\u001b[0m \u001b[1m1s\u001b[0m 842us/step - accuracy: 0.8096 - loss: 0.0616 - val_accuracy: 0.8044 - val_loss: 0.0635\n",
      "Epoch 32/1000\n",
      "\u001b[1m858/858\u001b[0m \u001b[32m━━━━━━━━━━━━━━━━━━━━\u001b[0m\u001b[37m\u001b[0m \u001b[1m1s\u001b[0m 790us/step - accuracy: 0.8084 - loss: 0.0629 - val_accuracy: 0.8102 - val_loss: 0.0630\n",
      "Epoch 33/1000\n",
      "\u001b[1m858/858\u001b[0m \u001b[32m━━━━━━━━━━━━━━━━━━━━\u001b[0m\u001b[37m\u001b[0m \u001b[1m1s\u001b[0m 770us/step - accuracy: 0.8121 - loss: 0.0619 - val_accuracy: 0.8090 - val_loss: 0.0630\n",
      "Epoch 34/1000\n",
      "\u001b[1m858/858\u001b[0m \u001b[32m━━━━━━━━━━━━━━━━━━━━\u001b[0m\u001b[37m\u001b[0m \u001b[1m1s\u001b[0m 768us/step - accuracy: 0.8116 - loss: 0.0622 - val_accuracy: 0.8066 - val_loss: 0.0635\n",
      "Epoch 35/1000\n",
      "\u001b[1m858/858\u001b[0m \u001b[32m━━━━━━━━━━━━━━━━━━━━\u001b[0m\u001b[37m\u001b[0m \u001b[1m1s\u001b[0m 764us/step - accuracy: 0.8147 - loss: 0.0610 - val_accuracy: 0.8082 - val_loss: 0.0634\n",
      "Epoch 36/1000\n",
      "\u001b[1m858/858\u001b[0m \u001b[32m━━━━━━━━━━━━━━━━━━━━\u001b[0m\u001b[37m\u001b[0m \u001b[1m1s\u001b[0m 776us/step - accuracy: 0.8127 - loss: 0.0612 - val_accuracy: 0.8090 - val_loss: 0.0631\n",
      "Epoch 37/1000\n",
      "\u001b[1m858/858\u001b[0m \u001b[32m━━━━━━━━━━━━━━━━━━━━\u001b[0m\u001b[37m\u001b[0m \u001b[1m1s\u001b[0m 840us/step - accuracy: 0.8142 - loss: 0.0608 - val_accuracy: 0.8074 - val_loss: 0.0632\n",
      "Epoch 38/1000\n",
      "\u001b[1m858/858\u001b[0m \u001b[32m━━━━━━━━━━━━━━━━━━━━\u001b[0m\u001b[37m\u001b[0m \u001b[1m1s\u001b[0m 770us/step - accuracy: 0.8165 - loss: 0.0604 - val_accuracy: 0.8047 - val_loss: 0.0634\n",
      "Epoch 39/1000\n",
      "\u001b[1m858/858\u001b[0m \u001b[32m━━━━━━━━━━━━━━━━━━━━\u001b[0m\u001b[37m\u001b[0m \u001b[1m1s\u001b[0m 777us/step - accuracy: 0.8146 - loss: 0.0609 - val_accuracy: 0.8025 - val_loss: 0.0641\n",
      "Epoch 40/1000\n",
      "\u001b[1m858/858\u001b[0m \u001b[32m━━━━━━━━━━━━━━━━━━━━\u001b[0m\u001b[37m\u001b[0m \u001b[1m1s\u001b[0m 771us/step - accuracy: 0.8101 - loss: 0.0624 - val_accuracy: 0.8089 - val_loss: 0.0636\n",
      "Epoch 41/1000\n",
      "\u001b[1m858/858\u001b[0m \u001b[32m━━━━━━━━━━━━━━━━━━━━\u001b[0m\u001b[37m\u001b[0m \u001b[1m1s\u001b[0m 776us/step - accuracy: 0.8133 - loss: 0.0611 - val_accuracy: 0.8102 - val_loss: 0.0637\n",
      "Epoch 42/1000\n",
      "\u001b[1m858/858\u001b[0m \u001b[32m━━━━━━━━━━━━━━━━━━━━\u001b[0m\u001b[37m\u001b[0m \u001b[1m1s\u001b[0m 845us/step - accuracy: 0.8164 - loss: 0.0606 - val_accuracy: 0.7990 - val_loss: 0.0650\n",
      "Epoch 43/1000\n",
      "\u001b[1m858/858\u001b[0m \u001b[32m━━━━━━━━━━━━━━━━━━━━\u001b[0m\u001b[37m\u001b[0m \u001b[1m1s\u001b[0m 770us/step - accuracy: 0.8117 - loss: 0.0618 - val_accuracy: 0.8079 - val_loss: 0.0635\n",
      "Epoch 44/1000\n",
      "\u001b[1m858/858\u001b[0m \u001b[32m━━━━━━━━━━━━━━━━━━━━\u001b[0m\u001b[37m\u001b[0m \u001b[1m1s\u001b[0m 777us/step - accuracy: 0.8170 - loss: 0.0605 - val_accuracy: 0.8092 - val_loss: 0.0634\n",
      "Epoch 45/1000\n",
      "\u001b[1m858/858\u001b[0m \u001b[32m━━━━━━━━━━━━━━━━━━━━\u001b[0m\u001b[37m\u001b[0m \u001b[1m1s\u001b[0m 779us/step - accuracy: 0.8168 - loss: 0.0604 - val_accuracy: 0.8102 - val_loss: 0.0631\n",
      "Epoch 46/1000\n",
      "\u001b[1m858/858\u001b[0m \u001b[32m━━━━━━━━━━━━━━━━━━━━\u001b[0m\u001b[37m\u001b[0m \u001b[1m1s\u001b[0m 769us/step - accuracy: 0.8140 - loss: 0.0612 - val_accuracy: 0.8087 - val_loss: 0.0631\n",
      "Epoch 47/1000\n",
      "\u001b[1m858/858\u001b[0m \u001b[32m━━━━━━━━━━━━━━━━━━━━\u001b[0m\u001b[37m\u001b[0m \u001b[1m1s\u001b[0m 775us/step - accuracy: 0.8160 - loss: 0.0606 - val_accuracy: 0.8013 - val_loss: 0.0641\n",
      "Epoch 48/1000\n",
      "\u001b[1m858/858\u001b[0m \u001b[32m━━━━━━━━━━━━━━━━━━━━\u001b[0m\u001b[37m\u001b[0m \u001b[1m1s\u001b[0m 779us/step - accuracy: 0.8145 - loss: 0.0608 - val_accuracy: 0.8092 - val_loss: 0.0636\n",
      "Epoch 49/1000\n",
      "\u001b[1m858/858\u001b[0m \u001b[32m━━━━━━━━━━━━━━━━━━━━\u001b[0m\u001b[37m\u001b[0m \u001b[1m1s\u001b[0m 798us/step - accuracy: 0.8218 - loss: 0.0593 - val_accuracy: 0.8076 - val_loss: 0.0636\n",
      "Epoch 50/1000\n",
      "\u001b[1m858/858\u001b[0m \u001b[32m━━━━━━━━━━━━━━━━━━━━\u001b[0m\u001b[37m\u001b[0m \u001b[1m1s\u001b[0m 783us/step - accuracy: 0.8183 - loss: 0.0599 - val_accuracy: 0.8071 - val_loss: 0.0635\n",
      "Epoch 51/1000\n",
      "\u001b[1m858/858\u001b[0m \u001b[32m━━━━━━━━━━━━━━━━━━━━\u001b[0m\u001b[37m\u001b[0m \u001b[1m1s\u001b[0m 781us/step - accuracy: 0.8098 - loss: 0.0621 - val_accuracy: 0.8098 - val_loss: 0.0632\n",
      "Epoch 52/1000\n",
      "\u001b[1m858/858\u001b[0m \u001b[32m━━━━━━━━━━━━━━━━━━━━\u001b[0m\u001b[37m\u001b[0m \u001b[1m1s\u001b[0m 784us/step - accuracy: 0.8185 - loss: 0.0597 - val_accuracy: 0.8070 - val_loss: 0.0636\n",
      "Epoch 53/1000\n",
      "\u001b[1m858/858\u001b[0m \u001b[32m━━━━━━━━━━━━━━━━━━━━\u001b[0m\u001b[37m\u001b[0m \u001b[1m1s\u001b[0m 792us/step - accuracy: 0.8109 - loss: 0.0618 - val_accuracy: 0.8073 - val_loss: 0.0634\n",
      "Epoch 54/1000\n",
      "\u001b[1m858/858\u001b[0m \u001b[32m━━━━━━━━━━━━━━━━━━━━\u001b[0m\u001b[37m\u001b[0m \u001b[1m1s\u001b[0m 783us/step - accuracy: 0.8159 - loss: 0.0604 - val_accuracy: 0.8077 - val_loss: 0.0632\n",
      "215/215 - 0s - 496us/step - accuracy: 0.8106 - loss: 0.0635\n"
     ]
    }
   ],
   "source": [
    "updated_charity_dataframe['INCOME_AMT'], optimal_bins_dictionary['INCOME_AMT'] \\\n",
    "    = deep_learningx.return_optimal_binning_value \\\n",
    "        (updated_charity_dataframe, 'INCOME_AMT', 'OTHER',\n",
    "         optimal_bins_dictionary['ORGANIZATION']['accuracy'])\n",
    "\n",
    "logx.log_write_object \\\n",
    "    (updated_charity_dataframe['INCOME_AMT'].value_counts().sort_values(ascending = False))"
   ]
  },
  {
   "cell_type": "markdown",
   "metadata": {
    "id": "vODI-UechYuq"
   },
   "source": [
    "### **ASK_AMT**"
   ]
  },
  {
   "cell_type": "code",
   "execution_count": 33,
   "metadata": {
    "id": "vW7LCY-xhYuq"
   },
   "outputs": [
    {
     "name": "stdout",
     "output_type": "stream",
     "text": [
      "\u001b[1mProcessing: 10/10\n",
      "\u001b[0m\n",
      "\u001b[1mReplacing values...\n",
      "\u001b[0m\n",
      "\u001b[1mSetting dummy values...\n",
      "\u001b[0m\n",
      "\u001b[1mSplitting data into training and testing...\n",
      "\u001b[0m\n",
      "\u001b[1mCreating model...\n",
      "\u001b[0m\n",
      "\u001b[1mCompiling...\n",
      "\u001b[0m\n",
      "\u001b[1mFitting data...\n",
      "\u001b[0m\n",
      "Epoch 1/1000\n",
      "\u001b[1m858/858\u001b[0m \u001b[32m━━━━━━━━━━━━━━━━━━━━\u001b[0m\u001b[37m\u001b[0m \u001b[1m1s\u001b[0m 893us/step - accuracy: 0.6799 - loss: 0.1020 - val_accuracy: 0.7541 - val_loss: 0.0801\n",
      "Epoch 2/1000\n",
      "\u001b[1m858/858\u001b[0m \u001b[32m━━━━━━━━━━━━━━━━━━━━\u001b[0m\u001b[37m\u001b[0m \u001b[1m1s\u001b[0m 757us/step - accuracy: 0.7534 - loss: 0.0794 - val_accuracy: 0.7854 - val_loss: 0.0717\n",
      "Epoch 3/1000\n",
      "\u001b[1m858/858\u001b[0m \u001b[32m━━━━━━━━━━━━━━━━━━━━\u001b[0m\u001b[37m\u001b[0m \u001b[1m1s\u001b[0m 761us/step - accuracy: 0.7867 - loss: 0.0713 - val_accuracy: 0.7915 - val_loss: 0.0694\n",
      "Epoch 4/1000\n",
      "\u001b[1m858/858\u001b[0m \u001b[32m━━━━━━━━━━━━━━━━━━━━\u001b[0m\u001b[37m\u001b[0m \u001b[1m1s\u001b[0m 763us/step - accuracy: 0.7917 - loss: 0.0693 - val_accuracy: 0.7940 - val_loss: 0.0669\n",
      "Epoch 5/1000\n",
      "\u001b[1m858/858\u001b[0m \u001b[32m━━━━━━━━━━━━━━━━━━━━\u001b[0m\u001b[37m\u001b[0m \u001b[1m1s\u001b[0m 762us/step - accuracy: 0.7983 - loss: 0.0667 - val_accuracy: 0.7968 - val_loss: 0.0660\n",
      "Epoch 6/1000\n",
      "\u001b[1m858/858\u001b[0m \u001b[32m━━━━━━━━━━━━━━━━━━━━\u001b[0m\u001b[37m\u001b[0m \u001b[1m1s\u001b[0m 764us/step - accuracy: 0.7956 - loss: 0.0667 - val_accuracy: 0.7996 - val_loss: 0.0657\n",
      "Epoch 7/1000\n",
      "\u001b[1m858/858\u001b[0m \u001b[32m━━━━━━━━━━━━━━━━━━━━\u001b[0m\u001b[37m\u001b[0m \u001b[1m1s\u001b[0m 763us/step - accuracy: 0.8020 - loss: 0.0652 - val_accuracy: 0.8042 - val_loss: 0.0648\n",
      "Epoch 8/1000\n",
      "\u001b[1m858/858\u001b[0m \u001b[32m━━━━━━━━━━━━━━━━━━━━\u001b[0m\u001b[37m\u001b[0m \u001b[1m1s\u001b[0m 762us/step - accuracy: 0.8025 - loss: 0.0649 - val_accuracy: 0.8048 - val_loss: 0.0644\n",
      "Epoch 9/1000\n",
      "\u001b[1m858/858\u001b[0m \u001b[32m━━━━━━━━━━━━━━━━━━━━\u001b[0m\u001b[37m\u001b[0m \u001b[1m1s\u001b[0m 763us/step - accuracy: 0.8055 - loss: 0.0638 - val_accuracy: 0.8085 - val_loss: 0.0642\n",
      "Epoch 10/1000\n",
      "\u001b[1m858/858\u001b[0m \u001b[32m━━━━━━━━━━━━━━━━━━━━\u001b[0m\u001b[37m\u001b[0m \u001b[1m1s\u001b[0m 756us/step - accuracy: 0.8054 - loss: 0.0636 - val_accuracy: 0.8051 - val_loss: 0.0642\n",
      "Epoch 11/1000\n",
      "\u001b[1m858/858\u001b[0m \u001b[32m━━━━━━━━━━━━━━━━━━━━\u001b[0m\u001b[37m\u001b[0m \u001b[1m1s\u001b[0m 756us/step - accuracy: 0.8069 - loss: 0.0633 - val_accuracy: 0.8052 - val_loss: 0.0639\n",
      "Epoch 12/1000\n",
      "\u001b[1m858/858\u001b[0m \u001b[32m━━━━━━━━━━━━━━━━━━━━\u001b[0m\u001b[37m\u001b[0m \u001b[1m1s\u001b[0m 756us/step - accuracy: 0.8106 - loss: 0.0623 - val_accuracy: 0.8079 - val_loss: 0.0639\n",
      "Epoch 13/1000\n",
      "\u001b[1m858/858\u001b[0m \u001b[32m━━━━━━━━━━━━━━━━━━━━\u001b[0m\u001b[37m\u001b[0m \u001b[1m1s\u001b[0m 756us/step - accuracy: 0.8093 - loss: 0.0628 - val_accuracy: 0.8060 - val_loss: 0.0640\n",
      "Epoch 14/1000\n",
      "\u001b[1m858/858\u001b[0m \u001b[32m━━━━━━━━━━━━━━━━━━━━\u001b[0m\u001b[37m\u001b[0m \u001b[1m1s\u001b[0m 756us/step - accuracy: 0.8100 - loss: 0.0631 - val_accuracy: 0.8074 - val_loss: 0.0636\n",
      "Epoch 15/1000\n",
      "\u001b[1m858/858\u001b[0m \u001b[32m━━━━━━━━━━━━━━━━━━━━\u001b[0m\u001b[37m\u001b[0m \u001b[1m1s\u001b[0m 757us/step - accuracy: 0.8089 - loss: 0.0622 - val_accuracy: 0.8082 - val_loss: 0.0636\n",
      "Epoch 16/1000\n",
      "\u001b[1m858/858\u001b[0m \u001b[32m━━━━━━━━━━━━━━━━━━━━\u001b[0m\u001b[37m\u001b[0m \u001b[1m1s\u001b[0m 756us/step - accuracy: 0.8136 - loss: 0.0617 - val_accuracy: 0.8067 - val_loss: 0.0637\n",
      "Epoch 17/1000\n",
      "\u001b[1m858/858\u001b[0m \u001b[32m━━━━━━━━━━━━━━━━━━━━\u001b[0m\u001b[37m\u001b[0m \u001b[1m1s\u001b[0m 756us/step - accuracy: 0.8120 - loss: 0.0621 - val_accuracy: 0.8069 - val_loss: 0.0635\n",
      "Epoch 18/1000\n",
      "\u001b[1m858/858\u001b[0m \u001b[32m━━━━━━━━━━━━━━━━━━━━\u001b[0m\u001b[37m\u001b[0m \u001b[1m1s\u001b[0m 764us/step - accuracy: 0.8074 - loss: 0.0628 - val_accuracy: 0.8093 - val_loss: 0.0635\n",
      "Epoch 19/1000\n",
      "\u001b[1m858/858\u001b[0m \u001b[32m━━━━━━━━━━━━━━━━━━━━\u001b[0m\u001b[37m\u001b[0m \u001b[1m1s\u001b[0m 778us/step - accuracy: 0.8068 - loss: 0.0626 - val_accuracy: 0.8087 - val_loss: 0.0633\n",
      "Epoch 20/1000\n",
      "\u001b[1m858/858\u001b[0m \u001b[32m━━━━━━━━━━━━━━━━━━━━\u001b[0m\u001b[37m\u001b[0m \u001b[1m1s\u001b[0m 770us/step - accuracy: 0.8086 - loss: 0.0631 - val_accuracy: 0.8023 - val_loss: 0.0640\n",
      "Epoch 21/1000\n",
      "\u001b[1m858/858\u001b[0m \u001b[32m━━━━━━━━━━━━━━━━━━━━\u001b[0m\u001b[37m\u001b[0m \u001b[1m1s\u001b[0m 857us/step - accuracy: 0.8125 - loss: 0.0614 - val_accuracy: 0.8086 - val_loss: 0.0633\n",
      "Epoch 22/1000\n",
      "\u001b[1m858/858\u001b[0m \u001b[32m━━━━━━━━━━━━━━━━━━━━\u001b[0m\u001b[37m\u001b[0m \u001b[1m1s\u001b[0m 776us/step - accuracy: 0.8127 - loss: 0.0612 - val_accuracy: 0.8048 - val_loss: 0.0634\n",
      "Epoch 23/1000\n",
      "\u001b[1m858/858\u001b[0m \u001b[32m━━━━━━━━━━━━━━━━━━━━\u001b[0m\u001b[37m\u001b[0m \u001b[1m1s\u001b[0m 772us/step - accuracy: 0.8100 - loss: 0.0624 - val_accuracy: 0.8098 - val_loss: 0.0633\n",
      "Epoch 24/1000\n",
      "\u001b[1m858/858\u001b[0m \u001b[32m━━━━━━━━━━━━━━━━━━━━\u001b[0m\u001b[37m\u001b[0m \u001b[1m1s\u001b[0m 766us/step - accuracy: 0.8083 - loss: 0.0626 - val_accuracy: 0.8071 - val_loss: 0.0633\n",
      "Epoch 25/1000\n",
      "\u001b[1m858/858\u001b[0m \u001b[32m━━━━━━━━━━━━━━━━━━━━\u001b[0m\u001b[37m\u001b[0m \u001b[1m1s\u001b[0m 770us/step - accuracy: 0.8119 - loss: 0.0615 - val_accuracy: 0.8106 - val_loss: 0.0633\n",
      "Epoch 26/1000\n",
      "\u001b[1m858/858\u001b[0m \u001b[32m━━━━━━━━━━━━━━━━━━━━\u001b[0m\u001b[37m\u001b[0m \u001b[1m1s\u001b[0m 868us/step - accuracy: 0.8082 - loss: 0.0624 - val_accuracy: 0.8121 - val_loss: 0.0633\n",
      "Epoch 27/1000\n",
      "\u001b[1m858/858\u001b[0m \u001b[32m━━━━━━━━━━━━━━━━━━━━\u001b[0m\u001b[37m\u001b[0m \u001b[1m1s\u001b[0m 783us/step - accuracy: 0.8109 - loss: 0.0618 - val_accuracy: 0.8085 - val_loss: 0.0635\n",
      "Epoch 28/1000\n",
      "\u001b[1m858/858\u001b[0m \u001b[32m━━━━━━━━━━━━━━━━━━━━\u001b[0m\u001b[37m\u001b[0m \u001b[1m1s\u001b[0m 766us/step - accuracy: 0.8136 - loss: 0.0613 - val_accuracy: 0.8052 - val_loss: 0.0634\n",
      "Epoch 29/1000\n",
      "\u001b[1m858/858\u001b[0m \u001b[32m━━━━━━━━━━━━━━━━━━━━\u001b[0m\u001b[37m\u001b[0m \u001b[1m1s\u001b[0m 762us/step - accuracy: 0.8150 - loss: 0.0608 - val_accuracy: 0.8029 - val_loss: 0.0641\n",
      "Epoch 30/1000\n",
      "\u001b[1m858/858\u001b[0m \u001b[32m━━━━━━━━━━━━━━━━━━━━\u001b[0m\u001b[37m\u001b[0m \u001b[1m1s\u001b[0m 776us/step - accuracy: 0.8132 - loss: 0.0612 - val_accuracy: 0.8087 - val_loss: 0.0631\n",
      "Epoch 31/1000\n",
      "\u001b[1m858/858\u001b[0m \u001b[32m━━━━━━━━━━━━━━━━━━━━\u001b[0m\u001b[37m\u001b[0m \u001b[1m1s\u001b[0m 766us/step - accuracy: 0.8134 - loss: 0.0614 - val_accuracy: 0.8051 - val_loss: 0.0636\n",
      "Epoch 32/1000\n",
      "\u001b[1m858/858\u001b[0m \u001b[32m━━━━━━━━━━━━━━━━━━━━\u001b[0m\u001b[37m\u001b[0m \u001b[1m1s\u001b[0m 766us/step - accuracy: 0.8147 - loss: 0.0608 - val_accuracy: 0.8080 - val_loss: 0.0634\n",
      "Epoch 33/1000\n",
      "\u001b[1m858/858\u001b[0m \u001b[32m━━━━━━━━━━━━━━━━━━━━\u001b[0m\u001b[37m\u001b[0m \u001b[1m1s\u001b[0m 832us/step - accuracy: 0.8173 - loss: 0.0607 - val_accuracy: 0.8103 - val_loss: 0.0632\n",
      "Epoch 34/1000\n",
      "\u001b[1m858/858\u001b[0m \u001b[32m━━━━━━━━━━━━━━━━━━━━\u001b[0m\u001b[37m\u001b[0m \u001b[1m1s\u001b[0m 763us/step - accuracy: 0.8143 - loss: 0.0611 - val_accuracy: 0.8074 - val_loss: 0.0632\n",
      "Epoch 35/1000\n",
      "\u001b[1m858/858\u001b[0m \u001b[32m━━━━━━━━━━━━━━━━━━━━\u001b[0m\u001b[37m\u001b[0m \u001b[1m1s\u001b[0m 761us/step - accuracy: 0.8179 - loss: 0.0602 - val_accuracy: 0.8073 - val_loss: 0.0637\n",
      "Epoch 36/1000\n",
      "\u001b[1m858/858\u001b[0m \u001b[32m━━━━━━━━━━━━━━━━━━━━\u001b[0m\u001b[37m\u001b[0m \u001b[1m1s\u001b[0m 763us/step - accuracy: 0.8122 - loss: 0.0615 - val_accuracy: 0.8079 - val_loss: 0.0633\n",
      "Epoch 37/1000\n",
      "\u001b[1m858/858\u001b[0m \u001b[32m━━━━━━━━━━━━━━━━━━━━\u001b[0m\u001b[37m\u001b[0m \u001b[1m1s\u001b[0m 771us/step - accuracy: 0.8147 - loss: 0.0609 - val_accuracy: 0.8069 - val_loss: 0.0634\n",
      "Epoch 38/1000\n",
      "\u001b[1m858/858\u001b[0m \u001b[32m━━━━━━━━━━━━━━━━━━━━\u001b[0m\u001b[37m\u001b[0m \u001b[1m1s\u001b[0m 781us/step - accuracy: 0.8154 - loss: 0.0605 - val_accuracy: 0.8085 - val_loss: 0.0634\n",
      "Epoch 39/1000\n",
      "\u001b[1m858/858\u001b[0m \u001b[32m━━━━━━━━━━━━━━━━━━━━\u001b[0m\u001b[37m\u001b[0m \u001b[1m1s\u001b[0m 804us/step - accuracy: 0.8131 - loss: 0.0610 - val_accuracy: 0.8069 - val_loss: 0.0641\n",
      "Epoch 40/1000\n",
      "\u001b[1m858/858\u001b[0m \u001b[32m━━━━━━━━━━━━━━━━━━━━\u001b[0m\u001b[37m\u001b[0m \u001b[1m1s\u001b[0m 847us/step - accuracy: 0.8106 - loss: 0.0614 - val_accuracy: 0.8093 - val_loss: 0.0634\n",
      "Epoch 41/1000\n",
      "\u001b[1m858/858\u001b[0m \u001b[32m━━━━━━━━━━━━━━━━━━━━\u001b[0m\u001b[37m\u001b[0m \u001b[1m1s\u001b[0m 760us/step - accuracy: 0.8127 - loss: 0.0615 - val_accuracy: 0.8089 - val_loss: 0.0630\n",
      "Epoch 42/1000\n",
      "\u001b[1m858/858\u001b[0m \u001b[32m━━━━━━━━━━━━━━━━━━━━\u001b[0m\u001b[37m\u001b[0m \u001b[1m1s\u001b[0m 770us/step - accuracy: 0.8131 - loss: 0.0609 - val_accuracy: 0.8092 - val_loss: 0.0631\n",
      "Epoch 43/1000\n",
      "\u001b[1m858/858\u001b[0m \u001b[32m━━━━━━━━━━━━━━━━━━━━\u001b[0m\u001b[37m\u001b[0m \u001b[1m1s\u001b[0m 771us/step - accuracy: 0.8156 - loss: 0.0608 - val_accuracy: 0.8093 - val_loss: 0.0635\n",
      "Epoch 44/1000\n",
      "\u001b[1m858/858\u001b[0m \u001b[32m━━━━━━━━━━━━━━━━━━━━\u001b[0m\u001b[37m\u001b[0m \u001b[1m1s\u001b[0m 782us/step - accuracy: 0.8153 - loss: 0.0611 - val_accuracy: 0.8089 - val_loss: 0.0633\n",
      "Epoch 45/1000\n",
      "\u001b[1m858/858\u001b[0m \u001b[32m━━━━━━━━━━━━━━━━━━━━\u001b[0m\u001b[37m\u001b[0m \u001b[1m1s\u001b[0m 757us/step - accuracy: 0.8165 - loss: 0.0603 - val_accuracy: 0.8079 - val_loss: 0.0634\n",
      "Epoch 46/1000\n",
      "\u001b[1m858/858\u001b[0m \u001b[32m━━━━━━━━━━━━━━━━━━━━\u001b[0m\u001b[37m\u001b[0m \u001b[1m1s\u001b[0m 762us/step - accuracy: 0.8125 - loss: 0.0609 - val_accuracy: 0.8087 - val_loss: 0.0632\n",
      "Epoch 47/1000\n",
      "\u001b[1m858/858\u001b[0m \u001b[32m━━━━━━━━━━━━━━━━━━━━\u001b[0m\u001b[37m\u001b[0m \u001b[1m1s\u001b[0m 765us/step - accuracy: 0.8165 - loss: 0.0608 - val_accuracy: 0.8082 - val_loss: 0.0632\n",
      "Epoch 48/1000\n",
      "\u001b[1m858/858\u001b[0m \u001b[32m━━━━━━━━━━━━━━━━━━━━\u001b[0m\u001b[37m\u001b[0m \u001b[1m1s\u001b[0m 853us/step - accuracy: 0.8174 - loss: 0.0606 - val_accuracy: 0.8052 - val_loss: 0.0637\n",
      "Epoch 49/1000\n",
      "\u001b[1m858/858\u001b[0m \u001b[32m━━━━━━━━━━━━━━━━━━━━\u001b[0m\u001b[37m\u001b[0m \u001b[1m1s\u001b[0m 775us/step - accuracy: 0.8144 - loss: 0.0612 - val_accuracy: 0.8076 - val_loss: 0.0632\n",
      "Epoch 50/1000\n",
      "\u001b[1m858/858\u001b[0m \u001b[32m━━━━━━━━━━━━━━━━━━━━\u001b[0m\u001b[37m\u001b[0m \u001b[1m1s\u001b[0m 816us/step - accuracy: 0.8182 - loss: 0.0595 - val_accuracy: 0.8066 - val_loss: 0.0637\n",
      "Epoch 51/1000\n",
      "\u001b[1m858/858\u001b[0m \u001b[32m━━━━━━━━━━━━━━━━━━━━\u001b[0m\u001b[37m\u001b[0m \u001b[1m1s\u001b[0m 782us/step - accuracy: 0.8155 - loss: 0.0606 - val_accuracy: 0.8073 - val_loss: 0.0633\n",
      "Epoch 52/1000\n",
      "\u001b[1m858/858\u001b[0m \u001b[32m━━━━━━━━━━━━━━━━━━━━\u001b[0m\u001b[37m\u001b[0m \u001b[1m1s\u001b[0m 767us/step - accuracy: 0.8131 - loss: 0.0608 - val_accuracy: 0.8087 - val_loss: 0.0634\n",
      "Epoch 53/1000\n",
      "\u001b[1m858/858\u001b[0m \u001b[32m━━━━━━━━━━━━━━━━━━━━\u001b[0m\u001b[37m\u001b[0m \u001b[1m1s\u001b[0m 773us/step - accuracy: 0.8190 - loss: 0.0595 - val_accuracy: 0.8079 - val_loss: 0.0631\n",
      "Epoch 54/1000\n",
      "\u001b[1m858/858\u001b[0m \u001b[32m━━━━━━━━━━━━━━━━━━━━\u001b[0m\u001b[37m\u001b[0m \u001b[1m1s\u001b[0m 854us/step - accuracy: 0.8154 - loss: 0.0598 - val_accuracy: 0.8058 - val_loss: 0.0637\n",
      "Epoch 55/1000\n",
      "\u001b[1m858/858\u001b[0m \u001b[32m━━━━━━━━━━━━━━━━━━━━\u001b[0m\u001b[37m\u001b[0m \u001b[1m1s\u001b[0m 766us/step - accuracy: 0.8106 - loss: 0.0618 - val_accuracy: 0.8047 - val_loss: 0.0637\n",
      "Epoch 56/1000\n",
      "\u001b[1m858/858\u001b[0m \u001b[32m━━━━━━━━━━━━━━━━━━━━\u001b[0m\u001b[37m\u001b[0m \u001b[1m1s\u001b[0m 764us/step - accuracy: 0.8162 - loss: 0.0608 - val_accuracy: 0.8063 - val_loss: 0.0635\n",
      "Epoch 57/1000\n",
      "\u001b[1m858/858\u001b[0m \u001b[32m━━━━━━━━━━━━━━━━━━━━\u001b[0m\u001b[37m\u001b[0m \u001b[1m1s\u001b[0m 755us/step - accuracy: 0.8187 - loss: 0.0594 - val_accuracy: 0.8079 - val_loss: 0.0635\n",
      "Epoch 58/1000\n",
      "\u001b[1m858/858\u001b[0m \u001b[32m━━━━━━━━━━━━━━━━━━━━\u001b[0m\u001b[37m\u001b[0m \u001b[1m1s\u001b[0m 756us/step - accuracy: 0.8146 - loss: 0.0612 - val_accuracy: 0.8050 - val_loss: 0.0638\n",
      "Epoch 59/1000\n",
      "\u001b[1m858/858\u001b[0m \u001b[32m━━━━━━━━━━━━━━━━━━━━\u001b[0m\u001b[37m\u001b[0m \u001b[1m1s\u001b[0m 754us/step - accuracy: 0.8184 - loss: 0.0595 - val_accuracy: 0.8015 - val_loss: 0.0638\n",
      "Epoch 60/1000\n",
      "\u001b[1m858/858\u001b[0m \u001b[32m━━━━━━━━━━━━━━━━━━━━\u001b[0m\u001b[37m\u001b[0m \u001b[1m1s\u001b[0m 830us/step - accuracy: 0.8216 - loss: 0.0597 - val_accuracy: 0.8034 - val_loss: 0.0636\n",
      "Epoch 61/1000\n",
      "\u001b[1m858/858\u001b[0m \u001b[32m━━━━━━━━━━━━━━━━━━━━\u001b[0m\u001b[37m\u001b[0m \u001b[1m1s\u001b[0m 756us/step - accuracy: 0.8190 - loss: 0.0595 - val_accuracy: 0.8066 - val_loss: 0.0634\n",
      "Epoch 62/1000\n",
      "\u001b[1m858/858\u001b[0m \u001b[32m━━━━━━━━━━━━━━━━━━━━\u001b[0m\u001b[37m\u001b[0m \u001b[1m1s\u001b[0m 766us/step - accuracy: 0.8198 - loss: 0.0593 - val_accuracy: 0.8000 - val_loss: 0.0643\n",
      "Epoch 63/1000\n",
      "\u001b[1m858/858\u001b[0m \u001b[32m━━━━━━━━━━━━━━━━━━━━\u001b[0m\u001b[37m\u001b[0m \u001b[1m1s\u001b[0m 760us/step - accuracy: 0.8146 - loss: 0.0609 - val_accuracy: 0.8055 - val_loss: 0.0637\n",
      "Epoch 64/1000\n",
      "\u001b[1m858/858\u001b[0m \u001b[32m━━━━━━━━━━━━━━━━━━━━\u001b[0m\u001b[37m\u001b[0m \u001b[1m1s\u001b[0m 755us/step - accuracy: 0.8184 - loss: 0.0595 - val_accuracy: 0.8099 - val_loss: 0.0634\n",
      "Epoch 65/1000\n",
      "\u001b[1m858/858\u001b[0m \u001b[32m━━━━━━━━━━━━━━━━━━━━\u001b[0m\u001b[37m\u001b[0m \u001b[1m1s\u001b[0m 760us/step - accuracy: 0.8194 - loss: 0.0596 - val_accuracy: 0.8007 - val_loss: 0.0642\n",
      "Epoch 66/1000\n",
      "\u001b[1m858/858\u001b[0m \u001b[32m━━━━━━━━━━━━━━━━━━━━\u001b[0m\u001b[37m\u001b[0m \u001b[1m1s\u001b[0m 853us/step - accuracy: 0.8147 - loss: 0.0606 - val_accuracy: 0.8035 - val_loss: 0.0635\n",
      "Epoch 67/1000\n",
      "\u001b[1m858/858\u001b[0m \u001b[32m━━━━━━━━━━━━━━━━━━━━\u001b[0m\u001b[37m\u001b[0m \u001b[1m1s\u001b[0m 768us/step - accuracy: 0.8192 - loss: 0.0591 - val_accuracy: 0.8066 - val_loss: 0.0635\n",
      "Epoch 68/1000\n",
      "\u001b[1m858/858\u001b[0m \u001b[32m━━━━━━━━━━━━━━━━━━━━\u001b[0m\u001b[37m\u001b[0m \u001b[1m1s\u001b[0m 770us/step - accuracy: 0.8152 - loss: 0.0608 - val_accuracy: 0.8067 - val_loss: 0.0637\n",
      "215/215 - 0s - 495us/step - accuracy: 0.8121 - loss: 0.0633\n"
     ]
    }
   ],
   "source": [
    "updated_charity_dataframe['ASK_AMT'], optimal_bins_dictionary['ASK_AMT'] \\\n",
    "    = deep_learningx.return_optimal_binning_value \\\n",
    "        (updated_charity_dataframe, 'ASK_AMT', 'OTHER',\n",
    "         optimal_bins_dictionary['INCOME_AMT']['accuracy'])\n",
    "\n",
    "logx.log_write_object \\\n",
    "    (updated_charity_dataframe['ASK_AMT'].value_counts().sort_values(ascending = False))"
   ]
  },
  {
   "cell_type": "markdown",
   "metadata": {
    "id": "VSHWagG7hYuq"
   },
   "source": [
    "## **3.3: Display Optimal Bins Dictionary**"
   ]
  },
  {
   "cell_type": "code",
   "execution_count": 34,
   "metadata": {
    "id": "ILJP9Ix6hYuq"
   },
   "outputs": [
    {
     "name": "stdout",
     "output_type": "stream",
     "text": [
      "\u001b[1mNAME:  {'bin': 1, 'accuracy': 0.8097667694091797}\n",
      "\u001b[0m\n",
      "\u001b[1mAPPLICATION_TYPE:  {'bin': 1216, 'accuracy': 0.8119533658027649}\n",
      "\u001b[0m\n",
      "\u001b[1mAFFILIATION:  {'bin': 33, 'accuracy': 0.812828004360199}\n",
      "\u001b[0m\n",
      "\u001b[1mCLASSIFICATION:  {'bin': 116, 'accuracy': 0.8135568499565125}\n",
      "\u001b[0m\n",
      "\u001b[1mUSE_CASE:  {'bin': 3, 'accuracy': 0.8144314885139465}\n",
      "\u001b[0m\n",
      "\u001b[1mORGANIZATION:  {'bin': 0, 'accuracy': 0.8122448921203613}\n",
      "\u001b[0m\n",
      "\u001b[1mINCOME_AMT:  {'bin': 955, 'accuracy': 0.8126822113990784}\n",
      "\u001b[0m\n",
      "\u001b[1mASK_AMT:  {'bin': 940, 'accuracy': 0.812828004360199}\n",
      "\u001b[0m\n"
     ]
    }
   ],
   "source": [
    "for ele in optimal_bins_dictionary:\n",
    "\n",
    "    logx.print_and_log_text('\\033[1m' + f\"{ele}:  {optimal_bins_dictionary[ele]}\\n\" + '\\033[0m')"
   ]
  },
  {
   "cell_type": "markdown",
   "metadata": {
    "id": "aSe4kzkLhYuq"
   },
   "source": [
    "## **3.3: Export Optimal Bins Dictionary**"
   ]
  },
  {
   "cell_type": "code",
   "execution_count": 35,
   "metadata": {
    "id": "0Rb0d6vZhYur"
   },
   "outputs": [],
   "source": [
    "pickle.dump \\\n",
    "    (optimal_bins_dictionary,\n",
    "     open(charity_constants.BINNING_PARAMETERS_FILE_PATH, 'wb'))"
   ]
  },
  {
   "cell_type": "code",
   "execution_count": 36,
   "metadata": {
    "id": "CPZyFPKIihJc"
   },
   "outputs": [],
   "source": [
    "pickle.dump \\\n",
    "    (updated_charity_dataframe,\n",
    "     open(charity_constants.BINNED_CHARITY_DATA_FILE_PATH, 'wb'))"
   ]
  },
  {
   "cell_type": "code",
   "execution_count": 37,
   "metadata": {
    "id": "l35perhfhYur"
   },
   "outputs": [],
   "source": [
    "# logx.end_program()"
   ]
  },
  {
   "cell_type": "code",
   "execution_count": null,
   "metadata": {
    "id": "vPwgwRsEhYur"
   },
   "outputs": [],
   "source": []
  }
 ],
 "metadata": {
  "colab": {
   "provenance": []
  },
  "kernelspec": {
   "display_name": "Python 3 (ipykernel)",
   "language": "python",
   "name": "python3"
  },
  "language_info": {
   "codemirror_mode": {
    "name": "ipython",
    "version": 3
   },
   "file_extension": ".py",
   "mimetype": "text/x-python",
   "name": "python",
   "nbconvert_exporter": "python",
   "pygments_lexer": "ipython3",
   "version": "3.11.7"
  }
 },
 "nbformat": 4,
 "nbformat_minor": 4
}
