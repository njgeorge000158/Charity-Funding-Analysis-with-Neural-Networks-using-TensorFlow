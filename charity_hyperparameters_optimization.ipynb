{
 "cells": [
  {
   "cell_type": "code",
   "execution_count": null,
   "metadata": {
    "colab": {
     "base_uri": "https://localhost:8080/",
     "height": 1000
    },
    "executionInfo": {
     "elapsed": 57679,
     "status": "ok",
     "timestamp": 1712458563683,
     "user": {
      "displayName": "Nicholas George",
      "userId": "08678589358873967227"
     },
     "user_tz": 420
    },
    "id": "unz_5hkYOUk1",
    "outputId": "86faa442-8f49-4aef-9e1c-1808cda8f941"
   },
   "outputs": [],
   "source": [
    "#*******************************************************************************************\n",
    " #\n",
    " #  File Name:  charity_hyperparameters_optimization.ipynb\n",
    " #\n",
    " #  File Description:\n",
    " #      This interactive Python notebook, charity_hyperparameters_optimization.ipynb,\n",
    " #      reads a csv file, charity_data.csv, in the folder, resources, and uses Python and\n",
    " #      neural networks methods to determine the optimum neural network model parameters.\n",
    " #\n",
    " #\n",
    " #  Date            Description                             Programmer\n",
    " #  ----------      ------------------------------------    ------------------\n",
    " #  12/02/2023      Initial Development                     Nicholas J. George\n",
    " #\n",
    " #******************************************************************************************/\n",
    "\n",
    "import deep_learningx\n",
    "import pandasx\n",
    "\n",
    "import logx\n",
    "logx.create_directory(logx.MODELS_DIRECTORY_PATH)\n",
    "\n",
    "import charity_constants\n",
    "\n",
    "import datetime\n",
    "import io\n",
    "import json\n",
    "import time\n",
    "\n",
    "import pandas as pd\n",
    "\n",
    "from sklearn.model_selection import train_test_split\n",
    "from sklearn.preprocessing import StandardScaler\n",
    "\n",
    "from silence_tensorflow import silence_tensorflow\n",
    "silence_tensorflow()\n",
    "\n",
    "import tensorflow as tf"
   ]
  },
  {
   "cell_type": "code",
   "execution_count": null,
   "metadata": {},
   "outputs": [],
   "source": [
    "CONSTANT_LOCAL_FILE_NAME = 'charity_hyperparameters_optimization.ipynb'\n",
    "\n",
    "\n",
    "logx.set_log_mode(False)\n",
    "\n",
    "logx.set_image_mode(False)\n",
    "\n",
    "\n",
    "logx.begin_program('charity_hyperparameters_optimization')"
   ]
  },
  {
   "cell_type": "code",
   "execution_count": null,
   "metadata": {},
   "outputs": [],
   "source": [
    "BINNING_DICTIONARY \\\n",
    "    = {'NAME': 1,\n",
    "       'APPLICATION_TYPE': 156,\n",
    "       'AFFILIATION': 33,\n",
    "       'CLASSIFICATION': 6074,\n",
    "       'USE_CASE': 146,\n",
    "       'ORGANIZATION': 0,\n",
    "       'INCOME_AMT': 728,\n",
    "       'ASK_AMT': 53}"
   ]
  },
  {
   "cell_type": "markdown",
   "metadata": {
    "id": "jFOTj-mj4rAx"
   },
   "source": [
    "# <br> **Section 1: Extraction**"
   ]
  },
  {
   "cell_type": "markdown",
   "metadata": {
    "id": "e_VQsSbG4xGU"
   },
   "source": [
    "## **1.1: Import and Read Charity Data**"
   ]
  },
  {
   "cell_type": "code",
   "execution_count": null,
   "metadata": {
    "executionInfo": {
     "elapsed": 853,
     "status": "ok",
     "timestamp": 1712458564535,
     "user": {
      "displayName": "Nicholas George",
      "userId": "08678589358873967227"
     },
     "user_tz": 420
    },
    "id": "EfWehOd14yW8"
   },
   "outputs": [],
   "source": [
    "data_type_dictionary \\\n",
    "    = {'EIN': str,\n",
    "       'NAME':\tstr,\n",
    "       'APPLICATION_TYPE': str,\n",
    "       'AFFILIATION': str,\n",
    "       'CLASSIFICATION': str,\n",
    "       'USE_CASE': str,\n",
    "       'ORGANIZATION': str,\n",
    "       'STATUS': int,\n",
    "       'INCOME_AMT': str,\n",
    "       'SPECIAL_CONSIDERATIONS': str,\n",
    "       'ASK_AMT': int,\n",
    "       'IS_SUCCESSFUL': int}\n",
    "\n",
    "charity_dataframe \\\n",
    "    = pd.read_csv(charity_constants.INPUT_FILE_PATH, dtype = data_type_dictionary)\n",
    "\n",
    "logx.log_write_object(charity_dataframe)"
   ]
  },
  {
   "cell_type": "markdown",
   "metadata": {
    "id": "Jk5B4kEX6Cbu"
   },
   "source": [
    "## **1.2: Display Charity Data**"
   ]
  },
  {
   "cell_type": "code",
   "execution_count": null,
   "metadata": {
    "colab": {
     "base_uri": "https://localhost:8080/",
     "height": 904
    },
    "executionInfo": {
     "elapsed": 6,
     "status": "ok",
     "timestamp": 1712458564535,
     "user": {
      "displayName": "Nicholas George",
      "userId": "08678589358873967227"
     },
     "user_tz": 420
    },
    "id": "byLVg6fh6IAT",
    "outputId": "9a717e60-2ec6-4978-fc67-298e2ffd6265"
   },
   "outputs": [],
   "source": [
    "pandasx.return_formatted_table(charity_dataframe, 'Table 1.2: Charity Data Table')"
   ]
  },
  {
   "cell_type": "markdown",
   "metadata": {
    "id": "Ef4MWVNV96R4"
   },
   "source": [
    "# <br> **Section 2: Preprocessing**"
   ]
  },
  {
   "cell_type": "markdown",
   "metadata": {},
   "source": [
    "## **2.1: Change ASK_AMT Integers to Categories**"
   ]
  },
  {
   "cell_type": "code",
   "execution_count": null,
   "metadata": {},
   "outputs": [],
   "source": [
    "updated_charity_dataframe = charity_dataframe.copy()\n",
    "\n",
    "updated_charity_dataframe = updated_charity_dataframe.rename(columns = {'ASK_AMT': 'TEMP'})\n",
    "\n",
    "\n",
    "ask_amt_bins_integer_list \\\n",
    "    = [0, 9999, 24999, 99999, 499999, 1000000, 4999999, 9999999, 49999999, 99999999]\n",
    "\n",
    "ask_amt_labels_string_list \\\n",
    "    = ['0-9999', '10000-24999', '25000-99999', '100000-499999', '500000-999999', '1M-5M', '5M-10M', '10M-50M', '50M+']\n",
    "\n",
    "\n",
    "updated_charity_dataframe['ASK_AMT'] \\\n",
    "    = pd.cut \\\n",
    "        (x = updated_charity_dataframe['TEMP'],\n",
    "         bins = ask_amt_bins_integer_list,\n",
    "         labels = ask_amt_labels_string_list)\n",
    "\n",
    "updated_charity_dataframe \\\n",
    "    = updated_charity_dataframe \\\n",
    "        [['EIN', 'NAME', 'APPLICATION_TYPE', 'AFFILIATION', 'CLASSIFICATION', 'USE_CASE',\n",
    "          'ORGANIZATION', 'STATUS', 'INCOME_AMT', 'SPECIAL_CONSIDERATIONS', 'ASK_AMT',\n",
    "          'IS_SUCCESSFUL', 'TEMP']]\n",
    "\n",
    "\n",
    "logx.log_write_object(updated_charity_dataframe['ASK_AMT'])"
   ]
  },
  {
   "cell_type": "markdown",
   "metadata": {
    "id": "TE0qHcG49854"
   },
   "source": [
    "## **2.2: Drop the Non-Beneficial ID Columns**"
   ]
  },
  {
   "cell_type": "code",
   "execution_count": null,
   "metadata": {
    "executionInfo": {
     "elapsed": 5,
     "status": "ok",
     "timestamp": 1712458564535,
     "user": {
      "displayName": "Nicholas George",
      "userId": "08678589358873967227"
     },
     "user_tz": 420
    },
    "id": "nexvyQq5-ARz"
   },
   "outputs": [],
   "source": [
    "drop_columns_string_list = ['EIN', 'STATUS', 'SPECIAL_CONSIDERATIONS', 'TEMP']\n",
    "\n",
    "if updated_charity_dataframe.columns.isin(drop_columns_string_list).any():\n",
    "\n",
    "    updated_charity_dataframe.drop(drop_columns_string_list, axis = 1, inplace = True)\n",
    "    \n",
    "\n",
    "logx.log_write_object(updated_charity_dataframe)"
   ]
  },
  {
   "cell_type": "markdown",
   "metadata": {
    "id": "58201025"
   },
   "source": [
    "## **2.3: Bin Columns**"
   ]
  },
  {
   "cell_type": "markdown",
   "metadata": {},
   "source": [
    "### **NAME**"
   ]
  },
  {
   "cell_type": "code",
   "execution_count": null,
   "metadata": {},
   "outputs": [],
   "source": [
    "updated_charity_dataframe['NAME'] \\\n",
    "    = deep_learningx.bin_series \\\n",
    "        (updated_charity_dataframe['NAME'], BINNING_DICTIONARY['NAME'], 'OTHER')\n",
    "\n",
    "logx.log_write_object \\\n",
    "    (updated_charity_dataframe['NAME'].value_counts().sort_values(ascending = False))"
   ]
  },
  {
   "cell_type": "markdown",
   "metadata": {},
   "source": [
    "### **APPLICATION_TYPE**"
   ]
  },
  {
   "cell_type": "code",
   "execution_count": null,
   "metadata": {},
   "outputs": [],
   "source": [
    "updated_charity_dataframe['APPLICATION_TYPE'] \\\n",
    "    = deep_learningx.bin_series \\\n",
    "        (updated_charity_dataframe['APPLICATION_TYPE'], BINNING_DICTIONARY['APPLICATION_TYPE'], 'T20')\n",
    "\n",
    "logx.log_write_object \\\n",
    "    (updated_charity_dataframe['APPLICATION_TYPE'].value_counts().sort_values(ascending = False))"
   ]
  },
  {
   "cell_type": "markdown",
   "metadata": {},
   "source": [
    "### **AFFILIATION**"
   ]
  },
  {
   "cell_type": "code",
   "execution_count": null,
   "metadata": {},
   "outputs": [],
   "source": [
    "updated_charity_dataframe['AFFILIATION'] \\\n",
    "    = deep_learningx.bin_series \\\n",
    "        (updated_charity_dataframe['AFFILIATION'], BINNING_DICTIONARY['AFFILIATION'], 'OTHER')\n",
    "\n",
    "logx.log_write_object \\\n",
    "    (updated_charity_dataframe['AFFILIATION'].value_counts().sort_values(ascending = False))"
   ]
  },
  {
   "cell_type": "markdown",
   "metadata": {},
   "source": [
    "### **CLASSIFICATION**"
   ]
  },
  {
   "cell_type": "code",
   "execution_count": null,
   "metadata": {},
   "outputs": [],
   "source": [
    "updated_charity_dataframe['CLASSIFICATION'] \\\n",
    "    = deep_learningx.bin_series \\\n",
    "        (updated_charity_dataframe['CLASSIFICATION'], BINNING_DICTIONARY['CLASSIFICATION'], 'C2200')\n",
    "\n",
    "updated_charity_dataframe['CLASSIFICATION'] \\\n",
    "    = updated_charity_dataframe['CLASSIFICATION'].replace('C0', 'C0000')\n",
    "\n",
    "logx.log_write_object \\\n",
    "    (updated_charity_dataframe['CLASSIFICATION'].value_counts().sort_values(ascending = False))"
   ]
  },
  {
   "cell_type": "markdown",
   "metadata": {},
   "source": [
    "### **USE_CASE**"
   ]
  },
  {
   "cell_type": "code",
   "execution_count": null,
   "metadata": {},
   "outputs": [],
   "source": [
    "updated_charity_dataframe['USE_CASE'] \\\n",
    "    = deep_learningx.bin_series \\\n",
    "        (updated_charity_dataframe['USE_CASE'], BINNING_DICTIONARY['USE_CASE'], 'OTHER')\n",
    "\n",
    "logx.log_write_object \\\n",
    "    (updated_charity_dataframe['USE_CASE'].value_counts().sort_values(ascending = False))"
   ]
  },
  {
   "cell_type": "markdown",
   "metadata": {},
   "source": [
    "### **ORGANIZATION**"
   ]
  },
  {
   "cell_type": "code",
   "execution_count": null,
   "metadata": {},
   "outputs": [],
   "source": [
    "updated_charity_dataframe['ORGANIZATION'] \\\n",
    "    = deep_learningx.bin_series \\\n",
    "        (updated_charity_dataframe['ORGANIZATION'], BINNING_DICTIONARY['ORGANIZATION'], 'CORPORATION')\n",
    "\n",
    "logx.log_write_object \\\n",
    "    (updated_charity_dataframe['AFFILIATION'].value_counts().sort_values(ascending = False))"
   ]
  },
  {
   "cell_type": "markdown",
   "metadata": {},
   "source": [
    "### **INCOME_AMT**"
   ]
  },
  {
   "cell_type": "code",
   "execution_count": null,
   "metadata": {},
   "outputs": [],
   "source": [
    "updated_charity_dataframe['INCOME_AMT'] \\\n",
    "    = deep_learningx.bin_series \\\n",
    "        (updated_charity_dataframe['INCOME_AMT'], BINNING_DICTIONARY['INCOME_AMT'], 'OTHER')\n",
    "\n",
    "logx.log_write_object \\\n",
    "    (updated_charity_dataframe['INCOME_AMT'].value_counts().sort_values(ascending = False))"
   ]
  },
  {
   "cell_type": "markdown",
   "metadata": {},
   "source": [
    "### **ASK_AMT**"
   ]
  },
  {
   "cell_type": "code",
   "execution_count": null,
   "metadata": {},
   "outputs": [],
   "source": [
    "updated_charity_dataframe['ASK_AMT'] \\\n",
    "    = deep_learningx.bin_series \\\n",
    "        (updated_charity_dataframe['ASK_AMT'], BINNING_DICTIONARY['ASK_AMT'], 'OTHER')\n",
    "\n",
    "logx.log_write_object \\\n",
    "    (updated_charity_dataframe['ASK_AMT'].value_counts().sort_values(ascending = False))"
   ]
  },
  {
   "cell_type": "markdown",
   "metadata": {},
   "source": [
    "## **2.4: Convert All Features to Uppercase**"
   ]
  },
  {
   "cell_type": "code",
   "execution_count": null,
   "metadata": {},
   "outputs": [],
   "source": [
    "updated_charity_dataframe['NAME'] = updated_charity_dataframe['NAME'].str.upper()\n",
    "\n",
    "updated_charity_dataframe['APPLICATION_TYPE'] = updated_charity_dataframe['APPLICATION_TYPE'].str.upper()\n",
    "\n",
    "updated_charity_dataframe['AFFILIATION'] = updated_charity_dataframe['AFFILIATION'].str.upper()\n",
    "\n",
    "updated_charity_dataframe['CLASSIFICATION'] = updated_charity_dataframe['CLASSIFICATION'].str.upper()\n",
    "\n",
    "updated_charity_dataframe['USE_CASE'] = updated_charity_dataframe['USE_CASE'].str.upper()\n",
    "\n",
    "updated_charity_dataframe['ORGANIZATION'] = updated_charity_dataframe['ORGANIZATION'].str.upper()\n",
    "\n",
    "updated_charity_dataframe['INCOME_AMT'] = updated_charity_dataframe['INCOME_AMT'].str.upper()\n",
    "\n",
    "updated_charity_dataframe['ASK_AMT'] = updated_charity_dataframe['ASK_AMT'].str.upper()\n",
    "\n",
    "logx.log_write_object(updated_charity_dataframe)"
   ]
  },
  {
   "cell_type": "markdown",
   "metadata": {},
   "source": [
    "## **2.5: Display Updated DataFrame**"
   ]
  },
  {
   "cell_type": "code",
   "execution_count": null,
   "metadata": {
    "colab": {
     "base_uri": "https://localhost:8080/",
     "height": 849
    },
    "executionInfo": {
     "elapsed": 4,
     "status": "ok",
     "timestamp": 1712458564535,
     "user": {
      "displayName": "Nicholas George",
      "userId": "08678589358873967227"
     },
     "user_tz": 420
    },
    "id": "oe5_CSiD-OY7",
    "outputId": "1831457c-8a63-4c81-dc16-573ffa148c06"
   },
   "outputs": [],
   "source": [
    "pandasx.return_formatted_table(updated_charity_dataframe, 'Table 2.5: Updated Charity Data Table')"
   ]
  },
  {
   "cell_type": "markdown",
   "metadata": {},
   "source": [
    "# <br> **Section 3: Compile, Train, Evaluate, and Export the Model**"
   ]
  },
  {
   "cell_type": "markdown",
   "metadata": {},
   "source": [
    "## **3.1: Convert and Split Data Set**"
   ]
  },
  {
   "cell_type": "markdown",
   "metadata": {},
   "source": [
    "### **Convert Categorical Data to Numeric with `pd.get_dummies`**"
   ]
  },
  {
   "cell_type": "code",
   "execution_count": null,
   "metadata": {},
   "outputs": [],
   "source": [
    "dummies_dataframe = pd.get_dummies(updated_charity_dataframe)\n",
    "\n",
    "logx.log_write_object(dummies_dataframe)"
   ]
  },
  {
   "cell_type": "markdown",
   "metadata": {},
   "source": [
    "### **Split Data Set into Features and Target Arrays**"
   ]
  },
  {
   "cell_type": "code",
   "execution_count": null,
   "metadata": {},
   "outputs": [],
   "source": [
    "y_nparray = dummies_dataframe['IS_SUCCESSFUL'].values\n",
    "\n",
    "logx.log_write_object(y_nparray)"
   ]
  },
  {
   "cell_type": "code",
   "execution_count": null,
   "metadata": {},
   "outputs": [],
   "source": [
    "x_nparray = dummies_dataframe.drop(['IS_SUCCESSFUL'], axis = 1).values\n",
    "\n",
    "logx.log_write_object(x_nparray)"
   ]
  },
  {
   "cell_type": "markdown",
   "metadata": {},
   "source": [
    "### **Split X-Y Arrays into Training and Testing Arrays**"
   ]
  },
  {
   "cell_type": "code",
   "execution_count": null,
   "metadata": {},
   "outputs": [],
   "source": [
    "x_train_nparray, x_test_nparray, y_train_nparray, y_test_nparray \\\n",
    "    = train_test_split \\\n",
    "        (x_nparray, y_nparray, \n",
    "         test_size = charity_constants.NN_TEST_SIZE,\n",
    "         random_state = charity_constants.NN_RANDOM_STATE)\n",
    "\n",
    "logx.log_write_object(str(x_train_nparray) + '\\n\\n')\n",
    "\n",
    "logx.log_write_object(str(x_test_nparray) + '\\n\\n')\n",
    "\n",
    "logx.log_write_object(str(y_train_nparray) + '\\n\\n')\n",
    "\n",
    "logx.log_write_object(str(y_test_nparray) + '\\n\\n')"
   ]
  },
  {
   "cell_type": "markdown",
   "metadata": {},
   "source": [
    "## **3.2: Define and Set Hyperparameter Ranges**"
   ]
  },
  {
   "cell_type": "code",
   "execution_count": null,
   "metadata": {},
   "outputs": [],
   "source": [
    "hyperparameters_dictionary \\\n",
    "    = {'tuner_type': 'hyperband',\n",
    "       'best_model_count': 5,\n",
    "       'hyperband_iterations': 2,\n",
    "       'patience': 42,\n",
    "       'batch_size': 64,\n",
    "       'validation_split': 0.2,\n",
    "       'verbose': 'auto',\n",
    "       'max_epochs': 1000,\n",
    "       'restore_best_weights': True,\n",
    "       'activation_choice_list': ['selu'],\n",
    "       'input_features': len(x_train_nparray[0]),\n",
    "       'objective': 'val_accuracy',\n",
    "       'objective_direction': 'max',\n",
    "       'first_layer_units_range': (57, 57),\n",
    "       'first_units_step':1,\n",
    "       'first_dropout_range': (0.0, 0.01),\n",
    "       'first_dropout_step': 0.000001,\n",
    "       'first_dropout_sampling': 'linear',\n",
    "       'hidden_layers': 1,\n",
    "       'hidden_layer_units_range_list': \\\n",
    "           [(20, 20), (0, 0), (0, 0), (0, 0), (0, 0)],\n",
    "       'hidden_units_step': 1,\n",
    "       'hidden_dropout_range_list': \\\n",
    "           [(0.0, 0.001), (0.0, 0.0), (0.0, 0.0), (0.0, 0.0), (0.0, 0.0)],\n",
    "       'hidden_dropout_step': 0.01,\n",
    "       'hidden_dropout_sampling': 'linear',\n",
    "       'learning_rate_range': (0.0025815, 0.0025815),\n",
    "       'learning_rate_step': 0.000001,\n",
    "       'learning_sampling': 'linear',\n",
    "       'output_activation_choice_list': ['linear'],\n",
    "       'output_layer_units': 1,\n",
    "       'loss_choice_list': ['huber'],\n",
    "       'optimizer_choice_list': ['adamax'],\n",
    "       'metrics': 'accuracy'}\n",
    "\n",
    "deep_learningx.set_sequential_model_hyperparameters_dictionary(hyperparameters_dictionary)"
   ]
  },
  {
   "cell_type": "markdown",
   "metadata": {},
   "source": [
    "## **3.3: Find Optimal Model Hyperparameters**"
   ]
  },
  {
   "cell_type": "code",
   "execution_count": null,
   "metadata": {},
   "outputs": [],
   "source": [
    "best_models_dictionary_list \\\n",
    "    = deep_learningx.return_best_sequential_model_hyperparameters \\\n",
    "        (x_train_nparray, x_test_nparray, y_train_nparray, y_test_nparray)"
   ]
  },
  {
   "cell_type": "code",
   "execution_count": null,
   "metadata": {},
   "outputs": [],
   "source": [
    "list_length_integer = len(best_models_dictionary_list)\n",
    "\n",
    "for index, model in enumerate(best_models_dictionary_list):\n",
    "\n",
    "    logx.print_and_log_text \\\n",
    "        (f'MODEL #{index + 1}\\n'\n",
    "         + 'objective: ' + '{:.1f}%\\n'.format(model['objective'] * 100) \\\n",
    "         + 'loss: ' + '{:.1f}%\\n'.format(model['loss'] * 100) \\\n",
    "         + 'hyperparameters: ' + f\"{model['hyperparameters']}\\n\\n\")"
   ]
  },
  {
   "cell_type": "code",
   "execution_count": null,
   "metadata": {},
   "outputs": [],
   "source": [
    "# logx.end_program()"
   ]
  },
  {
   "cell_type": "code",
   "execution_count": null,
   "metadata": {},
   "outputs": [],
   "source": []
  }
 ],
 "metadata": {
  "accelerator": "GPU",
  "colab": {
   "authorship_tag": "ABX9TyOcjEZ+QQlWVAiyZ8sa4lid",
   "gpuType": "T4",
   "provenance": []
  },
  "kernelspec": {
   "display_name": "Python 3 (ipykernel)",
   "language": "python",
   "name": "python3"
  },
  "language_info": {
   "codemirror_mode": {
    "name": "ipython",
    "version": 3
   },
   "file_extension": ".py",
   "mimetype": "text/x-python",
   "name": "python",
   "nbconvert_exporter": "python",
   "pygments_lexer": "ipython3",
   "version": "3.11.7"
  }
 },
 "nbformat": 4,
 "nbformat_minor": 4
}
